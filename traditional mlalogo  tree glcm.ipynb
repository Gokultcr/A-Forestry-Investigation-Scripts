{
 "cells": [
  {
   "cell_type": "markdown",
   "id": "5f50384e",
   "metadata": {},
   "source": [
    "# Classification with different Machine learning algorithms (Traditional)"
   ]
  },
  {
   "cell_type": "markdown",
   "id": "fec69645",
   "metadata": {},
   "source": [
    "# importing libraries"
   ]
  },
  {
   "cell_type": "code",
   "execution_count": 1,
   "id": "f1f04f14",
   "metadata": {},
   "outputs": [],
   "source": [
    "import os\n",
    "import numpy as np\n",
    "import cv2\n",
    "import matplotlib.pyplot as plt\n",
    "import pickle\n",
    "import random\n",
    "from sklearn.model_selection import train_test_split\n",
    "from sklearn.svm import SVC\n",
    "from sklearn.metrics import accuracy_score\n",
    "import seaborn as sns\n",
    "import sklearn\n",
    "from sklearn.metrics import confusion_matrix\n",
    "import pandas as pd\n",
    "\n",
    "from sklearn.model_selection import GridSearchCV\n",
    "from pprint import pprint\n",
    "from sklearn.metrics import classification_report\n",
    "from skimage.feature import greycomatrix, greycoprops\n",
    "\n",
    "from sklearn.model_selection import StratifiedKFold"
   ]
  },
  {
   "cell_type": "markdown",
   "id": "94cba7c5",
   "metadata": {},
   "source": []
  },
  {
   "cell_type": "code",
   "execution_count": 2,
   "id": "8efecde4",
   "metadata": {},
   "outputs": [],
   "source": [
    "dire=\"D:/Individual_Trees_photos/exatctcrop\"\n",
    "categories= ['European beech', 'European silver fir', 'Norway spruce', 'Sessile oak']\n",
    "\n",
    "data =[]\n",
    "SIZE = 200\n",
    "images =[]\n",
    "label1 =[]\n",
    "for category in categories:\n",
    "    path = os.path.join(dire, category)\n",
    "    label = categories.index(category)\n",
    "    \n",
    "    \n",
    "    for img in os.listdir(path):\n",
    "        imgpath = os.path.join(path,img)\n",
    "        tree_img = cv2.imread(imgpath,0)\n",
    "        try:\n",
    "            tree_img = cv2.resize(tree_img, (SIZE, SIZE)) #Resize images\n",
    "            #tree_img = cv2.resize(tree_img,(50,50))\n",
    "            image = np.array(tree_img).flatten()\n",
    "        \n",
    "            #data.append([image, label])\n",
    "            images.append(tree_img)\n",
    "            label1.append(label)\n",
    "        except Exception as e:\n",
    "            pass\n",
    "images=np.array(images)   "
   ]
  },
  {
   "cell_type": "markdown",
   "id": "5291c408",
   "metadata": {},
   "source": []
  },
  {
   "cell_type": "code",
   "execution_count": 3,
   "id": "154454df",
   "metadata": {},
   "outputs": [],
   "source": [
    "# FEATURE EXTRACTOR function\n",
    "# input shape is (n, x, y, c) - number of images, x, y, and channels\n",
    "def feature_extractor(dataset):\n",
    "    image_dataset = pd.DataFrame()\n",
    "    for image in range(dataset.shape[0]):  #iterate through each file \n",
    "        #print(image)\n",
    "        \n",
    "        df = pd.DataFrame()  #Temporary data frame to capture information for each loop.\n",
    "        #Reset dataframe to blank after each loop.\n",
    "        \n",
    "        img = dataset[image, :,:]\n",
    "        \n",
    "        #Full image\n",
    "        #GLCM = greycomatrix(img, [1], [0, np.pi/4, np.pi/2, 3*np.pi/4])\n",
    "        GLCM = greycomatrix(img, [1], [0])       \n",
    "        GLCM_Energy = greycoprops(GLCM, 'energy')[0]\n",
    "        df['Energy'] = GLCM_Energy\n",
    "        GLCM_corr = greycoprops(GLCM, 'correlation')[0]\n",
    "        df['Corr'] = GLCM_corr       \n",
    "        GLCM_diss = greycoprops(GLCM, 'dissimilarity')[0]\n",
    "        df['Diss_sim'] = GLCM_diss       \n",
    "        GLCM_hom = greycoprops(GLCM, 'homogeneity')[0]\n",
    "        df['Homogen'] = GLCM_hom       \n",
    "        GLCM_contr = greycoprops(GLCM, 'contrast')[0]\n",
    "        df['Contrast'] = GLCM_contr\n",
    "        \n",
    "        GLCM2 = greycomatrix(img, [3], [0])       \n",
    "        GLCM_Energy2 = greycoprops(GLCM2, 'energy')[0]\n",
    "        df['Energy2'] = GLCM_Energy2\n",
    "        GLCM_corr2 = greycoprops(GLCM2, 'correlation')[0]\n",
    "        df['Corr2'] = GLCM_corr2       \n",
    "        GLCM_diss2 = greycoprops(GLCM2, 'dissimilarity')[0]\n",
    "        df['Diss_sim2'] = GLCM_diss2       \n",
    "        GLCM_hom2 = greycoprops(GLCM2, 'homogeneity')[0]\n",
    "        df['Homogen2'] = GLCM_hom2       \n",
    "        GLCM_contr2 = greycoprops(GLCM2, 'contrast')[0]\n",
    "        df['Contrast2'] = GLCM_contr2\n",
    "\n",
    "        GLCM3 = greycomatrix(img, [5], [0])       \n",
    "        GLCM_Energy3 = greycoprops(GLCM3, 'energy')[0]\n",
    "        df['Energy3'] = GLCM_Energy3\n",
    "        GLCM_corr3 = greycoprops(GLCM3, 'correlation')[0]\n",
    "        df['Corr3'] = GLCM_corr3       \n",
    "        GLCM_diss3 = greycoprops(GLCM3, 'dissimilarity')[0]\n",
    "        df['Diss_sim3'] = GLCM_diss3       \n",
    "        GLCM_hom3 = greycoprops(GLCM3, 'homogeneity')[0]\n",
    "        df['Homogen3'] = GLCM_hom3       \n",
    "        GLCM_contr3 = greycoprops(GLCM3, 'contrast')[0]\n",
    "        df['Contrast3'] = GLCM_contr3\n",
    "        \n",
    "        GLCM4 = greycomatrix(img, [0], [np.pi/4])       \n",
    "        GLCM_Energy4 = greycoprops(GLCM4, 'energy')[0]\n",
    "        df['Energy4'] = GLCM_Energy4\n",
    "        GLCM_corr4 = greycoprops(GLCM4, 'correlation')[0]\n",
    "        df['Corr4'] = GLCM_corr4       \n",
    "        GLCM_diss4 = greycoprops(GLCM4, 'dissimilarity')[0]\n",
    "        df['Diss_sim4'] = GLCM_diss4       \n",
    "        GLCM_hom4 = greycoprops(GLCM4, 'homogeneity')[0]\n",
    "        df['Homogen4'] = GLCM_hom4       \n",
    "        GLCM_contr4 = greycoprops(GLCM4, 'contrast')[0]\n",
    "        df['Contrast4'] = GLCM_contr4\n",
    "        \n",
    "        GLCM5 = greycomatrix(img, [0], [np.pi/2])       \n",
    "        GLCM_Energy5 = greycoprops(GLCM5, 'energy')[0]\n",
    "        df['Energy5'] = GLCM_Energy5\n",
    "        GLCM_corr5 = greycoprops(GLCM5, 'correlation')[0]\n",
    "        df['Corr5'] = GLCM_corr5       \n",
    "        GLCM_diss5 = greycoprops(GLCM5, 'dissimilarity')[0]\n",
    "        df['Diss_sim5'] = GLCM_diss5       \n",
    "        GLCM_hom5 = greycoprops(GLCM5, 'homogeneity')[0]\n",
    "        df['Homogen5'] = GLCM_hom5       \n",
    "        GLCM_contr5 = greycoprops(GLCM5, 'contrast')[0]\n",
    "        df['Contrast5'] = GLCM_contr5\n",
    "        \n",
    "        #Add more filters as needed\n",
    "        #entropy = shannon_entropy(img)\n",
    "        #df['Entropy'] = entropy\n",
    "\n",
    "        \n",
    "        #Append features from current image to the dataset\n",
    "        image_dataset = image_dataset.append(df)\n",
    "        \n",
    "    return image_dataset"
   ]
  },
  {
   "cell_type": "code",
   "execution_count": 4,
   "id": "c574feec",
   "metadata": {},
   "outputs": [],
   "source": [
    "#Extract features from images\n",
    "image_features = feature_extractor(images)\n",
    "X_for_ML =image_features\n"
   ]
  },
  {
   "cell_type": "markdown",
   "id": "667c74ea",
   "metadata": {},
   "source": [
    "# Train and test data split "
   ]
  },
  {
   "cell_type": "code",
   "execution_count": 5,
   "id": "165a9768",
   "metadata": {},
   "outputs": [],
   "source": [
    "#train test\n",
    "\n",
    "xtrain, xtest, ytrain, ytest = train_test_split(X_for_ML, label1, test_size =0.25)"
   ]
  },
  {
   "cell_type": "markdown",
   "id": "00750d7a",
   "metadata": {},
   "source": [
    "# Machine learning Algorithms"
   ]
  },
  {
   "cell_type": "markdown",
   "id": "33724192",
   "metadata": {},
   "source": [
    "## Random Forest Classifier"
   ]
  },
  {
   "cell_type": "code",
   "execution_count": 6,
   "id": "5352cb64",
   "metadata": {},
   "outputs": [
    {
     "data": {
      "text/plain": [
       "RandomForestClassifier(n_estimators=40)"
      ]
     },
     "execution_count": 6,
     "metadata": {},
     "output_type": "execute_result"
    }
   ],
   "source": [
    "from sklearn.ensemble import RandomForestClassifier\n",
    "classifier = RandomForestClassifier(n_estimators = 40)\n",
    "classifier.fit(xtrain, ytrain)\n"
   ]
  },
  {
   "cell_type": "code",
   "execution_count": 7,
   "id": "efa05e65",
   "metadata": {},
   "outputs": [
    {
     "name": "stdout",
     "output_type": "stream",
     "text": [
      "              precision    recall  f1-score   support\n",
      "\n",
      "           0       0.97      1.00      0.98        29\n",
      "           1       0.88      0.81      0.85        27\n",
      "           2       0.82      0.85      0.84        33\n",
      "           3       0.91      0.91      0.91        43\n",
      "\n",
      "    accuracy                           0.89       132\n",
      "   macro avg       0.89      0.89      0.89       132\n",
      "weighted avg       0.89      0.89      0.89       132\n",
      "\n"
     ]
    }
   ],
   "source": [
    "from sklearn.metrics import classification_report\n",
    "predictions = classifier.predict(xtest)\n",
    "print (classification_report(ytest, predictions))"
   ]
  },
  {
   "cell_type": "code",
   "execution_count": 8,
   "id": "30b7e20e",
   "metadata": {},
   "outputs": [
    {
     "data": {
      "text/plain": [
       "<AxesSubplot:>"
      ]
     },
     "execution_count": 8,
     "metadata": {},
     "output_type": "execute_result"
    },
    {
     "data": {
      "image/png": "[encoded data removed]",
      "text/plain": [
       "<Figure size 432x288 with 2 Axes>"
      ]
     },
     "metadata": {
      "needs_background": "light"
     },
     "output_type": "display_data"
    }
   ],
   "source": [
    "matrix= confusion_matrix(ytest, predictions)\n",
    "\n",
    "sns.heatmap(matrix,annot = True, fmt = \"d\")"
   ]
  },
  {
   "cell_type": "code",
   "execution_count": 9,
   "id": "42f76fae",
   "metadata": {},
   "outputs": [
    {
     "name": "stdout",
     "output_type": "stream",
     "text": [
      "Accuracy: 0.803030303030303\n",
      "Accuracy: 0.8787878787878788\n",
      "Accuracy: 0.8257575757575758\n",
      "Accuracy: 0.8257575757575758\n",
      "Accuracy: 0.8484848484848485\n",
      "Accuracy: 0.7878787878787878\n",
      "Accuracy: 0.8863636363636364\n",
      "Accuracy: 0.8636363636363636\n",
      "Accuracy: 0.8484848484848485\n",
      "Accuracy: 0.9090909090909091\n",
      "Accuracy: 0.8712121212121212\n",
      "Accuracy: 0.8181818181818182\n",
      "Accuracy: 0.8484848484848485\n",
      "Accuracy: 0.8712121212121212\n",
      "Accuracy: 0.8712121212121212\n",
      "Accuracy: 0.8636363636363636\n",
      "Accuracy: 0.8787878787878788\n",
      "Accuracy: 0.8181818181818182\n",
      "Accuracy: 0.9015151515151515\n",
      "Accuracy: 0.8787878787878788\n",
      "Accuracy: 0.7954545454545454\n",
      "Accuracy: 0.8787878787878788\n",
      "Accuracy: 0.8636363636363636\n",
      "Accuracy: 0.8712121212121212\n",
      "Accuracy: 0.9166666666666666\n",
      "Accuracy: 0.8560606060606061\n",
      "Accuracy: 0.8712121212121212\n",
      "Accuracy: 0.8409090909090909\n",
      "Accuracy: 0.8712121212121212\n",
      "Accuracy: 0.8636363636363636\n",
      "Accuracy: 0.8560606060606061\n",
      "Accuracy: 0.8863636363636364\n",
      "Accuracy: 0.8863636363636364\n",
      "Accuracy: 0.9015151515151515\n",
      "Accuracy: 0.8181818181818182\n",
      "Accuracy: 0.8636363636363636\n",
      "Accuracy: 0.7954545454545454\n",
      "Accuracy: 0.8863636363636364\n",
      "Accuracy: 0.8333333333333334\n",
      "Accuracy: 0.8560606060606061\n",
      "Accuracy: 0.7878787878787878\n",
      "Accuracy: 0.9166666666666666\n",
      "Accuracy: 0.8939393939393939\n",
      "Accuracy: 0.8939393939393939\n",
      "Accuracy: 0.8712121212121212\n",
      "Accuracy: 0.7954545454545454\n",
      "Accuracy: 0.9166666666666666\n",
      "Accuracy: 0.8409090909090909\n",
      "Accuracy: 0.8787878787878788\n",
      "Accuracy: 0.8787878787878788\n",
      "Accuracy: 0.8636363636363636\n",
      "Accuracy: 0.8484848484848485\n",
      "Accuracy: 0.9090909090909091\n",
      "Accuracy: 0.8787878787878788\n",
      "Accuracy: 0.8939393939393939\n",
      "Accuracy: 0.8863636363636364\n",
      "Accuracy: 0.8333333333333334\n",
      "Accuracy: 0.8106060606060606\n",
      "Accuracy: 0.8939393939393939\n",
      "Accuracy: 0.8560606060606061\n",
      "Accuracy: 0.8560606060606061\n",
      "Accuracy: 0.9015151515151515\n",
      "Accuracy: 0.8181818181818182\n",
      "Accuracy: 0.8257575757575758\n",
      "Accuracy: 0.8484848484848485\n",
      "Accuracy: 0.8863636363636364\n",
      "Accuracy: 0.8712121212121212\n",
      "Accuracy: 0.8712121212121212\n",
      "Accuracy: 0.8484848484848485\n",
      "Accuracy: 0.8712121212121212\n",
      "Accuracy: 0.8409090909090909\n",
      "Accuracy: 0.8409090909090909\n",
      "Accuracy: 0.8106060606060606\n",
      "Accuracy: 0.8257575757575758\n",
      "Accuracy: 0.7954545454545454\n",
      "Accuracy: 0.8560606060606061\n",
      "Accuracy: 0.8939393939393939\n",
      "Accuracy: 0.8409090909090909\n",
      "Accuracy: 0.8484848484848485\n",
      "Accuracy: 0.8333333333333334\n",
      "Accuracy: 0.9015151515151515\n",
      "Accuracy: 0.8939393939393939\n",
      "Accuracy: 0.8787878787878788\n",
      "Accuracy: 0.8636363636363636\n",
      "Accuracy: 0.8560606060606061\n",
      "Accuracy: 0.8333333333333334\n",
      "Accuracy: 0.8863636363636364\n",
      "Accuracy: 0.9090909090909091\n",
      "Accuracy: 0.9015151515151515\n",
      "Accuracy: 0.8636363636363636\n",
      "Accuracy: 0.8787878787878788\n",
      "Accuracy: 0.8484848484848485\n",
      "Accuracy: 0.8181818181818182\n",
      "Accuracy: 0.8409090909090909\n",
      "Accuracy: 0.8106060606060606\n",
      "Accuracy: 0.8712121212121212\n",
      "Accuracy: 0.8409090909090909\n",
      "Accuracy: 0.8863636363636364\n",
      "Accuracy: 0.8484848484848485\n",
      "Accuracy: 0.8560606060606061\n",
      "Accuracy: 0.9090909090909091\n",
      "Accuracy: 0.9090909090909091\n",
      "Accuracy: 0.9090909090909091\n",
      "Accuracy: 0.8939393939393939\n",
      "Accuracy: 0.8787878787878788\n",
      "Accuracy: 0.8560606060606061\n",
      "Accuracy: 0.8560606060606061\n",
      "Accuracy: 0.8712121212121212\n",
      "Accuracy: 0.8257575757575758\n",
      "Accuracy: 0.8636363636363636\n",
      "Accuracy: 0.9090909090909091\n",
      "Accuracy: 0.8409090909090909\n",
      "Accuracy: 0.8939393939393939\n",
      "Accuracy: 0.8257575757575758\n",
      "Accuracy: 0.8712121212121212\n",
      "Accuracy: 0.8939393939393939\n",
      "Accuracy: 0.8863636363636364\n",
      "Accuracy: 0.8863636363636364\n",
      "Accuracy: 0.8863636363636364\n",
      "Accuracy: 0.8787878787878788\n",
      "Accuracy: 0.9015151515151515\n",
      "Accuracy: 0.8863636363636364\n",
      "Accuracy: 0.8484848484848485\n",
      "Accuracy: 0.8712121212121212\n",
      "Accuracy: 0.8257575757575758\n",
      "Accuracy: 0.8787878787878788\n",
      "Accuracy: 0.803030303030303\n",
      "Accuracy: 0.8636363636363636\n",
      "Accuracy: 0.8484848484848485\n",
      "Accuracy: 0.8863636363636364\n",
      "Accuracy: 0.8333333333333334\n",
      "Accuracy: 0.8560606060606061\n",
      "Accuracy: 0.8560606060606061\n",
      "Accuracy: 0.9090909090909091\n",
      "Accuracy: 0.8787878787878788\n",
      "Accuracy: 0.8863636363636364\n",
      "Accuracy: 0.8863636363636364\n",
      "Accuracy: 0.8106060606060606\n",
      "Accuracy: 0.8863636363636364\n",
      "Accuracy: 0.8712121212121212\n",
      "Accuracy: 0.8560606060606061\n",
      "Accuracy: 0.9015151515151515\n",
      "Accuracy: 0.9015151515151515\n",
      "Accuracy: 0.8560606060606061\n",
      "Accuracy: 0.8636363636363636\n",
      "Accuracy: 0.8636363636363636\n",
      "Accuracy: 0.8409090909090909\n",
      "Accuracy: 0.8333333333333334\n",
      "Accuracy: 0.8409090909090909\n",
      "Accuracy: 0.8787878787878788\n",
      "Accuracy: 0.8636363636363636\n",
      "Accuracy: 0.7803030303030303\n",
      "Accuracy: 0.8333333333333334\n",
      "Accuracy: 0.8409090909090909\n",
      "Accuracy: 0.8636363636363636\n",
      "Accuracy: 0.7878787878787878\n",
      "Accuracy: 0.9166666666666666\n",
      "Accuracy: 0.8333333333333334\n",
      "Accuracy: 0.8636363636363636\n",
      "Accuracy: 0.8409090909090909\n",
      "Accuracy: 0.8560606060606061\n",
      "Accuracy: 0.8787878787878788\n",
      "Accuracy: 0.9166666666666666\n",
      "Accuracy: 0.8787878787878788\n",
      "Accuracy: 0.8333333333333334\n",
      "Accuracy: 0.8106060606060606\n",
      "Accuracy: 0.9242424242424242\n",
      "Accuracy: 0.8409090909090909\n",
      "Accuracy: 0.8863636363636364\n",
      "Accuracy: 0.8863636363636364\n",
      "Accuracy: 0.8712121212121212\n",
      "Accuracy: 0.8636363636363636\n",
      "Accuracy: 0.8787878787878788\n",
      "Accuracy: 0.8636363636363636\n",
      "Accuracy: 0.8484848484848485\n",
      "Accuracy: 0.8181818181818182\n",
      "Accuracy: 0.8560606060606061\n",
      "Accuracy: 0.8939393939393939\n",
      "Accuracy: 0.8409090909090909\n",
      "Accuracy: 0.8484848484848485\n",
      "Accuracy: 0.9242424242424242\n",
      "Accuracy: 0.8712121212121212\n",
      "Accuracy: 0.9090909090909091\n",
      "Accuracy: 0.8712121212121212\n",
      "Accuracy: 0.8787878787878788\n",
      "Accuracy: 0.8333333333333334\n",
      "Accuracy: 0.9090909090909091\n",
      "Accuracy: 0.8560606060606061\n",
      "Accuracy: 0.7803030303030303\n",
      "Accuracy: 0.8409090909090909\n",
      "Accuracy: 0.8257575757575758\n",
      "Accuracy: 0.8257575757575758\n",
      "Accuracy: 0.8484848484848485\n",
      "Accuracy: 0.8333333333333334\n",
      "Accuracy: 0.8484848484848485\n",
      "Accuracy: 0.8409090909090909\n",
      "Accuracy: 0.8560606060606061\n",
      "Accuracy: 0.8560606060606061\n",
      "Accuracy: 0.8560606060606061\n",
      "Accuracy: 0.8409090909090909\n",
      "Highest Accuracy: 0.9242424242424242\n"
     ]
    }
   ],
   "source": [
    "# Train model multiple times to find the highest accuracy\n",
    "best = 0\n",
    "for _ in range(200):\n",
    "    xtrain, xtest, ytrain, ytest = sklearn.model_selection.train_test_split(X_for_ML, label1, test_size =0.25)\n",
    "\n",
    "    classifier = RandomForestClassifier(n_estimators = 40)\n",
    "    classifier.fit(xtrain, ytrain)\n",
    "\n",
    "    \n",
    "    acc = classifier.score(xtest, ytest)\n",
    "    print(\"Accuracy: \" + str(acc))\n",
    "\n",
    "    # Save the highest accuracy\n",
    "    if (acc > best):\n",
    "        best = acc\n",
    "       \n",
    "print(\"Highest Accuracy:\", best)"
   ]
  },
  {
   "cell_type": "markdown",
   "id": "2f0c8af6",
   "metadata": {},
   "source": [
    "## K-Neighbors "
   ]
  },
  {
   "cell_type": "code",
   "execution_count": 10,
   "id": "a9a60042",
   "metadata": {},
   "outputs": [
    {
     "data": {
      "image/png": "[encoded data removed]",
      "text/plain": [
       "<Figure size 432x288 with 1 Axes>"
      ]
     },
     "metadata": {
      "needs_background": "light"
     },
     "output_type": "display_data"
    }
   ],
   "source": [
    "from sklearn.neighbors import KNeighborsClassifier\n",
    "\n",
    "training_accuracy = []\n",
    "test_accuracy = []\n",
    "# try n_neighbors from 1 to 10\n",
    "neighbors_settings = range(1, 11)\n",
    "\n",
    "for n_neighbors in neighbors_settings:\n",
    "    # build the model\n",
    "    knn = KNeighborsClassifier(n_neighbors=n_neighbors)\n",
    "    knn.fit(xtrain, ytrain)\n",
    "    # record training set accuracy\n",
    "    training_accuracy.append(knn.score(xtrain, ytrain))\n",
    "    # record test set accuracy\n",
    "    test_accuracy.append(knn.score(xtest, ytest))\n",
    "\n",
    "plt.plot(neighbors_settings, training_accuracy, label=\"training accuracy\")\n",
    "plt.plot(neighbors_settings, test_accuracy, label=\"test accuracy\")\n",
    "plt.ylabel(\"Accuracy\")\n",
    "plt.xlabel(\"n_neighbors\")\n",
    "plt.legend()\n",
    "plt.savefig('knn_compare_model')"
   ]
  },
  {
   "cell_type": "code",
   "execution_count": 11,
   "id": "4f61442e",
   "metadata": {},
   "outputs": [
    {
     "name": "stdout",
     "output_type": "stream",
     "text": [
      "Accuracy of K-NN classifier on training set: 0.75\n",
      "Accuracy of K-NN classifier on test set: 0.67\n"
     ]
    }
   ],
   "source": [
    "knn = KNeighborsClassifier(n_neighbors=7)\n",
    "knn.fit(xtrain, ytrain)\n",
    "\n",
    "print('Accuracy of K-NN classifier on training set: {:.2f}'.format(knn.score(xtrain, ytrain)))\n",
    "print('Accuracy of K-NN classifier on test set: {:.2f}'.format(knn.score(xtest, ytest)))"
   ]
  },
  {
   "cell_type": "code",
   "execution_count": 12,
   "id": "3fef09e9",
   "metadata": {},
   "outputs": [
    {
     "name": "stdout",
     "output_type": "stream",
     "text": [
      "              precision    recall  f1-score   support\n",
      "\n",
      "           0       0.94      1.00      0.97        34\n",
      "           1       0.44      0.32      0.37        25\n",
      "           2       0.61      0.65      0.62        31\n",
      "           3       0.58      0.62      0.60        42\n",
      "\n",
      "    accuracy                           0.67       132\n",
      "   macro avg       0.64      0.65      0.64       132\n",
      "weighted avg       0.65      0.67      0.66       132\n",
      "\n"
     ]
    }
   ],
   "source": [
    "predictions1 = knn.predict(xtest)\n",
    "print (classification_report(ytest, predictions1))"
   ]
  },
  {
   "cell_type": "code",
   "execution_count": 13,
   "id": "7f41303a",
   "metadata": {},
   "outputs": [
    {
     "name": "stdout",
     "output_type": "stream",
     "text": [
      "Accuracy: 0.6515151515151515\n",
      "Accuracy: 0.6742424242424242\n",
      "Accuracy: 0.6742424242424242\n",
      "Accuracy: 0.6439393939393939\n",
      "Accuracy: 0.6742424242424242\n",
      "Accuracy: 0.6287878787878788\n",
      "Accuracy: 0.6590909090909091\n",
      "Accuracy: 0.6818181818181818\n",
      "Accuracy: 0.6893939393939394\n",
      "Accuracy: 0.6439393939393939\n",
      "Accuracy: 0.7424242424242424\n",
      "Accuracy: 0.6439393939393939\n",
      "Accuracy: 0.5833333333333334\n",
      "Accuracy: 0.6515151515151515\n",
      "Accuracy: 0.7045454545454546\n",
      "Accuracy: 0.696969696969697\n",
      "Accuracy: 0.6818181818181818\n",
      "Accuracy: 0.696969696969697\n",
      "Accuracy: 0.696969696969697\n",
      "Accuracy: 0.6439393939393939\n",
      "Accuracy: 0.6515151515151515\n",
      "Accuracy: 0.6060606060606061\n",
      "Accuracy: 0.6742424242424242\n",
      "Accuracy: 0.6363636363636364\n",
      "Accuracy: 0.6590909090909091\n",
      "Accuracy: 0.7424242424242424\n",
      "Accuracy: 0.6363636363636364\n",
      "Accuracy: 0.696969696969697\n",
      "Accuracy: 0.6893939393939394\n",
      "Accuracy: 0.7045454545454546\n",
      "Accuracy: 0.6818181818181818\n",
      "Accuracy: 0.6136363636363636\n",
      "Accuracy: 0.6893939393939394\n",
      "Accuracy: 0.6136363636363636\n",
      "Accuracy: 0.6212121212121212\n",
      "Accuracy: 0.6212121212121212\n",
      "Accuracy: 0.7045454545454546\n",
      "Accuracy: 0.6060606060606061\n",
      "Accuracy: 0.6212121212121212\n",
      "Accuracy: 0.6742424242424242\n",
      "Accuracy: 0.6818181818181818\n",
      "Accuracy: 0.6742424242424242\n",
      "Accuracy: 0.6818181818181818\n",
      "Accuracy: 0.6893939393939394\n",
      "Accuracy: 0.7045454545454546\n",
      "Accuracy: 0.6893939393939394\n",
      "Accuracy: 0.6818181818181818\n",
      "Accuracy: 0.7121212121212122\n",
      "Accuracy: 0.7196969696969697\n",
      "Accuracy: 0.5984848484848485\n",
      "Accuracy: 0.7045454545454546\n",
      "Accuracy: 0.7121212121212122\n",
      "Accuracy: 0.6818181818181818\n",
      "Accuracy: 0.6590909090909091\n",
      "Accuracy: 0.6439393939393939\n",
      "Accuracy: 0.6666666666666666\n",
      "Accuracy: 0.7121212121212122\n",
      "Accuracy: 0.6363636363636364\n",
      "Accuracy: 0.6363636363636364\n",
      "Accuracy: 0.6363636363636364\n",
      "Accuracy: 0.7045454545454546\n",
      "Accuracy: 0.7196969696969697\n",
      "Accuracy: 0.7045454545454546\n",
      "Accuracy: 0.6666666666666666\n",
      "Accuracy: 0.7045454545454546\n",
      "Accuracy: 0.6666666666666666\n",
      "Accuracy: 0.6515151515151515\n",
      "Accuracy: 0.6439393939393939\n",
      "Accuracy: 0.696969696969697\n",
      "Accuracy: 0.6742424242424242\n",
      "Accuracy: 0.6439393939393939\n",
      "Accuracy: 0.6212121212121212\n",
      "Accuracy: 0.6893939393939394\n",
      "Accuracy: 0.7121212121212122\n",
      "Accuracy: 0.6818181818181818\n",
      "Accuracy: 0.6287878787878788\n",
      "Accuracy: 0.6363636363636364\n",
      "Accuracy: 0.6818181818181818\n",
      "Accuracy: 0.6893939393939394\n",
      "Accuracy: 0.6590909090909091\n",
      "Accuracy: 0.7121212121212122\n",
      "Accuracy: 0.6590909090909091\n",
      "Accuracy: 0.6893939393939394\n",
      "Accuracy: 0.6136363636363636\n",
      "Accuracy: 0.6742424242424242\n",
      "Accuracy: 0.6818181818181818\n",
      "Accuracy: 0.696969696969697\n",
      "Accuracy: 0.696969696969697\n",
      "Accuracy: 0.6212121212121212\n",
      "Accuracy: 0.6287878787878788\n",
      "Accuracy: 0.6287878787878788\n",
      "Accuracy: 0.6363636363636364\n",
      "Accuracy: 0.6742424242424242\n",
      "Accuracy: 0.6893939393939394\n",
      "Accuracy: 0.6742424242424242\n",
      "Accuracy: 0.6742424242424242\n",
      "Accuracy: 0.6136363636363636\n",
      "Accuracy: 0.6666666666666666\n",
      "Accuracy: 0.6893939393939394\n",
      "Accuracy: 0.6212121212121212\n",
      "Accuracy: 0.6060606060606061\n",
      "Accuracy: 0.6363636363636364\n",
      "Accuracy: 0.7954545454545454\n",
      "Accuracy: 0.6212121212121212\n",
      "Accuracy: 0.5984848484848485\n",
      "Accuracy: 0.6439393939393939\n",
      "Accuracy: 0.6287878787878788\n",
      "Accuracy: 0.6363636363636364\n",
      "Accuracy: 0.6515151515151515\n",
      "Accuracy: 0.6363636363636364\n",
      "Accuracy: 0.7045454545454546\n",
      "Accuracy: 0.6818181818181818\n",
      "Accuracy: 0.6818181818181818\n",
      "Accuracy: 0.696969696969697\n",
      "Accuracy: 0.5984848484848485\n",
      "Accuracy: 0.6515151515151515\n",
      "Accuracy: 0.6439393939393939\n",
      "Accuracy: 0.6666666666666666\n",
      "Accuracy: 0.7045454545454546\n",
      "Accuracy: 0.7272727272727273\n",
      "Accuracy: 0.6439393939393939\n",
      "Accuracy: 0.7045454545454546\n",
      "Accuracy: 0.6742424242424242\n",
      "Accuracy: 0.6287878787878788\n",
      "Accuracy: 0.696969696969697\n",
      "Accuracy: 0.6742424242424242\n",
      "Accuracy: 0.6590909090909091\n",
      "Accuracy: 0.6742424242424242\n",
      "Accuracy: 0.6515151515151515\n",
      "Accuracy: 0.6818181818181818\n",
      "Accuracy: 0.7045454545454546\n",
      "Accuracy: 0.6818181818181818\n",
      "Accuracy: 0.7272727272727273\n",
      "Accuracy: 0.6818181818181818\n",
      "Accuracy: 0.6590909090909091\n",
      "Accuracy: 0.6742424242424242\n",
      "Accuracy: 0.7045454545454546\n",
      "Accuracy: 0.6742424242424242\n",
      "Accuracy: 0.6818181818181818\n",
      "Accuracy: 0.6666666666666666\n",
      "Accuracy: 0.7196969696969697\n",
      "Accuracy: 0.6893939393939394\n",
      "Accuracy: 0.6818181818181818\n",
      "Accuracy: 0.696969696969697\n",
      "Accuracy: 0.6515151515151515\n",
      "Accuracy: 0.6287878787878788\n",
      "Accuracy: 0.6590909090909091\n",
      "Accuracy: 0.6742424242424242\n",
      "Accuracy: 0.7348484848484849\n",
      "Accuracy: 0.6742424242424242\n",
      "Accuracy: 0.6742424242424242\n",
      "Accuracy: 0.6363636363636364\n",
      "Accuracy: 0.7196969696969697\n",
      "Accuracy: 0.6136363636363636\n",
      "Accuracy: 0.6590909090909091\n",
      "Accuracy: 0.6060606060606061\n",
      "Accuracy: 0.553030303030303\n",
      "Accuracy: 0.7196969696969697\n",
      "Accuracy: 0.7121212121212122\n",
      "Accuracy: 0.7121212121212122\n",
      "Accuracy: 0.7196969696969697\n",
      "Accuracy: 0.6515151515151515\n",
      "Accuracy: 0.7045454545454546\n",
      "Accuracy: 0.6287878787878788\n",
      "Accuracy: 0.6439393939393939\n",
      "Accuracy: 0.5909090909090909\n",
      "Accuracy: 0.6893939393939394\n",
      "Accuracy: 0.7348484848484849\n",
      "Accuracy: 0.6590909090909091\n",
      "Accuracy: 0.6363636363636364\n",
      "Accuracy: 0.6818181818181818\n",
      "Accuracy: 0.6666666666666666\n",
      "Accuracy: 0.6212121212121212\n",
      "Accuracy: 0.6515151515151515\n",
      "Accuracy: 0.7045454545454546\n",
      "Accuracy: 0.6363636363636364\n",
      "Accuracy: 0.6515151515151515\n",
      "Accuracy: 0.6363636363636364\n",
      "Accuracy: 0.7272727272727273\n",
      "Accuracy: 0.6818181818181818\n",
      "Accuracy: 0.7196969696969697\n",
      "Accuracy: 0.6818181818181818\n",
      "Accuracy: 0.6818181818181818\n",
      "Accuracy: 0.6590909090909091\n",
      "Accuracy: 0.7424242424242424\n",
      "Accuracy: 0.6590909090909091\n",
      "Accuracy: 0.6818181818181818\n",
      "Accuracy: 0.7045454545454546\n",
      "Accuracy: 0.6893939393939394\n",
      "Accuracy: 0.6742424242424242\n",
      "Accuracy: 0.6363636363636364\n",
      "Accuracy: 0.7121212121212122\n",
      "Accuracy: 0.6818181818181818\n",
      "Accuracy: 0.5984848484848485\n",
      "Accuracy: 0.6590909090909091\n",
      "Accuracy: 0.6893939393939394\n",
      "Accuracy: 0.6287878787878788\n",
      "Accuracy: 0.6666666666666666\n",
      "Accuracy: 0.6893939393939394\n",
      "Accuracy: 0.696969696969697\n",
      "Highest Accuracy: 0.7954545454545454\n"
     ]
    }
   ],
   "source": [
    "# Train model multiple times to find the highest accuracy\n",
    "best = 0\n",
    "for _ in range(200):\n",
    "    xtrain, xtest, ytrain, ytest = sklearn.model_selection.train_test_split(X_for_ML, label1, test_size =0.25)\n",
    "\n",
    "    knn = KNeighborsClassifier(n_neighbors=7)\n",
    "    knn.fit(xtrain, ytrain)\n",
    "\n",
    "    \n",
    "    acc = knn.score(xtest, ytest)\n",
    "    print(\"Accuracy: \" + str(acc))\n",
    "\n",
    "    # Save the highest accuracy\n",
    "    if (acc > best):\n",
    "        best = acc\n",
    "#         with open(\"data1.pickle\", \"wb\") as f:\n",
    "#             pickle.dump(knn, f)\n",
    "print(\"Highest Accuracy:\", best)"
   ]
  },
  {
   "cell_type": "markdown",
   "id": "d2be37ea",
   "metadata": {},
   "source": [
    "# Decision Tree"
   ]
  },
  {
   "cell_type": "code",
   "execution_count": 14,
   "id": "57aa5125",
   "metadata": {},
   "outputs": [
    {
     "name": "stdout",
     "output_type": "stream",
     "text": [
      "Accuracy on training set: 1.000\n",
      "Accuracy on test set: 0.841\n"
     ]
    }
   ],
   "source": [
    "from sklearn.tree import DecisionTreeClassifier\n",
    "\n",
    "tree = DecisionTreeClassifier(random_state=0)\n",
    "tree.fit(xtrain, ytrain)\n",
    "print(\"Accuracy on training set: {:.3f}\".format(tree.score(xtrain, ytrain)))\n",
    "print(\"Accuracy on test set: {:.3f}\".format(tree.score(xtest, ytest)))"
   ]
  },
  {
   "cell_type": "code",
   "execution_count": 15,
   "id": "52ca49a9",
   "metadata": {},
   "outputs": [
    {
     "name": "stdout",
     "output_type": "stream",
     "text": [
      "Accuracy on training set: 0.828\n",
      "Accuracy on test set: 0.795\n"
     ]
    }
   ],
   "source": [
    "tree = DecisionTreeClassifier(max_depth=4, random_state=1)\n",
    "tree.fit(xtrain, ytrain)\n",
    "\n",
    "print(\"Accuracy on training set: {:.3f}\".format(tree.score(xtrain, ytrain)))\n",
    "print(\"Accuracy on test set: {:.3f}\".format(tree.score(xtest, ytest)))\n"
   ]
  },
  {
   "cell_type": "code",
   "execution_count": 16,
   "id": "c4d9e9ac",
   "metadata": {},
   "outputs": [
    {
     "name": "stdout",
     "output_type": "stream",
     "text": [
      "Accuracy: 0.803030303030303\n",
      "Accuracy: 0.803030303030303\n",
      "Accuracy: 0.7651515151515151\n",
      "Accuracy: 0.7575757575757576\n",
      "Accuracy: 0.7424242424242424\n",
      "Accuracy: 0.7196969696969697\n",
      "Accuracy: 0.7348484848484849\n",
      "Accuracy: 0.6742424242424242\n",
      "Accuracy: 0.696969696969697\n",
      "Accuracy: 0.7348484848484849\n",
      "Accuracy: 0.75\n",
      "Accuracy: 0.7196969696969697\n",
      "Accuracy: 0.7803030303030303\n",
      "Accuracy: 0.7727272727272727\n",
      "Accuracy: 0.8181818181818182\n",
      "Accuracy: 0.7045454545454546\n",
      "Accuracy: 0.6439393939393939\n",
      "Accuracy: 0.7348484848484849\n",
      "Accuracy: 0.75\n",
      "Accuracy: 0.7727272727272727\n",
      "Accuracy: 0.7424242424242424\n",
      "Accuracy: 0.7954545454545454\n",
      "Accuracy: 0.7575757575757576\n",
      "Accuracy: 0.75\n",
      "Accuracy: 0.7727272727272727\n",
      "Accuracy: 0.7348484848484849\n",
      "Accuracy: 0.7424242424242424\n",
      "Accuracy: 0.7803030303030303\n",
      "Accuracy: 0.8257575757575758\n",
      "Accuracy: 0.7272727272727273\n",
      "Accuracy: 0.7575757575757576\n",
      "Accuracy: 0.7727272727272727\n",
      "Accuracy: 0.6666666666666666\n",
      "Accuracy: 0.8181818181818182\n",
      "Accuracy: 0.7651515151515151\n",
      "Accuracy: 0.7121212121212122\n",
      "Accuracy: 0.7348484848484849\n",
      "Accuracy: 0.7272727272727273\n",
      "Accuracy: 0.7272727272727273\n",
      "Accuracy: 0.7727272727272727\n",
      "Accuracy: 0.75\n",
      "Accuracy: 0.7348484848484849\n",
      "Accuracy: 0.7121212121212122\n",
      "Accuracy: 0.7575757575757576\n",
      "Accuracy: 0.7878787878787878\n",
      "Accuracy: 0.7272727272727273\n",
      "Accuracy: 0.7651515151515151\n",
      "Accuracy: 0.8181818181818182\n",
      "Accuracy: 0.7651515151515151\n",
      "Accuracy: 0.7424242424242424\n",
      "Accuracy: 0.7045454545454546\n",
      "Accuracy: 0.7272727272727273\n",
      "Accuracy: 0.7424242424242424\n",
      "Accuracy: 0.7121212121212122\n",
      "Accuracy: 0.7348484848484849\n",
      "Accuracy: 0.7348484848484849\n",
      "Accuracy: 0.7803030303030303\n",
      "Accuracy: 0.7651515151515151\n",
      "Accuracy: 0.6893939393939394\n",
      "Accuracy: 0.7803030303030303\n",
      "Accuracy: 0.7121212121212122\n",
      "Accuracy: 0.7878787878787878\n",
      "Accuracy: 0.7121212121212122\n",
      "Accuracy: 0.7878787878787878\n",
      "Accuracy: 0.7121212121212122\n",
      "Accuracy: 0.7121212121212122\n",
      "Accuracy: 0.7954545454545454\n",
      "Accuracy: 0.7651515151515151\n",
      "Accuracy: 0.7878787878787878\n",
      "Accuracy: 0.75\n",
      "Accuracy: 0.6742424242424242\n",
      "Accuracy: 0.7727272727272727\n",
      "Accuracy: 0.7878787878787878\n",
      "Accuracy: 0.7727272727272727\n",
      "Accuracy: 0.7878787878787878\n",
      "Accuracy: 0.6515151515151515\n",
      "Accuracy: 0.7575757575757576\n",
      "Accuracy: 0.75\n",
      "Accuracy: 0.7045454545454546\n",
      "Accuracy: 0.803030303030303\n",
      "Accuracy: 0.803030303030303\n",
      "Accuracy: 0.7575757575757576\n",
      "Accuracy: 0.8181818181818182\n",
      "Accuracy: 0.7575757575757576\n",
      "Accuracy: 0.7575757575757576\n",
      "Accuracy: 0.7424242424242424\n",
      "Accuracy: 0.7651515151515151\n",
      "Accuracy: 0.8333333333333334\n",
      "Accuracy: 0.696969696969697\n",
      "Accuracy: 0.7954545454545454\n",
      "Accuracy: 0.7272727272727273\n",
      "Accuracy: 0.7348484848484849\n",
      "Accuracy: 0.7272727272727273\n",
      "Accuracy: 0.7348484848484849\n",
      "Accuracy: 0.8181818181818182\n",
      "Accuracy: 0.7651515151515151\n",
      "Accuracy: 0.7803030303030303\n",
      "Accuracy: 0.803030303030303\n",
      "Accuracy: 0.8106060606060606\n",
      "Accuracy: 0.6818181818181818\n",
      "Accuracy: 0.7196969696969697\n",
      "Accuracy: 0.7575757575757576\n",
      "Accuracy: 0.7424242424242424\n",
      "Accuracy: 0.7878787878787878\n",
      "Accuracy: 0.7727272727272727\n",
      "Accuracy: 0.7878787878787878\n",
      "Accuracy: 0.7803030303030303\n",
      "Accuracy: 0.7348484848484849\n",
      "Accuracy: 0.7575757575757576\n",
      "Accuracy: 0.75\n",
      "Accuracy: 0.7424242424242424\n",
      "Accuracy: 0.7424242424242424\n",
      "Accuracy: 0.7045454545454546\n",
      "Accuracy: 0.696969696969697\n",
      "Accuracy: 0.7045454545454546\n",
      "Accuracy: 0.6666666666666666\n",
      "Accuracy: 0.6666666666666666\n",
      "Accuracy: 0.7727272727272727\n",
      "Accuracy: 0.7045454545454546\n",
      "Accuracy: 0.75\n",
      "Accuracy: 0.7651515151515151\n",
      "Accuracy: 0.7727272727272727\n",
      "Accuracy: 0.7121212121212122\n",
      "Accuracy: 0.75\n",
      "Accuracy: 0.7651515151515151\n",
      "Accuracy: 0.7121212121212122\n",
      "Accuracy: 0.75\n",
      "Accuracy: 0.7348484848484849\n",
      "Accuracy: 0.7575757575757576\n",
      "Accuracy: 0.7878787878787878\n",
      "Accuracy: 0.6893939393939394\n",
      "Accuracy: 0.7803030303030303\n",
      "Accuracy: 0.75\n",
      "Accuracy: 0.7424242424242424\n",
      "Accuracy: 0.7803030303030303\n",
      "Accuracy: 0.7424242424242424\n",
      "Accuracy: 0.6818181818181818\n",
      "Accuracy: 0.7803030303030303\n",
      "Accuracy: 0.7954545454545454\n",
      "Accuracy: 0.7878787878787878\n",
      "Accuracy: 0.7348484848484849\n",
      "Accuracy: 0.6818181818181818\n",
      "Accuracy: 0.6515151515151515\n",
      "Accuracy: 0.7348484848484849\n",
      "Accuracy: 0.8257575757575758\n",
      "Accuracy: 0.7803030303030303\n",
      "Accuracy: 0.7348484848484849\n",
      "Accuracy: 0.7651515151515151\n",
      "Accuracy: 0.7272727272727273\n",
      "Accuracy: 0.7954545454545454\n",
      "Accuracy: 0.7651515151515151\n",
      "Accuracy: 0.7803030303030303\n",
      "Accuracy: 0.8106060606060606\n",
      "Accuracy: 0.6439393939393939\n",
      "Accuracy: 0.696969696969697\n",
      "Accuracy: 0.7727272727272727\n",
      "Accuracy: 0.8181818181818182\n",
      "Accuracy: 0.7803030303030303\n",
      "Accuracy: 0.7348484848484849\n",
      "Accuracy: 0.7348484848484849\n",
      "Accuracy: 0.7575757575757576\n",
      "Accuracy: 0.7954545454545454\n",
      "Accuracy: 0.7575757575757576\n",
      "Accuracy: 0.7575757575757576\n",
      "Accuracy: 0.6212121212121212\n",
      "Accuracy: 0.7575757575757576\n",
      "Accuracy: 0.696969696969697\n",
      "Accuracy: 0.75\n",
      "Accuracy: 0.7196969696969697\n",
      "Accuracy: 0.7196969696969697\n",
      "Accuracy: 0.7878787878787878\n",
      "Accuracy: 0.7803030303030303\n",
      "Accuracy: 0.75\n",
      "Accuracy: 0.7272727272727273\n",
      "Accuracy: 0.7272727272727273\n",
      "Accuracy: 0.7954545454545454\n",
      "Accuracy: 0.7727272727272727\n",
      "Accuracy: 0.7575757575757576\n",
      "Accuracy: 0.7651515151515151\n",
      "Accuracy: 0.7954545454545454\n",
      "Accuracy: 0.7272727272727273\n",
      "Accuracy: 0.7424242424242424\n",
      "Accuracy: 0.7348484848484849\n",
      "Accuracy: 0.7348484848484849\n",
      "Accuracy: 0.6893939393939394\n",
      "Accuracy: 0.7878787878787878\n",
      "Accuracy: 0.7727272727272727\n",
      "Accuracy: 0.6818181818181818\n",
      "Accuracy: 0.75\n",
      "Accuracy: 0.7272727272727273\n",
      "Accuracy: 0.8106060606060606\n",
      "Accuracy: 0.696969696969697\n",
      "Accuracy: 0.75\n",
      "Accuracy: 0.7803030303030303\n",
      "Accuracy: 0.7348484848484849\n",
      "Accuracy: 0.7424242424242424\n",
      "Accuracy: 0.803030303030303\n",
      "Accuracy: 0.696969696969697\n",
      "Accuracy: 0.7803030303030303\n",
      "Accuracy: 0.7424242424242424\n",
      "Highest Accuracy: 0.8333333333333334\n"
     ]
    }
   ],
   "source": [
    "best = 0\n",
    "for _ in range(200):\n",
    "    xtrain, xtest, ytrain, ytest = sklearn.model_selection.train_test_split(X_for_ML, label1, test_size =0.25)\n",
    "\n",
    "    tree = DecisionTreeClassifier(max_depth=4, random_state=1)\n",
    "    tree.fit(xtrain, ytrain)\n",
    "\n",
    "\n",
    "    \n",
    "    acc = tree.score(xtest, ytest)\n",
    "    print(\"Accuracy: \" + str(acc))\n",
    "\n",
    "    # Save the highest accuracy\n",
    "    if (acc > best):\n",
    "        best = acc\n",
    "#         with open(\"data1.pickle\", \"wb\") as f:\n",
    "#             pickle.dump(tree, f)\n",
    "print(\"Highest Accuracy:\", best)"
   ]
  },
  {
   "cell_type": "markdown",
   "id": "2ca8d94d",
   "metadata": {},
   "source": [
    "# RandomForest Classifier"
   ]
  },
  {
   "cell_type": "code",
   "execution_count": 17,
   "id": "e52835cb",
   "metadata": {},
   "outputs": [
    {
     "name": "stdout",
     "output_type": "stream",
     "text": [
      "Accuracy on training set: 1.000\n",
      "Accuracy on test set: 0.856\n"
     ]
    }
   ],
   "source": [
    "from sklearn.ensemble import RandomForestClassifier\n",
    "\n",
    "rf = RandomForestClassifier(n_estimators=100, random_state=0)\n",
    "rf.fit(xtrain, ytrain)\n",
    "print(\"Accuracy on training set: {:.3f}\".format(rf.score(xtrain, ytrain)))\n",
    "print(\"Accuracy on test set: {:.3f}\".format(rf.score(xtest, ytest)))"
   ]
  },
  {
   "cell_type": "code",
   "execution_count": 18,
   "id": "83064c45",
   "metadata": {},
   "outputs": [
    {
     "name": "stdout",
     "output_type": "stream",
     "text": [
      "Accuracy on training set: 1.000\n",
      "Accuracy on test set: 0.856\n"
     ]
    }
   ],
   "source": [
    "rf1 = RandomForestClassifier(max_depth=9, n_estimators=100, random_state=1)\n",
    "rf1.fit(xtrain, ytrain)\n",
    "print(\"Accuracy on training set: {:.3f}\".format(rf1.score(xtrain, ytrain)))\n",
    "print(\"Accuracy on test set: {:.3f}\".format(rf1.score(xtest, ytest)))"
   ]
  },
  {
   "cell_type": "code",
   "execution_count": 19,
   "id": "6479ba44",
   "metadata": {},
   "outputs": [
    {
     "name": "stdout",
     "output_type": "stream",
     "text": [
      "Accuracy: 0.8106060606060606\n",
      "Accuracy: 0.7651515151515151\n",
      "Accuracy: 0.8712121212121212\n",
      "Accuracy: 0.7803030303030303\n",
      "Accuracy: 0.8181818181818182\n",
      "Accuracy: 0.8636363636363636\n",
      "Accuracy: 0.8257575757575758\n",
      "Accuracy: 0.8257575757575758\n",
      "Accuracy: 0.7954545454545454\n",
      "Accuracy: 0.8181818181818182\n",
      "Accuracy: 0.8333333333333334\n",
      "Accuracy: 0.8333333333333334\n",
      "Accuracy: 0.8181818181818182\n",
      "Accuracy: 0.8409090909090909\n",
      "Accuracy: 0.8409090909090909\n",
      "Accuracy: 0.8106060606060606\n",
      "Accuracy: 0.7878787878787878\n",
      "Accuracy: 0.803030303030303\n",
      "Accuracy: 0.8787878787878788\n",
      "Accuracy: 0.8257575757575758\n",
      "Accuracy: 0.803030303030303\n",
      "Accuracy: 0.7878787878787878\n",
      "Accuracy: 0.7727272727272727\n",
      "Accuracy: 0.7727272727272727\n",
      "Accuracy: 0.8560606060606061\n",
      "Accuracy: 0.7803030303030303\n",
      "Accuracy: 0.7727272727272727\n",
      "Accuracy: 0.7878787878787878\n",
      "Accuracy: 0.8181818181818182\n",
      "Accuracy: 0.8106060606060606\n",
      "Accuracy: 0.7803030303030303\n",
      "Accuracy: 0.7954545454545454\n",
      "Accuracy: 0.8257575757575758\n",
      "Accuracy: 0.7878787878787878\n",
      "Accuracy: 0.8106060606060606\n",
      "Accuracy: 0.8636363636363636\n",
      "Accuracy: 0.8484848484848485\n",
      "Accuracy: 0.8560606060606061\n",
      "Accuracy: 0.7727272727272727\n",
      "Accuracy: 0.8560606060606061\n",
      "Accuracy: 0.8333333333333334\n",
      "Accuracy: 0.8560606060606061\n",
      "Accuracy: 0.8409090909090909\n",
      "Accuracy: 0.7727272727272727\n",
      "Accuracy: 0.8333333333333334\n",
      "Accuracy: 0.7954545454545454\n",
      "Accuracy: 0.7878787878787878\n",
      "Accuracy: 0.75\n",
      "Accuracy: 0.7878787878787878\n",
      "Accuracy: 0.7727272727272727\n",
      "Accuracy: 0.8333333333333334\n",
      "Accuracy: 0.803030303030303\n",
      "Accuracy: 0.803030303030303\n",
      "Accuracy: 0.7954545454545454\n",
      "Accuracy: 0.8560606060606061\n",
      "Accuracy: 0.7954545454545454\n",
      "Accuracy: 0.7803030303030303\n",
      "Accuracy: 0.803030303030303\n",
      "Accuracy: 0.8333333333333334\n",
      "Accuracy: 0.8484848484848485\n",
      "Accuracy: 0.7878787878787878\n",
      "Accuracy: 0.7651515151515151\n",
      "Accuracy: 0.8636363636363636\n",
      "Accuracy: 0.8181818181818182\n",
      "Accuracy: 0.7878787878787878\n",
      "Accuracy: 0.8181818181818182\n",
      "Accuracy: 0.8409090909090909\n",
      "Accuracy: 0.8333333333333334\n",
      "Accuracy: 0.7803030303030303\n",
      "Accuracy: 0.803030303030303\n",
      "Accuracy: 0.8106060606060606\n",
      "Accuracy: 0.8181818181818182\n",
      "Accuracy: 0.8106060606060606\n",
      "Accuracy: 0.803030303030303\n",
      "Accuracy: 0.7878787878787878\n",
      "Accuracy: 0.7575757575757576\n",
      "Accuracy: 0.8712121212121212\n",
      "Accuracy: 0.8712121212121212\n",
      "Accuracy: 0.8712121212121212\n",
      "Accuracy: 0.8712121212121212\n",
      "Accuracy: 0.7878787878787878\n",
      "Accuracy: 0.8181818181818182\n",
      "Accuracy: 0.8106060606060606\n",
      "Accuracy: 0.8712121212121212\n",
      "Accuracy: 0.7651515151515151\n",
      "Accuracy: 0.8333333333333334\n",
      "Accuracy: 0.8106060606060606\n",
      "Accuracy: 0.8106060606060606\n",
      "Accuracy: 0.803030303030303\n",
      "Accuracy: 0.7954545454545454\n",
      "Accuracy: 0.8257575757575758\n",
      "Accuracy: 0.8106060606060606\n",
      "Accuracy: 0.7803030303030303\n",
      "Accuracy: 0.7575757575757576\n",
      "Accuracy: 0.8636363636363636\n",
      "Accuracy: 0.7954545454545454\n",
      "Accuracy: 0.8181818181818182\n",
      "Accuracy: 0.8181818181818182\n",
      "Accuracy: 0.8106060606060606\n",
      "Accuracy: 0.803030303030303\n",
      "Accuracy: 0.8181818181818182\n",
      "Accuracy: 0.8106060606060606\n",
      "Accuracy: 0.8333333333333334\n",
      "Accuracy: 0.7803030303030303\n",
      "Accuracy: 0.8484848484848485\n",
      "Accuracy: 0.8257575757575758\n",
      "Accuracy: 0.8409090909090909\n",
      "Accuracy: 0.803030303030303\n",
      "Accuracy: 0.8181818181818182\n",
      "Accuracy: 0.8106060606060606\n",
      "Accuracy: 0.8484848484848485\n",
      "Accuracy: 0.8106060606060606\n",
      "Accuracy: 0.8409090909090909\n",
      "Accuracy: 0.8181818181818182\n",
      "Accuracy: 0.7575757575757576\n",
      "Accuracy: 0.7954545454545454\n",
      "Accuracy: 0.8409090909090909\n",
      "Accuracy: 0.803030303030303\n",
      "Accuracy: 0.803030303030303\n",
      "Accuracy: 0.8257575757575758\n",
      "Accuracy: 0.803030303030303\n",
      "Accuracy: 0.8106060606060606\n",
      "Accuracy: 0.8712121212121212\n",
      "Accuracy: 0.8106060606060606\n",
      "Accuracy: 0.7651515151515151\n",
      "Accuracy: 0.8560606060606061\n",
      "Accuracy: 0.8863636363636364\n",
      "Accuracy: 0.7803030303030303\n",
      "Accuracy: 0.8181818181818182\n",
      "Accuracy: 0.803030303030303\n",
      "Accuracy: 0.8181818181818182\n",
      "Accuracy: 0.7878787878787878\n",
      "Accuracy: 0.8181818181818182\n",
      "Accuracy: 0.8257575757575758\n",
      "Accuracy: 0.8484848484848485\n",
      "Accuracy: 0.8484848484848485\n",
      "Accuracy: 0.8106060606060606\n",
      "Accuracy: 0.8409090909090909\n",
      "Accuracy: 0.8409090909090909\n",
      "Accuracy: 0.8560606060606061\n",
      "Accuracy: 0.8257575757575758\n",
      "Accuracy: 0.8333333333333334\n",
      "Accuracy: 0.803030303030303\n",
      "Accuracy: 0.7803030303030303\n",
      "Accuracy: 0.7954545454545454\n",
      "Accuracy: 0.7803030303030303\n",
      "Accuracy: 0.8257575757575758\n",
      "Accuracy: 0.803030303030303\n",
      "Accuracy: 0.7954545454545454\n",
      "Accuracy: 0.8181818181818182\n",
      "Accuracy: 0.7878787878787878\n",
      "Accuracy: 0.7954545454545454\n",
      "Accuracy: 0.7954545454545454\n",
      "Accuracy: 0.8484848484848485\n",
      "Accuracy: 0.8863636363636364\n",
      "Accuracy: 0.7954545454545454\n",
      "Accuracy: 0.8333333333333334\n",
      "Accuracy: 0.7727272727272727\n",
      "Accuracy: 0.8333333333333334\n",
      "Accuracy: 0.8333333333333334\n",
      "Accuracy: 0.7878787878787878\n",
      "Accuracy: 0.7954545454545454\n",
      "Accuracy: 0.803030303030303\n",
      "Accuracy: 0.8257575757575758\n",
      "Accuracy: 0.8333333333333334\n",
      "Accuracy: 0.7727272727272727\n",
      "Accuracy: 0.7803030303030303\n",
      "Accuracy: 0.7878787878787878\n",
      "Accuracy: 0.8560606060606061\n",
      "Accuracy: 0.8560606060606061\n",
      "Accuracy: 0.8106060606060606\n",
      "Accuracy: 0.8484848484848485\n",
      "Accuracy: 0.803030303030303\n",
      "Accuracy: 0.8181818181818182\n",
      "Accuracy: 0.8257575757575758\n",
      "Accuracy: 0.8106060606060606\n",
      "Accuracy: 0.7575757575757576\n",
      "Accuracy: 0.7651515151515151\n",
      "Accuracy: 0.8409090909090909\n",
      "Accuracy: 0.8181818181818182\n",
      "Accuracy: 0.8409090909090909\n",
      "Accuracy: 0.8257575757575758\n",
      "Accuracy: 0.8333333333333334\n",
      "Accuracy: 0.8181818181818182\n",
      "Accuracy: 0.7954545454545454\n",
      "Accuracy: 0.8181818181818182\n",
      "Accuracy: 0.7727272727272727\n",
      "Accuracy: 0.7954545454545454\n",
      "Accuracy: 0.8257575757575758\n",
      "Accuracy: 0.803030303030303\n",
      "Accuracy: 0.8333333333333334\n",
      "Accuracy: 0.8106060606060606\n",
      "Accuracy: 0.8257575757575758\n",
      "Accuracy: 0.8333333333333334\n",
      "Accuracy: 0.8409090909090909\n",
      "Accuracy: 0.8333333333333334\n",
      "Accuracy: 0.8333333333333334\n",
      "Accuracy: 0.803030303030303\n",
      "Accuracy: 0.8409090909090909\n",
      "Accuracy: 0.8181818181818182\n",
      "Highest Accuracy: 0.8863636363636364\n"
     ]
    }
   ],
   "source": [
    "best = 0\n",
    "for _ in range(200):\n",
    "    xtrain, xtest, ytrain, ytest = sklearn.model_selection.train_test_split(X_for_ML, label1, test_size =0.25)\n",
    "\n",
    "    rf1 = RandomForestClassifier(max_depth=9, n_estimators=100, random_state=1)\n",
    "    rf1.fit(xtrain, ytrain)\n",
    "\n",
    "\n",
    "    \n",
    "    acc = tree.score(xtest, ytest)\n",
    "    print(\"Accuracy: \" + str(acc))\n",
    "\n",
    "    # Save the highest accuracy\n",
    "    if (acc > best):\n",
    "        best = acc\n",
    "#         with open(\"data1.pickle\", \"wb\") as f:\n",
    "#             pickle.dump(rf1, f)\n",
    "print(\"Highest Accuracy:\", best)"
   ]
  },
  {
   "cell_type": "markdown",
   "id": "5816f48c",
   "metadata": {},
   "source": [
    "# Gradient Boost"
   ]
  },
  {
   "cell_type": "code",
   "execution_count": 20,
   "id": "a9cb2ae5",
   "metadata": {},
   "outputs": [
    {
     "name": "stdout",
     "output_type": "stream",
     "text": [
      "Accuracy on training set: 1.000\n",
      "Accuracy on test set: 0.894\n"
     ]
    }
   ],
   "source": [
    "from sklearn.ensemble import GradientBoostingClassifier\n",
    "\n",
    "gb = GradientBoostingClassifier(random_state=0)\n",
    "gb.fit(xtrain, ytrain)\n",
    "\n",
    "print(\"Accuracy on training set: {:.3f}\".format(gb.score(xtrain, ytrain)))\n",
    "print(\"Accuracy on test set: {:.3f}\".format(gb.score(xtest, ytest)))"
   ]
  },
  {
   "cell_type": "code",
   "execution_count": 21,
   "id": "d60df509",
   "metadata": {},
   "outputs": [
    {
     "name": "stdout",
     "output_type": "stream",
     "text": [
      "Accuracy on training set: 1.000\n",
      "Accuracy on test set: 0.886\n"
     ]
    }
   ],
   "source": [
    "gb1 = GradientBoostingClassifier(random_state=0, max_depth=2)\n",
    "gb1.fit(xtrain, ytrain)\n",
    "\n",
    "print(\"Accuracy on training set: {:.3f}\".format(gb1.score(xtrain, ytrain)))\n",
    "print(\"Accuracy on test set: {:.3f}\".format(gb1.score(xtest, ytest)))\n"
   ]
  },
  {
   "cell_type": "code",
   "execution_count": 22,
   "id": "4ef14c61",
   "metadata": {},
   "outputs": [
    {
     "name": "stdout",
     "output_type": "stream",
     "text": [
      "Accuracy: 0.7727272727272727\n",
      "Accuracy: 0.8560606060606061\n",
      "Accuracy: 0.8181818181818182\n",
      "Accuracy: 0.8484848484848485\n",
      "Accuracy: 0.8181818181818182\n",
      "Accuracy: 0.8257575757575758\n",
      "Accuracy: 0.7575757575757576\n",
      "Accuracy: 0.7954545454545454\n",
      "Accuracy: 0.7954545454545454\n",
      "Accuracy: 0.8484848484848485\n",
      "Accuracy: 0.803030303030303\n",
      "Accuracy: 0.7954545454545454\n",
      "Accuracy: 0.8484848484848485\n",
      "Accuracy: 0.8257575757575758\n",
      "Accuracy: 0.8181818181818182\n",
      "Accuracy: 0.8181818181818182\n",
      "Accuracy: 0.8181818181818182\n",
      "Accuracy: 0.8712121212121212\n",
      "Accuracy: 0.8333333333333334\n",
      "Accuracy: 0.8409090909090909\n",
      "Accuracy: 0.8181818181818182\n",
      "Accuracy: 0.8333333333333334\n",
      "Accuracy: 0.803030303030303\n",
      "Accuracy: 0.8333333333333334\n",
      "Accuracy: 0.8409090909090909\n",
      "Accuracy: 0.8257575757575758\n",
      "Accuracy: 0.7878787878787878\n",
      "Accuracy: 0.7954545454545454\n",
      "Accuracy: 0.8560606060606061\n",
      "Accuracy: 0.7651515151515151\n",
      "Accuracy: 0.8333333333333334\n",
      "Accuracy: 0.8257575757575758\n",
      "Accuracy: 0.8560606060606061\n",
      "Accuracy: 0.8560606060606061\n",
      "Accuracy: 0.8106060606060606\n",
      "Accuracy: 0.7878787878787878\n",
      "Accuracy: 0.8257575757575758\n",
      "Accuracy: 0.8181818181818182\n",
      "Accuracy: 0.7803030303030303\n",
      "Accuracy: 0.7954545454545454\n",
      "Accuracy: 0.7954545454545454\n",
      "Accuracy: 0.8636363636363636\n",
      "Accuracy: 0.803030303030303\n",
      "Accuracy: 0.8106060606060606\n",
      "Accuracy: 0.7803030303030303\n",
      "Accuracy: 0.8409090909090909\n",
      "Accuracy: 0.8257575757575758\n",
      "Accuracy: 0.8257575757575758\n",
      "Accuracy: 0.803030303030303\n",
      "Accuracy: 0.7878787878787878\n",
      "Accuracy: 0.803030303030303\n",
      "Accuracy: 0.8333333333333334\n",
      "Accuracy: 0.7651515151515151\n",
      "Accuracy: 0.7727272727272727\n",
      "Accuracy: 0.8257575757575758\n",
      "Accuracy: 0.8106060606060606\n",
      "Accuracy: 0.8484848484848485\n",
      "Accuracy: 0.7878787878787878\n",
      "Accuracy: 0.8560606060606061\n",
      "Accuracy: 0.7651515151515151\n",
      "Accuracy: 0.803030303030303\n",
      "Accuracy: 0.8181818181818182\n",
      "Accuracy: 0.7803030303030303\n",
      "Accuracy: 0.7954545454545454\n",
      "Accuracy: 0.803030303030303\n",
      "Accuracy: 0.803030303030303\n",
      "Accuracy: 0.8333333333333334\n",
      "Accuracy: 0.8333333333333334\n",
      "Accuracy: 0.803030303030303\n",
      "Accuracy: 0.7803030303030303\n",
      "Accuracy: 0.8181818181818182\n",
      "Accuracy: 0.7727272727272727\n",
      "Accuracy: 0.8257575757575758\n",
      "Accuracy: 0.75\n",
      "Accuracy: 0.8333333333333334\n",
      "Accuracy: 0.8484848484848485\n",
      "Accuracy: 0.8257575757575758\n",
      "Accuracy: 0.7954545454545454\n",
      "Accuracy: 0.7575757575757576\n",
      "Accuracy: 0.7878787878787878\n",
      "Accuracy: 0.8333333333333334\n",
      "Accuracy: 0.7954545454545454\n",
      "Accuracy: 0.8333333333333334\n",
      "Accuracy: 0.8484848484848485\n",
      "Accuracy: 0.8181818181818182\n",
      "Accuracy: 0.8484848484848485\n",
      "Accuracy: 0.8484848484848485\n",
      "Accuracy: 0.8333333333333334\n",
      "Accuracy: 0.8409090909090909\n",
      "Accuracy: 0.7803030303030303\n",
      "Accuracy: 0.8409090909090909\n",
      "Accuracy: 0.8333333333333334\n",
      "Accuracy: 0.7727272727272727\n",
      "Accuracy: 0.8106060606060606\n",
      "Accuracy: 0.8484848484848485\n",
      "Accuracy: 0.8257575757575758\n",
      "Accuracy: 0.803030303030303\n",
      "Accuracy: 0.8106060606060606\n",
      "Accuracy: 0.7954545454545454\n",
      "Accuracy: 0.8181818181818182\n",
      "Accuracy: 0.803030303030303\n",
      "Accuracy: 0.8484848484848485\n",
      "Accuracy: 0.7878787878787878\n",
      "Accuracy: 0.8181818181818182\n",
      "Accuracy: 0.7954545454545454\n",
      "Accuracy: 0.7727272727272727\n",
      "Accuracy: 0.803030303030303\n",
      "Accuracy: 0.7651515151515151\n",
      "Accuracy: 0.8484848484848485\n",
      "Accuracy: 0.8484848484848485\n",
      "Accuracy: 0.8484848484848485\n",
      "Accuracy: 0.7651515151515151\n",
      "Accuracy: 0.803030303030303\n",
      "Accuracy: 0.8181818181818182\n",
      "Accuracy: 0.8560606060606061\n",
      "Accuracy: 0.7651515151515151\n",
      "Accuracy: 0.8257575757575758\n",
      "Accuracy: 0.7651515151515151\n",
      "Accuracy: 0.7878787878787878\n",
      "Accuracy: 0.8409090909090909\n",
      "Accuracy: 0.8181818181818182\n",
      "Accuracy: 0.8181818181818182\n",
      "Accuracy: 0.7727272727272727\n",
      "Accuracy: 0.803030303030303\n",
      "Accuracy: 0.8257575757575758\n",
      "Accuracy: 0.803030303030303\n",
      "Accuracy: 0.7803030303030303\n",
      "Accuracy: 0.8333333333333334\n",
      "Accuracy: 0.7803030303030303\n",
      "Accuracy: 0.8181818181818182\n",
      "Accuracy: 0.7727272727272727\n",
      "Accuracy: 0.7803030303030303\n",
      "Accuracy: 0.8333333333333334\n",
      "Accuracy: 0.8712121212121212\n",
      "Accuracy: 0.7878787878787878\n",
      "Accuracy: 0.8636363636363636\n",
      "Accuracy: 0.8257575757575758\n",
      "Accuracy: 0.8333333333333334\n",
      "Accuracy: 0.7424242424242424\n",
      "Accuracy: 0.8484848484848485\n",
      "Accuracy: 0.7954545454545454\n",
      "Accuracy: 0.8409090909090909\n",
      "Accuracy: 0.7954545454545454\n",
      "Accuracy: 0.8106060606060606\n",
      "Accuracy: 0.7803030303030303\n",
      "Accuracy: 0.8181818181818182\n",
      "Accuracy: 0.7878787878787878\n",
      "Accuracy: 0.7803030303030303\n",
      "Accuracy: 0.8106060606060606\n",
      "Accuracy: 0.7575757575757576\n",
      "Accuracy: 0.7878787878787878\n",
      "Accuracy: 0.803030303030303\n",
      "Accuracy: 0.7878787878787878\n",
      "Accuracy: 0.8787878787878788\n",
      "Accuracy: 0.8409090909090909\n",
      "Accuracy: 0.8106060606060606\n",
      "Accuracy: 0.8257575757575758\n",
      "Accuracy: 0.7954545454545454\n",
      "Accuracy: 0.7424242424242424\n",
      "Accuracy: 0.7954545454545454\n",
      "Accuracy: 0.8257575757575758\n",
      "Accuracy: 0.7954545454545454\n",
      "Accuracy: 0.8333333333333334\n",
      "Accuracy: 0.8257575757575758\n",
      "Accuracy: 0.8484848484848485\n",
      "Accuracy: 0.8484848484848485\n",
      "Accuracy: 0.8106060606060606\n",
      "Accuracy: 0.7727272727272727\n",
      "Accuracy: 0.7727272727272727\n",
      "Accuracy: 0.8484848484848485\n",
      "Accuracy: 0.7878787878787878\n",
      "Accuracy: 0.8257575757575758\n",
      "Accuracy: 0.8560606060606061\n",
      "Accuracy: 0.7803030303030303\n",
      "Accuracy: 0.8106060606060606\n",
      "Accuracy: 0.75\n",
      "Accuracy: 0.7954545454545454\n",
      "Accuracy: 0.8106060606060606\n",
      "Accuracy: 0.7803030303030303\n",
      "Accuracy: 0.8409090909090909\n",
      "Accuracy: 0.8106060606060606\n",
      "Accuracy: 0.8409090909090909\n",
      "Accuracy: 0.8181818181818182\n",
      "Accuracy: 0.8939393939393939\n",
      "Accuracy: 0.8106060606060606\n",
      "Accuracy: 0.8257575757575758\n",
      "Accuracy: 0.8560606060606061\n",
      "Accuracy: 0.803030303030303\n",
      "Accuracy: 0.803030303030303\n",
      "Accuracy: 0.8712121212121212\n",
      "Accuracy: 0.8409090909090909\n",
      "Accuracy: 0.7954545454545454\n",
      "Accuracy: 0.7803030303030303\n",
      "Accuracy: 0.803030303030303\n",
      "Accuracy: 0.7954545454545454\n",
      "Accuracy: 0.8409090909090909\n",
      "Accuracy: 0.8333333333333334\n",
      "Accuracy: 0.7272727272727273\n",
      "Accuracy: 0.8409090909090909\n",
      "Accuracy: 0.8409090909090909\n",
      "Highest Accuracy: 0.8939393939393939\n"
     ]
    }
   ],
   "source": [
    "best = 0\n",
    "for _ in range(200):\n",
    "    xtrain, xtest, ytrain, ytest = sklearn.model_selection.train_test_split(X_for_ML, label1, test_size =0.25)\n",
    "\n",
    "    gb1 = GradientBoostingClassifier(random_state=0, max_depth=2)\n",
    "    gb1.fit(xtrain, ytrain)\n",
    "\n",
    "\n",
    "\n",
    "    \n",
    "    acc = tree.score(xtest, ytest)\n",
    "    print(\"Accuracy: \" + str(acc))\n",
    "\n",
    "    # Save the highest accuracy\n",
    "    if (acc > best):\n",
    "        best = acc\n",
    "#         with open(\"data1.pickle\", \"wb\") as f:\n",
    "#             pickle.dump(gb1, f)\n",
    "print(\"Highest Accuracy:\", best)"
   ]
  },
  {
   "cell_type": "markdown",
   "id": "5d531b24",
   "metadata": {},
   "source": [
    "# Support Vector Machine"
   ]
  },
  {
   "cell_type": "code",
   "execution_count": 23,
   "id": "c1e73b7a",
   "metadata": {},
   "outputs": [
    {
     "name": "stdout",
     "output_type": "stream",
     "text": [
      "Accuracy on training set: 0.65\n",
      "Accuracy on test set: 0.64\n"
     ]
    }
   ],
   "source": [
    "from sklearn.svm import SVC\n",
    "\n",
    "svc = SVC()\n",
    "svc.fit(xtrain, ytrain)\n",
    "\n",
    "print(\"Accuracy on training set: {:.2f}\".format(svc.score(xtrain, ytrain)))\n",
    "print(\"Accuracy on test set: {:.2f}\".format(svc.score(xtest, ytest)))"
   ]
  },
  {
   "cell_type": "code",
   "execution_count": 24,
   "id": "204948c1",
   "metadata": {},
   "outputs": [
    {
     "name": "stdout",
     "output_type": "stream",
     "text": [
      "Accuracy: 0.8181818181818182\n",
      "Accuracy: 0.8181818181818182\n",
      "Accuracy: 0.8106060606060606\n",
      "Accuracy: 0.8560606060606061\n",
      "Accuracy: 0.8484848484848485\n",
      "Accuracy: 0.8636363636363636\n",
      "Accuracy: 0.8181818181818182\n",
      "Accuracy: 0.7651515151515151\n",
      "Accuracy: 0.7803030303030303\n",
      "Accuracy: 0.8409090909090909\n",
      "Accuracy: 0.8106060606060606\n",
      "Accuracy: 0.803030303030303\n",
      "Accuracy: 0.7651515151515151\n",
      "Accuracy: 0.8257575757575758\n",
      "Accuracy: 0.8712121212121212\n",
      "Accuracy: 0.8484848484848485\n",
      "Accuracy: 0.7954545454545454\n",
      "Accuracy: 0.8181818181818182\n",
      "Accuracy: 0.8106060606060606\n",
      "Accuracy: 0.8636363636363636\n",
      "Accuracy: 0.8257575757575758\n",
      "Accuracy: 0.7954545454545454\n",
      "Accuracy: 0.8333333333333334\n",
      "Accuracy: 0.8106060606060606\n",
      "Accuracy: 0.8409090909090909\n",
      "Accuracy: 0.7727272727272727\n",
      "Accuracy: 0.8181818181818182\n",
      "Accuracy: 0.7954545454545454\n",
      "Accuracy: 0.8333333333333334\n",
      "Accuracy: 0.8333333333333334\n",
      "Accuracy: 0.8257575757575758\n",
      "Accuracy: 0.75\n",
      "Accuracy: 0.8333333333333334\n",
      "Accuracy: 0.8106060606060606\n",
      "Accuracy: 0.8409090909090909\n",
      "Accuracy: 0.8106060606060606\n",
      "Accuracy: 0.8257575757575758\n",
      "Accuracy: 0.7575757575757576\n",
      "Accuracy: 0.7954545454545454\n",
      "Accuracy: 0.8106060606060606\n",
      "Accuracy: 0.8257575757575758\n",
      "Accuracy: 0.8333333333333334\n",
      "Accuracy: 0.8257575757575758\n",
      "Accuracy: 0.8257575757575758\n",
      "Accuracy: 0.8106060606060606\n",
      "Accuracy: 0.8636363636363636\n",
      "Accuracy: 0.8257575757575758\n",
      "Accuracy: 0.8712121212121212\n",
      "Accuracy: 0.8636363636363636\n",
      "Accuracy: 0.8409090909090909\n",
      "Accuracy: 0.7954545454545454\n",
      "Accuracy: 0.7803030303030303\n",
      "Accuracy: 0.8181818181818182\n",
      "Accuracy: 0.8257575757575758\n",
      "Accuracy: 0.8181818181818182\n",
      "Accuracy: 0.8333333333333334\n",
      "Accuracy: 0.8106060606060606\n",
      "Accuracy: 0.8409090909090909\n",
      "Accuracy: 0.8106060606060606\n",
      "Accuracy: 0.8257575757575758\n",
      "Accuracy: 0.7803030303030303\n",
      "Accuracy: 0.8257575757575758\n",
      "Accuracy: 0.7954545454545454\n",
      "Accuracy: 0.7878787878787878\n",
      "Accuracy: 0.8712121212121212\n",
      "Accuracy: 0.7878787878787878\n",
      "Accuracy: 0.8257575757575758\n",
      "Accuracy: 0.7954545454545454\n",
      "Accuracy: 0.8636363636363636\n",
      "Accuracy: 0.8106060606060606\n",
      "Accuracy: 0.8333333333333334\n",
      "Accuracy: 0.8181818181818182\n",
      "Accuracy: 0.8181818181818182\n",
      "Accuracy: 0.7803030303030303\n",
      "Accuracy: 0.7954545454545454\n",
      "Accuracy: 0.7727272727272727\n",
      "Accuracy: 0.8181818181818182\n",
      "Accuracy: 0.8333333333333334\n",
      "Accuracy: 0.8257575757575758\n",
      "Accuracy: 0.8333333333333334\n",
      "Accuracy: 0.7878787878787878\n",
      "Accuracy: 0.7803030303030303\n",
      "Accuracy: 0.8333333333333334\n",
      "Accuracy: 0.7727272727272727\n",
      "Accuracy: 0.7651515151515151\n",
      "Accuracy: 0.8257575757575758\n",
      "Accuracy: 0.8560606060606061\n",
      "Accuracy: 0.803030303030303\n",
      "Accuracy: 0.8712121212121212\n",
      "Accuracy: 0.7651515151515151\n",
      "Accuracy: 0.7424242424242424\n",
      "Accuracy: 0.7803030303030303\n",
      "Accuracy: 0.8106060606060606\n",
      "Accuracy: 0.8333333333333334\n",
      "Accuracy: 0.8181818181818182\n",
      "Accuracy: 0.8333333333333334\n",
      "Accuracy: 0.8106060606060606\n",
      "Accuracy: 0.8106060606060606\n",
      "Accuracy: 0.7727272727272727\n",
      "Accuracy: 0.8181818181818182\n",
      "Accuracy: 0.7954545454545454\n",
      "Accuracy: 0.7727272727272727\n",
      "Accuracy: 0.8257575757575758\n",
      "Accuracy: 0.7954545454545454\n",
      "Accuracy: 0.7954545454545454\n",
      "Accuracy: 0.7954545454545454\n",
      "Accuracy: 0.803030303030303\n",
      "Accuracy: 0.8560606060606061\n",
      "Accuracy: 0.8106060606060606\n",
      "Accuracy: 0.8106060606060606\n",
      "Accuracy: 0.8560606060606061\n",
      "Accuracy: 0.8636363636363636\n",
      "Accuracy: 0.8333333333333334\n",
      "Accuracy: 0.8560606060606061\n",
      "Accuracy: 0.8257575757575758\n",
      "Accuracy: 0.803030303030303\n",
      "Accuracy: 0.8560606060606061\n",
      "Accuracy: 0.8106060606060606\n",
      "Accuracy: 0.7575757575757576\n",
      "Accuracy: 0.8257575757575758\n",
      "Accuracy: 0.7954545454545454\n",
      "Accuracy: 0.803030303030303\n",
      "Accuracy: 0.8636363636363636\n",
      "Accuracy: 0.7954545454545454\n",
      "Accuracy: 0.8636363636363636\n",
      "Accuracy: 0.8560606060606061\n",
      "Accuracy: 0.8181818181818182\n",
      "Accuracy: 0.8636363636363636\n",
      "Accuracy: 0.8333333333333334\n",
      "Accuracy: 0.8560606060606061\n",
      "Accuracy: 0.7727272727272727\n",
      "Accuracy: 0.8257575757575758\n",
      "Accuracy: 0.7803030303030303\n",
      "Accuracy: 0.8106060606060606\n",
      "Accuracy: 0.8257575757575758\n",
      "Accuracy: 0.8181818181818182\n",
      "Accuracy: 0.803030303030303\n",
      "Accuracy: 0.7954545454545454\n",
      "Accuracy: 0.8106060606060606\n",
      "Accuracy: 0.8257575757575758\n",
      "Accuracy: 0.8106060606060606\n",
      "Accuracy: 0.803030303030303\n",
      "Accuracy: 0.8181818181818182\n",
      "Accuracy: 0.7727272727272727\n",
      "Accuracy: 0.7803030303030303\n",
      "Accuracy: 0.8181818181818182\n",
      "Accuracy: 0.8257575757575758\n",
      "Accuracy: 0.803030303030303\n",
      "Accuracy: 0.8409090909090909\n",
      "Accuracy: 0.8106060606060606\n",
      "Accuracy: 0.7424242424242424\n",
      "Accuracy: 0.8409090909090909\n",
      "Accuracy: 0.7878787878787878\n",
      "Accuracy: 0.8257575757575758\n",
      "Accuracy: 0.8560606060606061\n",
      "Accuracy: 0.7424242424242424\n",
      "Accuracy: 0.8712121212121212\n",
      "Accuracy: 0.8106060606060606\n",
      "Accuracy: 0.7878787878787878\n",
      "Accuracy: 0.8106060606060606\n",
      "Accuracy: 0.8181818181818182\n",
      "Accuracy: 0.75\n",
      "Accuracy: 0.7954545454545454\n",
      "Accuracy: 0.803030303030303\n",
      "Accuracy: 0.7954545454545454\n",
      "Accuracy: 0.8257575757575758\n",
      "Accuracy: 0.8257575757575758\n",
      "Accuracy: 0.8560606060606061\n",
      "Accuracy: 0.7803030303030303\n",
      "Accuracy: 0.7878787878787878\n",
      "Accuracy: 0.8106060606060606\n",
      "Accuracy: 0.8409090909090909\n",
      "Accuracy: 0.8484848484848485\n",
      "Accuracy: 0.8181818181818182\n",
      "Accuracy: 0.8484848484848485\n",
      "Accuracy: 0.8484848484848485\n",
      "Accuracy: 0.8257575757575758\n",
      "Accuracy: 0.7954545454545454\n",
      "Accuracy: 0.8257575757575758\n",
      "Accuracy: 0.8560606060606061\n",
      "Accuracy: 0.7803030303030303\n",
      "Accuracy: 0.8257575757575758\n",
      "Accuracy: 0.8560606060606061\n",
      "Accuracy: 0.803030303030303\n",
      "Accuracy: 0.8181818181818182\n",
      "Accuracy: 0.7878787878787878\n",
      "Accuracy: 0.8181818181818182\n",
      "Accuracy: 0.8257575757575758\n",
      "Accuracy: 0.8181818181818182\n",
      "Accuracy: 0.8409090909090909\n",
      "Accuracy: 0.8409090909090909\n",
      "Accuracy: 0.8181818181818182\n",
      "Accuracy: 0.8484848484848485\n",
      "Accuracy: 0.7954545454545454\n",
      "Accuracy: 0.803030303030303\n",
      "Accuracy: 0.8333333333333334\n",
      "Accuracy: 0.7727272727272727\n",
      "Accuracy: 0.8636363636363636\n",
      "Accuracy: 0.8409090909090909\n",
      "Accuracy: 0.8257575757575758\n",
      "Highest Accuracy: 0.8712121212121212\n"
     ]
    }
   ],
   "source": [
    "best = 0\n",
    "for _ in range(200):\n",
    "    xtrain, xtest, ytrain, ytest = sklearn.model_selection.train_test_split(X_for_ML, label1, test_size =0.25)\n",
    "\n",
    "    svc = SVC()\n",
    "    svc.fit(xtrain, ytrain)\n",
    "\n",
    "\n",
    "    \n",
    "    acc = tree.score(xtest, ytest)\n",
    "    print(\"Accuracy: \" + str(acc))\n",
    "\n",
    "    # Save the highest accuracy\n",
    "    if (acc > best):\n",
    "        best = acc\n",
    "#         with open(\"data1.pickle\", \"wb\") as f:\n",
    "#             pickle.dump(svc, f)\n",
    "print(\"Highest Accuracy:\", best)"
   ]
  },
  {
   "cell_type": "markdown",
   "id": "7580daa6",
   "metadata": {},
   "source": [
    "# Gaussian Naive Bayes"
   ]
  },
  {
   "cell_type": "code",
   "execution_count": 25,
   "id": "f447336d",
   "metadata": {},
   "outputs": [
    {
     "name": "stdout",
     "output_type": "stream",
     "text": [
      "[3 0 1 1 0 2 2 0 2 1 1 2 1 1 1 1 0 1 3 2 1 1 2 1 0 3 3 1 1 1 3 0 0 0 2 3 3\n",
      " 0 2 0 0 0 0 2 0 2 2 0 1 0 0 0 0 2 0 1 3 0 2 3 2 0 1 2 0 0 3 1 0 2 3 2 2 2\n",
      " 2 1 2 0 1 3 0 0 0 0 0 2 0 1 2 0 2 3 0 3 0 1 1 3 3 1 0 0 1 2 2 1 3 3 2 0 2\n",
      " 0 1 2 0 3 2 0 3 1 2 1 0 0 2 0 0 0 2 1 2 1]\n"
     ]
    }
   ],
   "source": [
    "from sklearn.naive_bayes import GaussianNB\n",
    "model=GaussianNB()\n",
    "model.fit(xtrain, ytrain)\n",
    "\n",
    "y_pred_nb = model.predict(xtest)\n",
    "print(y_pred_nb)"
   ]
  },
  {
   "cell_type": "code",
   "execution_count": 26,
   "id": "fad81da0",
   "metadata": {},
   "outputs": [
    {
     "name": "stdout",
     "output_type": "stream",
     "text": [
      "The accuracy score using Naive Bayes is: 71.97 %\n"
     ]
    }
   ],
   "source": [
    "score_nb = round(accuracy_score(y_pred_nb,ytest)*100,2)\n",
    "\n",
    "print(\"The accuracy score using Naive Bayes is: \"+str(score_nb)+\" %\")\n"
   ]
  },
  {
   "cell_type": "code",
   "execution_count": 27,
   "id": "01bd169f",
   "metadata": {},
   "outputs": [
    {
     "name": "stdout",
     "output_type": "stream",
     "text": [
      "Accuracy: 0.8409090909090909\n",
      "Accuracy: 0.8106060606060606\n",
      "Accuracy: 0.7878787878787878\n",
      "Accuracy: 0.7878787878787878\n",
      "Accuracy: 0.7878787878787878\n",
      "Accuracy: 0.7878787878787878\n",
      "Accuracy: 0.803030303030303\n",
      "Accuracy: 0.803030303030303\n",
      "Accuracy: 0.7954545454545454\n",
      "Accuracy: 0.7954545454545454\n",
      "Accuracy: 0.8409090909090909\n",
      "Accuracy: 0.7878787878787878\n",
      "Accuracy: 0.8257575757575758\n",
      "Accuracy: 0.8257575757575758\n",
      "Accuracy: 0.8333333333333334\n",
      "Accuracy: 0.803030303030303\n",
      "Accuracy: 0.7727272727272727\n",
      "Accuracy: 0.803030303030303\n",
      "Accuracy: 0.803030303030303\n",
      "Accuracy: 0.8106060606060606\n",
      "Accuracy: 0.7878787878787878\n",
      "Accuracy: 0.8484848484848485\n",
      "Accuracy: 0.7803030303030303\n",
      "Accuracy: 0.8181818181818182\n",
      "Accuracy: 0.7954545454545454\n",
      "Accuracy: 0.803030303030303\n",
      "Accuracy: 0.8257575757575758\n",
      "Accuracy: 0.7803030303030303\n",
      "Accuracy: 0.8484848484848485\n",
      "Accuracy: 0.7878787878787878\n",
      "Accuracy: 0.8181818181818182\n",
      "Accuracy: 0.8257575757575758\n",
      "Accuracy: 0.8409090909090909\n",
      "Accuracy: 0.7878787878787878\n",
      "Accuracy: 0.8257575757575758\n",
      "Accuracy: 0.803030303030303\n",
      "Accuracy: 0.8106060606060606\n",
      "Accuracy: 0.7878787878787878\n",
      "Accuracy: 0.7651515151515151\n",
      "Accuracy: 0.8181818181818182\n",
      "Accuracy: 0.8257575757575758\n",
      "Accuracy: 0.8333333333333334\n",
      "Accuracy: 0.8484848484848485\n",
      "Accuracy: 0.8257575757575758\n",
      "Accuracy: 0.7878787878787878\n",
      "Accuracy: 0.8560606060606061\n",
      "Accuracy: 0.8257575757575758\n",
      "Accuracy: 0.7954545454545454\n",
      "Accuracy: 0.8636363636363636\n",
      "Accuracy: 0.8106060606060606\n",
      "Accuracy: 0.7878787878787878\n",
      "Accuracy: 0.7803030303030303\n",
      "Accuracy: 0.8106060606060606\n",
      "Accuracy: 0.8787878787878788\n",
      "Accuracy: 0.8181818181818182\n",
      "Accuracy: 0.8333333333333334\n",
      "Accuracy: 0.8636363636363636\n",
      "Accuracy: 0.7803030303030303\n",
      "Accuracy: 0.7727272727272727\n",
      "Accuracy: 0.7651515151515151\n",
      "Accuracy: 0.8484848484848485\n",
      "Accuracy: 0.7803030303030303\n",
      "Accuracy: 0.8106060606060606\n",
      "Accuracy: 0.803030303030303\n",
      "Accuracy: 0.8636363636363636\n",
      "Accuracy: 0.803030303030303\n",
      "Accuracy: 0.7878787878787878\n",
      "Accuracy: 0.7575757575757576\n",
      "Accuracy: 0.8181818181818182\n",
      "Accuracy: 0.8106060606060606\n",
      "Accuracy: 0.8257575757575758\n",
      "Accuracy: 0.8409090909090909\n",
      "Accuracy: 0.8181818181818182\n",
      "Accuracy: 0.8333333333333334\n",
      "Accuracy: 0.7878787878787878\n",
      "Accuracy: 0.8333333333333334\n",
      "Accuracy: 0.8560606060606061\n",
      "Accuracy: 0.8333333333333334\n",
      "Accuracy: 0.7803030303030303\n",
      "Accuracy: 0.8409090909090909\n",
      "Accuracy: 0.8106060606060606\n",
      "Accuracy: 0.8636363636363636\n",
      "Accuracy: 0.8257575757575758\n",
      "Accuracy: 0.8181818181818182\n",
      "Accuracy: 0.803030303030303\n",
      "Accuracy: 0.8787878787878788\n",
      "Accuracy: 0.75\n",
      "Accuracy: 0.8484848484848485\n",
      "Accuracy: 0.7803030303030303\n",
      "Accuracy: 0.7954545454545454\n",
      "Accuracy: 0.7727272727272727\n",
      "Accuracy: 0.8409090909090909\n",
      "Accuracy: 0.8560606060606061\n",
      "Accuracy: 0.8636363636363636\n",
      "Accuracy: 0.8257575757575758\n",
      "Accuracy: 0.8636363636363636\n",
      "Accuracy: 0.8560606060606061\n",
      "Accuracy: 0.7575757575757576\n",
      "Accuracy: 0.8409090909090909\n",
      "Accuracy: 0.7954545454545454\n",
      "Accuracy: 0.8484848484848485\n",
      "Accuracy: 0.7727272727272727\n",
      "Accuracy: 0.8333333333333334\n",
      "Accuracy: 0.803030303030303\n",
      "Accuracy: 0.7878787878787878\n",
      "Accuracy: 0.7954545454545454\n",
      "Accuracy: 0.8181818181818182\n",
      "Accuracy: 0.8181818181818182\n",
      "Accuracy: 0.8409090909090909\n",
      "Accuracy: 0.8257575757575758\n",
      "Accuracy: 0.8106060606060606\n",
      "Accuracy: 0.8409090909090909\n",
      "Accuracy: 0.8257575757575758\n",
      "Accuracy: 0.8409090909090909\n",
      "Accuracy: 0.8257575757575758\n",
      "Accuracy: 0.7878787878787878\n",
      "Accuracy: 0.803030303030303\n",
      "Accuracy: 0.8409090909090909\n",
      "Accuracy: 0.7954545454545454\n",
      "Accuracy: 0.8333333333333334\n",
      "Accuracy: 0.8484848484848485\n",
      "Accuracy: 0.7878787878787878\n",
      "Accuracy: 0.803030303030303\n",
      "Accuracy: 0.8409090909090909\n",
      "Accuracy: 0.8409090909090909\n",
      "Accuracy: 0.803030303030303\n",
      "Accuracy: 0.8106060606060606\n",
      "Accuracy: 0.75\n",
      "Accuracy: 0.7954545454545454\n",
      "Accuracy: 0.7575757575757576\n",
      "Accuracy: 0.8333333333333334\n",
      "Accuracy: 0.7878787878787878\n",
      "Accuracy: 0.8181818181818182\n",
      "Accuracy: 0.8863636363636364\n",
      "Accuracy: 0.7954545454545454\n",
      "Accuracy: 0.7954545454545454\n",
      "Accuracy: 0.803030303030303\n",
      "Accuracy: 0.8257575757575758\n",
      "Accuracy: 0.8106060606060606\n",
      "Accuracy: 0.7575757575757576\n",
      "Accuracy: 0.8106060606060606\n",
      "Accuracy: 0.7878787878787878\n",
      "Accuracy: 0.803030303030303\n",
      "Accuracy: 0.7424242424242424\n",
      "Accuracy: 0.8181818181818182\n",
      "Accuracy: 0.7651515151515151\n",
      "Accuracy: 0.8257575757575758\n",
      "Accuracy: 0.7272727272727273\n",
      "Accuracy: 0.803030303030303\n",
      "Accuracy: 0.8863636363636364\n",
      "Accuracy: 0.8257575757575758\n",
      "Accuracy: 0.7954545454545454\n",
      "Accuracy: 0.803030303030303\n",
      "Accuracy: 0.8181818181818182\n",
      "Accuracy: 0.8106060606060606\n",
      "Accuracy: 0.8409090909090909\n",
      "Accuracy: 0.8106060606060606\n",
      "Accuracy: 0.7575757575757576\n",
      "Accuracy: 0.803030303030303\n",
      "Accuracy: 0.8333333333333334\n",
      "Accuracy: 0.7651515151515151\n",
      "Accuracy: 0.8181818181818182\n",
      "Accuracy: 0.75\n",
      "Accuracy: 0.7954545454545454\n",
      "Accuracy: 0.8712121212121212\n",
      "Accuracy: 0.7954545454545454\n",
      "Accuracy: 0.8181818181818182\n",
      "Accuracy: 0.8257575757575758\n",
      "Accuracy: 0.8106060606060606\n",
      "Accuracy: 0.8484848484848485\n",
      "Accuracy: 0.8257575757575758\n",
      "Accuracy: 0.7651515151515151\n",
      "Accuracy: 0.7954545454545454\n",
      "Accuracy: 0.8257575757575758\n",
      "Accuracy: 0.8257575757575758\n",
      "Accuracy: 0.8181818181818182\n",
      "Accuracy: 0.8106060606060606\n",
      "Accuracy: 0.8106060606060606\n",
      "Accuracy: 0.8181818181818182\n",
      "Accuracy: 0.8106060606060606\n",
      "Accuracy: 0.8181818181818182\n",
      "Accuracy: 0.8106060606060606\n",
      "Accuracy: 0.7803030303030303\n",
      "Accuracy: 0.8333333333333334\n",
      "Accuracy: 0.8636363636363636\n",
      "Accuracy: 0.8106060606060606\n",
      "Accuracy: 0.8787878787878788\n",
      "Accuracy: 0.8181818181818182\n",
      "Accuracy: 0.7878787878787878\n",
      "Accuracy: 0.8787878787878788\n",
      "Accuracy: 0.7954545454545454\n",
      "Accuracy: 0.8636363636363636\n",
      "Accuracy: 0.8106060606060606\n",
      "Accuracy: 0.8560606060606061\n",
      "Accuracy: 0.803030303030303\n",
      "Accuracy: 0.8106060606060606\n",
      "Accuracy: 0.8333333333333334\n",
      "Accuracy: 0.803030303030303\n",
      "Accuracy: 0.8257575757575758\n",
      "Accuracy: 0.8257575757575758\n",
      "Highest Accuracy: 0.8863636363636364\n"
     ]
    }
   ],
   "source": [
    "best = 0\n",
    "for _ in range(200):\n",
    "    xtrain, xtest, ytrain, ytest = sklearn.model_selection.train_test_split(X_for_ML, label1, test_size =0.25)\n",
    "\n",
    "    model=GaussianNB()\n",
    "    model.fit(xtrain, ytrain)\n",
    "\n",
    "\n",
    "    \n",
    "    acc = tree.score(xtest, ytest)\n",
    "    print(\"Accuracy: \" + str(acc))\n",
    "\n",
    "    # Save the highest accuracy\n",
    "    if (acc > best):\n",
    "        best = acc\n",
    "#         with open(\"data1.pickle\", \"wb\") as f:\n",
    "#             pickle.dump(model, f)\n",
    "print(\"Highest Accuracy:\", best)"
   ]
  },
  {
   "cell_type": "code",
   "execution_count": 28,
   "id": "d41a4513",
   "metadata": {},
   "outputs": [
    {
     "data": {
      "text/plain": [
       "<AxesSubplot:>"
      ]
     },
     "execution_count": 28,
     "metadata": {},
     "output_type": "execute_result"
    },
    {
     "data": {
      "image/png": "[encoded data removed]",
      "text/plain": [
       "<Figure size 432x288 with 2 Axes>"
      ]
     },
     "metadata": {
      "needs_background": "light"
     },
     "output_type": "display_data"
    }
   ],
   "source": [
    "from sklearn.metrics import confusion_matrix\n",
    "matrix= confusion_matrix(ytest, y_pred_nb)\n",
    "\n",
    "sns.heatmap(matrix,annot = True, fmt = \"d\")"
   ]
  },
  {
   "cell_type": "markdown",
   "id": "9fc0be18",
   "metadata": {},
   "source": [
    "# Neural Networks"
   ]
  },
  {
   "cell_type": "code",
   "execution_count": 29,
   "id": "d2b2f043",
   "metadata": {},
   "outputs": [
    {
     "name": "stdout",
     "output_type": "stream",
     "text": [
      "Accuracy on training set: 0.70\n",
      "Accuracy on test set: 0.58\n"
     ]
    }
   ],
   "source": [
    "from sklearn.neural_network import MLPClassifier\n",
    "\n",
    "mlp = MLPClassifier(random_state=42)\n",
    "mlp.fit(xtrain, ytrain)\n",
    "\n",
    "print(\"Accuracy on training set: {:.2f}\".format(mlp.score(xtrain, ytrain)))\n",
    "print(\"Accuracy on test set: {:.2f}\".format(mlp.score(xtest, ytest)))"
   ]
  },
  {
   "cell_type": "code",
   "execution_count": 30,
   "id": "0ff29cc3",
   "metadata": {},
   "outputs": [
    {
     "name": "stdout",
     "output_type": "stream",
     "text": [
      "Accuracy on training set: 0.937\n",
      "Accuracy on test set: 0.856\n"
     ]
    },
    {
     "name": "stderr",
     "output_type": "stream",
     "text": [
      "C:\\ProgramData\\Anaconda3\\lib\\site-packages\\sklearn\\neural_network\\_multilayer_perceptron.py:614: ConvergenceWarning: Stochastic Optimizer: Maximum iterations (200) reached and the optimization hasn't converged yet.\n",
      "  warnings.warn(\n"
     ]
    }
   ],
   "source": [
    "from sklearn.preprocessing import StandardScaler\n",
    "\n",
    "scaler = StandardScaler()\n",
    "X_train_scaled = scaler.fit_transform(xtrain)\n",
    "X_test_scaled = scaler.fit_transform(xtest)\n",
    "\n",
    "mlp = MLPClassifier(random_state=0)\n",
    "mlp.fit(X_train_scaled, ytrain)\n",
    "\n",
    "print(\"Accuracy on training set: {:.3f}\".format(\n",
    "    mlp.score(X_train_scaled, ytrain)))\n",
    "print(\"Accuracy on test set: {:.3f}\".format(mlp.score(X_test_scaled, ytest)))"
   ]
  },
  {
   "cell_type": "code",
   "execution_count": 31,
   "id": "6385ad02",
   "metadata": {},
   "outputs": [
    {
     "name": "stdout",
     "output_type": "stream",
     "text": [
      "Accuracy on training set: 0.967\n",
      "Accuracy on test set: 0.909\n"
     ]
    }
   ],
   "source": [
    "mlp = MLPClassifier(max_iter=1000, alpha=1, random_state=0)\n",
    "mlp.fit(X_train_scaled, ytrain)\n",
    "\n",
    "print(\"Accuracy on training set: {:.3f}\".format(\n",
    "    mlp.score(X_train_scaled, ytrain)))\n",
    "print(\"Accuracy on test set: {:.3f}\".format(mlp.score(X_test_scaled, ytest)))"
   ]
  },
  {
   "cell_type": "code",
   "execution_count": 32,
   "id": "0acf193d",
   "metadata": {},
   "outputs": [
    {
     "name": "stdout",
     "output_type": "stream",
     "text": [
      "Accuracy: 0.8106060606060606\n",
      "Accuracy: 0.8333333333333334\n",
      "Accuracy: 0.7954545454545454\n",
      "Accuracy: 0.75\n",
      "Accuracy: 0.7803030303030303\n",
      "Accuracy: 0.8484848484848485\n",
      "Accuracy: 0.8106060606060606\n",
      "Accuracy: 0.7954545454545454\n"
     ]
    },
    {
     "name": "stderr",
     "output_type": "stream",
     "text": [
      "C:\\ProgramData\\Anaconda3\\lib\\site-packages\\sklearn\\neural_network\\_multilayer_perceptron.py:614: ConvergenceWarning: Stochastic Optimizer: Maximum iterations (1000) reached and the optimization hasn't converged yet.\n",
      "  warnings.warn(\n"
     ]
    },
    {
     "name": "stdout",
     "output_type": "stream",
     "text": [
      "Accuracy: 0.7954545454545454\n",
      "Accuracy: 0.8409090909090909\n",
      "Accuracy: 0.8257575757575758\n",
      "Accuracy: 0.8181818181818182\n",
      "Accuracy: 0.8409090909090909\n",
      "Accuracy: 0.8409090909090909\n",
      "Accuracy: 0.8409090909090909\n",
      "Accuracy: 0.7651515151515151\n"
     ]
    },
    {
     "name": "stderr",
     "output_type": "stream",
     "text": [
      "C:\\ProgramData\\Anaconda3\\lib\\site-packages\\sklearn\\neural_network\\_multilayer_perceptron.py:614: ConvergenceWarning: Stochastic Optimizer: Maximum iterations (1000) reached and the optimization hasn't converged yet.\n",
      "  warnings.warn(\n"
     ]
    },
    {
     "name": "stdout",
     "output_type": "stream",
     "text": [
      "Accuracy: 0.7878787878787878\n",
      "Accuracy: 0.75\n"
     ]
    },
    {
     "name": "stderr",
     "output_type": "stream",
     "text": [
      "C:\\ProgramData\\Anaconda3\\lib\\site-packages\\sklearn\\neural_network\\_multilayer_perceptron.py:614: ConvergenceWarning: Stochastic Optimizer: Maximum iterations (1000) reached and the optimization hasn't converged yet.\n",
      "  warnings.warn(\n"
     ]
    },
    {
     "name": "stdout",
     "output_type": "stream",
     "text": [
      "Accuracy: 0.803030303030303\n",
      "Accuracy: 0.803030303030303\n",
      "Accuracy: 0.8257575757575758\n"
     ]
    },
    {
     "name": "stderr",
     "output_type": "stream",
     "text": [
      "C:\\ProgramData\\Anaconda3\\lib\\site-packages\\sklearn\\neural_network\\_multilayer_perceptron.py:614: ConvergenceWarning: Stochastic Optimizer: Maximum iterations (1000) reached and the optimization hasn't converged yet.\n",
      "  warnings.warn(\n"
     ]
    },
    {
     "name": "stdout",
     "output_type": "stream",
     "text": [
      "Accuracy: 0.803030303030303\n"
     ]
    },
    {
     "name": "stderr",
     "output_type": "stream",
     "text": [
      "C:\\ProgramData\\Anaconda3\\lib\\site-packages\\sklearn\\neural_network\\_multilayer_perceptron.py:614: ConvergenceWarning: Stochastic Optimizer: Maximum iterations (1000) reached and the optimization hasn't converged yet.\n",
      "  warnings.warn(\n"
     ]
    },
    {
     "name": "stdout",
     "output_type": "stream",
     "text": [
      "Accuracy: 0.8636363636363636\n"
     ]
    },
    {
     "name": "stderr",
     "output_type": "stream",
     "text": [
      "C:\\ProgramData\\Anaconda3\\lib\\site-packages\\sklearn\\neural_network\\_multilayer_perceptron.py:614: ConvergenceWarning: Stochastic Optimizer: Maximum iterations (1000) reached and the optimization hasn't converged yet.\n",
      "  warnings.warn(\n"
     ]
    },
    {
     "name": "stdout",
     "output_type": "stream",
     "text": [
      "Accuracy: 0.7803030303030303\n",
      "Accuracy: 0.8863636363636364\n"
     ]
    },
    {
     "name": "stderr",
     "output_type": "stream",
     "text": [
      "C:\\ProgramData\\Anaconda3\\lib\\site-packages\\sklearn\\neural_network\\_multilayer_perceptron.py:614: ConvergenceWarning: Stochastic Optimizer: Maximum iterations (1000) reached and the optimization hasn't converged yet.\n",
      "  warnings.warn(\n"
     ]
    },
    {
     "name": "stdout",
     "output_type": "stream",
     "text": [
      "Accuracy: 0.8484848484848485\n"
     ]
    },
    {
     "name": "stderr",
     "output_type": "stream",
     "text": [
      "C:\\ProgramData\\Anaconda3\\lib\\site-packages\\sklearn\\neural_network\\_multilayer_perceptron.py:614: ConvergenceWarning: Stochastic Optimizer: Maximum iterations (1000) reached and the optimization hasn't converged yet.\n",
      "  warnings.warn(\n"
     ]
    },
    {
     "name": "stdout",
     "output_type": "stream",
     "text": [
      "Accuracy: 0.8106060606060606\n",
      "Accuracy: 0.8181818181818182\n",
      "Accuracy: 0.8333333333333334\n",
      "Accuracy: 0.7954545454545454\n"
     ]
    },
    {
     "name": "stderr",
     "output_type": "stream",
     "text": [
      "C:\\ProgramData\\Anaconda3\\lib\\site-packages\\sklearn\\neural_network\\_multilayer_perceptron.py:614: ConvergenceWarning: Stochastic Optimizer: Maximum iterations (1000) reached and the optimization hasn't converged yet.\n",
      "  warnings.warn(\n"
     ]
    },
    {
     "name": "stdout",
     "output_type": "stream",
     "text": [
      "Accuracy: 0.8106060606060606\n",
      "Accuracy: 0.7878787878787878\n",
      "Accuracy: 0.8106060606060606\n"
     ]
    },
    {
     "name": "stderr",
     "output_type": "stream",
     "text": [
      "C:\\ProgramData\\Anaconda3\\lib\\site-packages\\sklearn\\neural_network\\_multilayer_perceptron.py:614: ConvergenceWarning: Stochastic Optimizer: Maximum iterations (1000) reached and the optimization hasn't converged yet.\n",
      "  warnings.warn(\n"
     ]
    },
    {
     "name": "stdout",
     "output_type": "stream",
     "text": [
      "Accuracy: 0.803030303030303\n",
      "Accuracy: 0.7954545454545454\n",
      "Accuracy: 0.803030303030303\n"
     ]
    },
    {
     "name": "stderr",
     "output_type": "stream",
     "text": [
      "C:\\ProgramData\\Anaconda3\\lib\\site-packages\\sklearn\\neural_network\\_multilayer_perceptron.py:614: ConvergenceWarning: Stochastic Optimizer: Maximum iterations (1000) reached and the optimization hasn't converged yet.\n",
      "  warnings.warn(\n"
     ]
    },
    {
     "name": "stdout",
     "output_type": "stream",
     "text": [
      "Accuracy: 0.8181818181818182\n",
      "Accuracy: 0.803030303030303\n",
      "Accuracy: 0.8712121212121212\n"
     ]
    },
    {
     "name": "stderr",
     "output_type": "stream",
     "text": [
      "C:\\ProgramData\\Anaconda3\\lib\\site-packages\\sklearn\\neural_network\\_multilayer_perceptron.py:614: ConvergenceWarning: Stochastic Optimizer: Maximum iterations (1000) reached and the optimization hasn't converged yet.\n",
      "  warnings.warn(\n"
     ]
    },
    {
     "name": "stdout",
     "output_type": "stream",
     "text": [
      "Accuracy: 0.803030303030303\n"
     ]
    },
    {
     "name": "stderr",
     "output_type": "stream",
     "text": [
      "C:\\ProgramData\\Anaconda3\\lib\\site-packages\\sklearn\\neural_network\\_multilayer_perceptron.py:614: ConvergenceWarning: Stochastic Optimizer: Maximum iterations (1000) reached and the optimization hasn't converged yet.\n",
      "  warnings.warn(\n"
     ]
    },
    {
     "name": "stdout",
     "output_type": "stream",
     "text": [
      "Accuracy: 0.803030303030303\n",
      "Accuracy: 0.8636363636363636\n"
     ]
    },
    {
     "name": "stderr",
     "output_type": "stream",
     "text": [
      "C:\\ProgramData\\Anaconda3\\lib\\site-packages\\sklearn\\neural_network\\_multilayer_perceptron.py:614: ConvergenceWarning: Stochastic Optimizer: Maximum iterations (1000) reached and the optimization hasn't converged yet.\n",
      "  warnings.warn(\n"
     ]
    },
    {
     "name": "stdout",
     "output_type": "stream",
     "text": [
      "Accuracy: 0.8409090909090909\n",
      "Accuracy: 0.7878787878787878\n",
      "Accuracy: 0.7878787878787878\n"
     ]
    },
    {
     "name": "stderr",
     "output_type": "stream",
     "text": [
      "C:\\ProgramData\\Anaconda3\\lib\\site-packages\\sklearn\\neural_network\\_multilayer_perceptron.py:614: ConvergenceWarning: Stochastic Optimizer: Maximum iterations (1000) reached and the optimization hasn't converged yet.\n",
      "  warnings.warn(\n"
     ]
    },
    {
     "name": "stdout",
     "output_type": "stream",
     "text": [
      "Accuracy: 0.7878787878787878\n"
     ]
    },
    {
     "name": "stderr",
     "output_type": "stream",
     "text": [
      "C:\\ProgramData\\Anaconda3\\lib\\site-packages\\sklearn\\neural_network\\_multilayer_perceptron.py:614: ConvergenceWarning: Stochastic Optimizer: Maximum iterations (1000) reached and the optimization hasn't converged yet.\n",
      "  warnings.warn(\n"
     ]
    },
    {
     "name": "stdout",
     "output_type": "stream",
     "text": [
      "Accuracy: 0.8106060606060606\n"
     ]
    },
    {
     "name": "stderr",
     "output_type": "stream",
     "text": [
      "C:\\ProgramData\\Anaconda3\\lib\\site-packages\\sklearn\\neural_network\\_multilayer_perceptron.py:614: ConvergenceWarning: Stochastic Optimizer: Maximum iterations (1000) reached and the optimization hasn't converged yet.\n",
      "  warnings.warn(\n"
     ]
    },
    {
     "name": "stdout",
     "output_type": "stream",
     "text": [
      "Accuracy: 0.8106060606060606\n",
      "Accuracy: 0.8636363636363636\n",
      "Accuracy: 0.7954545454545454\n"
     ]
    },
    {
     "name": "stderr",
     "output_type": "stream",
     "text": [
      "C:\\ProgramData\\Anaconda3\\lib\\site-packages\\sklearn\\neural_network\\_multilayer_perceptron.py:614: ConvergenceWarning: Stochastic Optimizer: Maximum iterations (1000) reached and the optimization hasn't converged yet.\n",
      "  warnings.warn(\n"
     ]
    },
    {
     "name": "stdout",
     "output_type": "stream",
     "text": [
      "Accuracy: 0.803030303030303\n"
     ]
    },
    {
     "name": "stderr",
     "output_type": "stream",
     "text": [
      "C:\\ProgramData\\Anaconda3\\lib\\site-packages\\sklearn\\neural_network\\_multilayer_perceptron.py:614: ConvergenceWarning: Stochastic Optimizer: Maximum iterations (1000) reached and the optimization hasn't converged yet.\n",
      "  warnings.warn(\n"
     ]
    },
    {
     "name": "stdout",
     "output_type": "stream",
     "text": [
      "Accuracy: 0.8257575757575758\n",
      "Accuracy: 0.75\n",
      "Accuracy: 0.8106060606060606\n"
     ]
    },
    {
     "name": "stderr",
     "output_type": "stream",
     "text": [
      "C:\\ProgramData\\Anaconda3\\lib\\site-packages\\sklearn\\neural_network\\_multilayer_perceptron.py:614: ConvergenceWarning: Stochastic Optimizer: Maximum iterations (1000) reached and the optimization hasn't converged yet.\n",
      "  warnings.warn(\n"
     ]
    },
    {
     "name": "stdout",
     "output_type": "stream",
     "text": [
      "Accuracy: 0.8333333333333334\n"
     ]
    },
    {
     "name": "stderr",
     "output_type": "stream",
     "text": [
      "C:\\ProgramData\\Anaconda3\\lib\\site-packages\\sklearn\\neural_network\\_multilayer_perceptron.py:614: ConvergenceWarning: Stochastic Optimizer: Maximum iterations (1000) reached and the optimization hasn't converged yet.\n",
      "  warnings.warn(\n"
     ]
    },
    {
     "name": "stdout",
     "output_type": "stream",
     "text": [
      "Accuracy: 0.8181818181818182\n"
     ]
    },
    {
     "name": "stderr",
     "output_type": "stream",
     "text": [
      "C:\\ProgramData\\Anaconda3\\lib\\site-packages\\sklearn\\neural_network\\_multilayer_perceptron.py:614: ConvergenceWarning: Stochastic Optimizer: Maximum iterations (1000) reached and the optimization hasn't converged yet.\n",
      "  warnings.warn(\n"
     ]
    },
    {
     "name": "stdout",
     "output_type": "stream",
     "text": [
      "Accuracy: 0.8257575757575758\n"
     ]
    },
    {
     "name": "stderr",
     "output_type": "stream",
     "text": [
      "C:\\ProgramData\\Anaconda3\\lib\\site-packages\\sklearn\\neural_network\\_multilayer_perceptron.py:614: ConvergenceWarning: Stochastic Optimizer: Maximum iterations (1000) reached and the optimization hasn't converged yet.\n",
      "  warnings.warn(\n"
     ]
    },
    {
     "name": "stdout",
     "output_type": "stream",
     "text": [
      "Accuracy: 0.8333333333333334\n"
     ]
    },
    {
     "name": "stderr",
     "output_type": "stream",
     "text": [
      "C:\\ProgramData\\Anaconda3\\lib\\site-packages\\sklearn\\neural_network\\_multilayer_perceptron.py:614: ConvergenceWarning: Stochastic Optimizer: Maximum iterations (1000) reached and the optimization hasn't converged yet.\n",
      "  warnings.warn(\n"
     ]
    },
    {
     "name": "stdout",
     "output_type": "stream",
     "text": [
      "Accuracy: 0.8333333333333334\n"
     ]
    },
    {
     "name": "stderr",
     "output_type": "stream",
     "text": [
      "C:\\ProgramData\\Anaconda3\\lib\\site-packages\\sklearn\\neural_network\\_multilayer_perceptron.py:614: ConvergenceWarning: Stochastic Optimizer: Maximum iterations (1000) reached and the optimization hasn't converged yet.\n",
      "  warnings.warn(\n"
     ]
    },
    {
     "name": "stdout",
     "output_type": "stream",
     "text": [
      "Accuracy: 0.7878787878787878\n"
     ]
    },
    {
     "name": "stderr",
     "output_type": "stream",
     "text": [
      "C:\\ProgramData\\Anaconda3\\lib\\site-packages\\sklearn\\neural_network\\_multilayer_perceptron.py:614: ConvergenceWarning: Stochastic Optimizer: Maximum iterations (1000) reached and the optimization hasn't converged yet.\n",
      "  warnings.warn(\n"
     ]
    },
    {
     "name": "stdout",
     "output_type": "stream",
     "text": [
      "Accuracy: 0.8106060606060606\n"
     ]
    },
    {
     "name": "stderr",
     "output_type": "stream",
     "text": [
      "C:\\ProgramData\\Anaconda3\\lib\\site-packages\\sklearn\\neural_network\\_multilayer_perceptron.py:614: ConvergenceWarning: Stochastic Optimizer: Maximum iterations (1000) reached and the optimization hasn't converged yet.\n",
      "  warnings.warn(\n"
     ]
    },
    {
     "name": "stdout",
     "output_type": "stream",
     "text": [
      "Accuracy: 0.7575757575757576\n",
      "Accuracy: 0.8409090909090909\n",
      "Accuracy: 0.8409090909090909\n",
      "Accuracy: 0.8484848484848485\n",
      "Accuracy: 0.8106060606060606\n",
      "Accuracy: 0.8257575757575758\n",
      "Accuracy: 0.803030303030303\n"
     ]
    },
    {
     "name": "stderr",
     "output_type": "stream",
     "text": [
      "C:\\ProgramData\\Anaconda3\\lib\\site-packages\\sklearn\\neural_network\\_multilayer_perceptron.py:614: ConvergenceWarning: Stochastic Optimizer: Maximum iterations (1000) reached and the optimization hasn't converged yet.\n",
      "  warnings.warn(\n"
     ]
    },
    {
     "name": "stdout",
     "output_type": "stream",
     "text": [
      "Accuracy: 0.7575757575757576\n"
     ]
    },
    {
     "name": "stderr",
     "output_type": "stream",
     "text": [
      "C:\\ProgramData\\Anaconda3\\lib\\site-packages\\sklearn\\neural_network\\_multilayer_perceptron.py:614: ConvergenceWarning: Stochastic Optimizer: Maximum iterations (1000) reached and the optimization hasn't converged yet.\n",
      "  warnings.warn(\n"
     ]
    },
    {
     "name": "stdout",
     "output_type": "stream",
     "text": [
      "Accuracy: 0.8181818181818182\n",
      "Accuracy: 0.7575757575757576\n"
     ]
    },
    {
     "name": "stderr",
     "output_type": "stream",
     "text": [
      "C:\\ProgramData\\Anaconda3\\lib\\site-packages\\sklearn\\neural_network\\_multilayer_perceptron.py:614: ConvergenceWarning: Stochastic Optimizer: Maximum iterations (1000) reached and the optimization hasn't converged yet.\n",
      "  warnings.warn(\n"
     ]
    },
    {
     "name": "stdout",
     "output_type": "stream",
     "text": [
      "Accuracy: 0.8712121212121212\n"
     ]
    },
    {
     "name": "stderr",
     "output_type": "stream",
     "text": [
      "C:\\ProgramData\\Anaconda3\\lib\\site-packages\\sklearn\\neural_network\\_multilayer_perceptron.py:614: ConvergenceWarning: Stochastic Optimizer: Maximum iterations (1000) reached and the optimization hasn't converged yet.\n",
      "  warnings.warn(\n"
     ]
    },
    {
     "name": "stdout",
     "output_type": "stream",
     "text": [
      "Accuracy: 0.8333333333333334\n",
      "Accuracy: 0.8712121212121212\n",
      "Accuracy: 0.8636363636363636\n",
      "Accuracy: 0.7954545454545454\n",
      "Accuracy: 0.803030303030303\n",
      "Accuracy: 0.7878787878787878\n",
      "Accuracy: 0.8409090909090909\n",
      "Accuracy: 0.7954545454545454\n"
     ]
    },
    {
     "name": "stderr",
     "output_type": "stream",
     "text": [
      "C:\\ProgramData\\Anaconda3\\lib\\site-packages\\sklearn\\neural_network\\_multilayer_perceptron.py:614: ConvergenceWarning: Stochastic Optimizer: Maximum iterations (1000) reached and the optimization hasn't converged yet.\n",
      "  warnings.warn(\n"
     ]
    },
    {
     "name": "stdout",
     "output_type": "stream",
     "text": [
      "Accuracy: 0.8560606060606061\n"
     ]
    },
    {
     "name": "stderr",
     "output_type": "stream",
     "text": [
      "C:\\ProgramData\\Anaconda3\\lib\\site-packages\\sklearn\\neural_network\\_multilayer_perceptron.py:614: ConvergenceWarning: Stochastic Optimizer: Maximum iterations (1000) reached and the optimization hasn't converged yet.\n",
      "  warnings.warn(\n"
     ]
    },
    {
     "name": "stdout",
     "output_type": "stream",
     "text": [
      "Accuracy: 0.7727272727272727\n",
      "Accuracy: 0.7348484848484849\n"
     ]
    },
    {
     "name": "stderr",
     "output_type": "stream",
     "text": [
      "C:\\ProgramData\\Anaconda3\\lib\\site-packages\\sklearn\\neural_network\\_multilayer_perceptron.py:614: ConvergenceWarning: Stochastic Optimizer: Maximum iterations (1000) reached and the optimization hasn't converged yet.\n",
      "  warnings.warn(\n"
     ]
    },
    {
     "name": "stdout",
     "output_type": "stream",
     "text": [
      "Accuracy: 0.8636363636363636\n"
     ]
    },
    {
     "name": "stderr",
     "output_type": "stream",
     "text": [
      "C:\\ProgramData\\Anaconda3\\lib\\site-packages\\sklearn\\neural_network\\_multilayer_perceptron.py:614: ConvergenceWarning: Stochastic Optimizer: Maximum iterations (1000) reached and the optimization hasn't converged yet.\n",
      "  warnings.warn(\n"
     ]
    },
    {
     "name": "stdout",
     "output_type": "stream",
     "text": [
      "Accuracy: 0.8106060606060606\n",
      "Accuracy: 0.8560606060606061\n",
      "Accuracy: 0.8106060606060606\n",
      "Accuracy: 0.8181818181818182\n",
      "Accuracy: 0.8409090909090909\n",
      "Accuracy: 0.7651515151515151\n"
     ]
    },
    {
     "name": "stderr",
     "output_type": "stream",
     "text": [
      "C:\\ProgramData\\Anaconda3\\lib\\site-packages\\sklearn\\neural_network\\_multilayer_perceptron.py:614: ConvergenceWarning: Stochastic Optimizer: Maximum iterations (1000) reached and the optimization hasn't converged yet.\n",
      "  warnings.warn(\n"
     ]
    },
    {
     "name": "stdout",
     "output_type": "stream",
     "text": [
      "Accuracy: 0.8181818181818182\n",
      "Accuracy: 0.8106060606060606\n",
      "Accuracy: 0.8484848484848485\n",
      "Accuracy: 0.803030303030303\n"
     ]
    },
    {
     "name": "stderr",
     "output_type": "stream",
     "text": [
      "C:\\ProgramData\\Anaconda3\\lib\\site-packages\\sklearn\\neural_network\\_multilayer_perceptron.py:614: ConvergenceWarning: Stochastic Optimizer: Maximum iterations (1000) reached and the optimization hasn't converged yet.\n",
      "  warnings.warn(\n"
     ]
    },
    {
     "name": "stdout",
     "output_type": "stream",
     "text": [
      "Accuracy: 0.8106060606060606\n"
     ]
    },
    {
     "name": "stderr",
     "output_type": "stream",
     "text": [
      "C:\\ProgramData\\Anaconda3\\lib\\site-packages\\sklearn\\neural_network\\_multilayer_perceptron.py:614: ConvergenceWarning: Stochastic Optimizer: Maximum iterations (1000) reached and the optimization hasn't converged yet.\n",
      "  warnings.warn(\n"
     ]
    },
    {
     "name": "stdout",
     "output_type": "stream",
     "text": [
      "Accuracy: 0.7803030303030303\n",
      "Accuracy: 0.7954545454545454\n",
      "Accuracy: 0.8257575757575758\n",
      "Accuracy: 0.7651515151515151\n"
     ]
    },
    {
     "name": "stderr",
     "output_type": "stream",
     "text": [
      "C:\\ProgramData\\Anaconda3\\lib\\site-packages\\sklearn\\neural_network\\_multilayer_perceptron.py:614: ConvergenceWarning: Stochastic Optimizer: Maximum iterations (1000) reached and the optimization hasn't converged yet.\n",
      "  warnings.warn(\n"
     ]
    },
    {
     "name": "stdout",
     "output_type": "stream",
     "text": [
      "Accuracy: 0.7727272727272727\n",
      "Accuracy: 0.8106060606060606\n",
      "Accuracy: 0.8181818181818182\n",
      "Accuracy: 0.8560606060606061\n",
      "Accuracy: 0.803030303030303\n"
     ]
    },
    {
     "name": "stderr",
     "output_type": "stream",
     "text": [
      "C:\\ProgramData\\Anaconda3\\lib\\site-packages\\sklearn\\neural_network\\_multilayer_perceptron.py:614: ConvergenceWarning: Stochastic Optimizer: Maximum iterations (1000) reached and the optimization hasn't converged yet.\n",
      "  warnings.warn(\n"
     ]
    },
    {
     "name": "stdout",
     "output_type": "stream",
     "text": [
      "Accuracy: 0.8636363636363636\n",
      "Accuracy: 0.7727272727272727\n",
      "Accuracy: 0.7575757575757576\n",
      "Accuracy: 0.7803030303030303\n",
      "Accuracy: 0.8106060606060606\n",
      "Accuracy: 0.8257575757575758\n",
      "Accuracy: 0.803030303030303\n",
      "Accuracy: 0.8333333333333334\n",
      "Accuracy: 0.8333333333333334\n"
     ]
    },
    {
     "name": "stderr",
     "output_type": "stream",
     "text": [
      "C:\\ProgramData\\Anaconda3\\lib\\site-packages\\sklearn\\neural_network\\_multilayer_perceptron.py:614: ConvergenceWarning: Stochastic Optimizer: Maximum iterations (1000) reached and the optimization hasn't converged yet.\n",
      "  warnings.warn(\n"
     ]
    },
    {
     "name": "stdout",
     "output_type": "stream",
     "text": [
      "Accuracy: 0.7878787878787878\n"
     ]
    },
    {
     "name": "stderr",
     "output_type": "stream",
     "text": [
      "C:\\ProgramData\\Anaconda3\\lib\\site-packages\\sklearn\\neural_network\\_multilayer_perceptron.py:614: ConvergenceWarning: Stochastic Optimizer: Maximum iterations (1000) reached and the optimization hasn't converged yet.\n",
      "  warnings.warn(\n"
     ]
    },
    {
     "name": "stdout",
     "output_type": "stream",
     "text": [
      "Accuracy: 0.8333333333333334\n"
     ]
    },
    {
     "name": "stderr",
     "output_type": "stream",
     "text": [
      "C:\\ProgramData\\Anaconda3\\lib\\site-packages\\sklearn\\neural_network\\_multilayer_perceptron.py:614: ConvergenceWarning: Stochastic Optimizer: Maximum iterations (1000) reached and the optimization hasn't converged yet.\n",
      "  warnings.warn(\n"
     ]
    },
    {
     "name": "stdout",
     "output_type": "stream",
     "text": [
      "Accuracy: 0.7954545454545454\n"
     ]
    },
    {
     "name": "stderr",
     "output_type": "stream",
     "text": [
      "C:\\ProgramData\\Anaconda3\\lib\\site-packages\\sklearn\\neural_network\\_multilayer_perceptron.py:614: ConvergenceWarning: Stochastic Optimizer: Maximum iterations (1000) reached and the optimization hasn't converged yet.\n",
      "  warnings.warn(\n"
     ]
    },
    {
     "name": "stdout",
     "output_type": "stream",
     "text": [
      "Accuracy: 0.8181818181818182\n"
     ]
    },
    {
     "name": "stderr",
     "output_type": "stream",
     "text": [
      "C:\\ProgramData\\Anaconda3\\lib\\site-packages\\sklearn\\neural_network\\_multilayer_perceptron.py:614: ConvergenceWarning: Stochastic Optimizer: Maximum iterations (1000) reached and the optimization hasn't converged yet.\n",
      "  warnings.warn(\n"
     ]
    },
    {
     "name": "stdout",
     "output_type": "stream",
     "text": [
      "Accuracy: 0.8560606060606061\n",
      "Accuracy: 0.8181818181818182\n"
     ]
    },
    {
     "name": "stderr",
     "output_type": "stream",
     "text": [
      "C:\\ProgramData\\Anaconda3\\lib\\site-packages\\sklearn\\neural_network\\_multilayer_perceptron.py:614: ConvergenceWarning: Stochastic Optimizer: Maximum iterations (1000) reached and the optimization hasn't converged yet.\n",
      "  warnings.warn(\n"
     ]
    },
    {
     "name": "stdout",
     "output_type": "stream",
     "text": [
      "Accuracy: 0.7803030303030303\n"
     ]
    },
    {
     "name": "stderr",
     "output_type": "stream",
     "text": [
      "C:\\ProgramData\\Anaconda3\\lib\\site-packages\\sklearn\\neural_network\\_multilayer_perceptron.py:614: ConvergenceWarning: Stochastic Optimizer: Maximum iterations (1000) reached and the optimization hasn't converged yet.\n",
      "  warnings.warn(\n"
     ]
    },
    {
     "name": "stdout",
     "output_type": "stream",
     "text": [
      "Accuracy: 0.7727272727272727\n"
     ]
    },
    {
     "name": "stderr",
     "output_type": "stream",
     "text": [
      "C:\\ProgramData\\Anaconda3\\lib\\site-packages\\sklearn\\neural_network\\_multilayer_perceptron.py:614: ConvergenceWarning: Stochastic Optimizer: Maximum iterations (1000) reached and the optimization hasn't converged yet.\n",
      "  warnings.warn(\n"
     ]
    },
    {
     "name": "stdout",
     "output_type": "stream",
     "text": [
      "Accuracy: 0.8333333333333334\n",
      "Accuracy: 0.7954545454545454\n"
     ]
    },
    {
     "name": "stderr",
     "output_type": "stream",
     "text": [
      "C:\\ProgramData\\Anaconda3\\lib\\site-packages\\sklearn\\neural_network\\_multilayer_perceptron.py:614: ConvergenceWarning: Stochastic Optimizer: Maximum iterations (1000) reached and the optimization hasn't converged yet.\n",
      "  warnings.warn(\n"
     ]
    },
    {
     "name": "stdout",
     "output_type": "stream",
     "text": [
      "Accuracy: 0.8257575757575758\n"
     ]
    },
    {
     "name": "stderr",
     "output_type": "stream",
     "text": [
      "C:\\ProgramData\\Anaconda3\\lib\\site-packages\\sklearn\\neural_network\\_multilayer_perceptron.py:614: ConvergenceWarning: Stochastic Optimizer: Maximum iterations (1000) reached and the optimization hasn't converged yet.\n",
      "  warnings.warn(\n"
     ]
    },
    {
     "name": "stdout",
     "output_type": "stream",
     "text": [
      "Accuracy: 0.8181818181818182\n",
      "Accuracy: 0.8106060606060606\n"
     ]
    },
    {
     "name": "stderr",
     "output_type": "stream",
     "text": [
      "C:\\ProgramData\\Anaconda3\\lib\\site-packages\\sklearn\\neural_network\\_multilayer_perceptron.py:614: ConvergenceWarning: Stochastic Optimizer: Maximum iterations (1000) reached and the optimization hasn't converged yet.\n",
      "  warnings.warn(\n"
     ]
    },
    {
     "name": "stdout",
     "output_type": "stream",
     "text": [
      "Accuracy: 0.8106060606060606\n",
      "Accuracy: 0.8106060606060606\n",
      "Accuracy: 0.8181818181818182\n",
      "Accuracy: 0.803030303030303\n",
      "Accuracy: 0.803030303030303\n"
     ]
    },
    {
     "name": "stderr",
     "output_type": "stream",
     "text": [
      "C:\\ProgramData\\Anaconda3\\lib\\site-packages\\sklearn\\neural_network\\_multilayer_perceptron.py:614: ConvergenceWarning: Stochastic Optimizer: Maximum iterations (1000) reached and the optimization hasn't converged yet.\n",
      "  warnings.warn(\n"
     ]
    },
    {
     "name": "stdout",
     "output_type": "stream",
     "text": [
      "Accuracy: 0.8181818181818182\n",
      "Accuracy: 0.8257575757575758\n"
     ]
    },
    {
     "name": "stderr",
     "output_type": "stream",
     "text": [
      "C:\\ProgramData\\Anaconda3\\lib\\site-packages\\sklearn\\neural_network\\_multilayer_perceptron.py:614: ConvergenceWarning: Stochastic Optimizer: Maximum iterations (1000) reached and the optimization hasn't converged yet.\n",
      "  warnings.warn(\n"
     ]
    },
    {
     "name": "stdout",
     "output_type": "stream",
     "text": [
      "Accuracy: 0.8257575757575758\n",
      "Accuracy: 0.7878787878787878\n",
      "Accuracy: 0.8712121212121212\n"
     ]
    },
    {
     "name": "stderr",
     "output_type": "stream",
     "text": [
      "C:\\ProgramData\\Anaconda3\\lib\\site-packages\\sklearn\\neural_network\\_multilayer_perceptron.py:614: ConvergenceWarning: Stochastic Optimizer: Maximum iterations (1000) reached and the optimization hasn't converged yet.\n",
      "  warnings.warn(\n"
     ]
    },
    {
     "name": "stdout",
     "output_type": "stream",
     "text": [
      "Accuracy: 0.8106060606060606\n",
      "Accuracy: 0.7575757575757576\n",
      "Accuracy: 0.8409090909090909\n",
      "Accuracy: 0.8106060606060606\n",
      "Accuracy: 0.8181818181818182\n",
      "Accuracy: 0.8484848484848485\n"
     ]
    },
    {
     "name": "stderr",
     "output_type": "stream",
     "text": [
      "C:\\ProgramData\\Anaconda3\\lib\\site-packages\\sklearn\\neural_network\\_multilayer_perceptron.py:614: ConvergenceWarning: Stochastic Optimizer: Maximum iterations (1000) reached and the optimization hasn't converged yet.\n",
      "  warnings.warn(\n"
     ]
    },
    {
     "name": "stdout",
     "output_type": "stream",
     "text": [
      "Accuracy: 0.8181818181818182\n",
      "Accuracy: 0.7954545454545454\n",
      "Accuracy: 0.8181818181818182\n"
     ]
    },
    {
     "name": "stderr",
     "output_type": "stream",
     "text": [
      "C:\\ProgramData\\Anaconda3\\lib\\site-packages\\sklearn\\neural_network\\_multilayer_perceptron.py:614: ConvergenceWarning: Stochastic Optimizer: Maximum iterations (1000) reached and the optimization hasn't converged yet.\n",
      "  warnings.warn(\n"
     ]
    },
    {
     "name": "stdout",
     "output_type": "stream",
     "text": [
      "Accuracy: 0.8106060606060606\n"
     ]
    },
    {
     "name": "stderr",
     "output_type": "stream",
     "text": [
      "C:\\ProgramData\\Anaconda3\\lib\\site-packages\\sklearn\\neural_network\\_multilayer_perceptron.py:614: ConvergenceWarning: Stochastic Optimizer: Maximum iterations (1000) reached and the optimization hasn't converged yet.\n",
      "  warnings.warn(\n"
     ]
    },
    {
     "name": "stdout",
     "output_type": "stream",
     "text": [
      "Accuracy: 0.7803030303030303\n"
     ]
    },
    {
     "name": "stderr",
     "output_type": "stream",
     "text": [
      "C:\\ProgramData\\Anaconda3\\lib\\site-packages\\sklearn\\neural_network\\_multilayer_perceptron.py:614: ConvergenceWarning: Stochastic Optimizer: Maximum iterations (1000) reached and the optimization hasn't converged yet.\n",
      "  warnings.warn(\n"
     ]
    },
    {
     "name": "stdout",
     "output_type": "stream",
     "text": [
      "Accuracy: 0.8106060606060606\n",
      "Accuracy: 0.8333333333333334\n"
     ]
    },
    {
     "name": "stderr",
     "output_type": "stream",
     "text": [
      "C:\\ProgramData\\Anaconda3\\lib\\site-packages\\sklearn\\neural_network\\_multilayer_perceptron.py:614: ConvergenceWarning: Stochastic Optimizer: Maximum iterations (1000) reached and the optimization hasn't converged yet.\n",
      "  warnings.warn(\n"
     ]
    },
    {
     "name": "stdout",
     "output_type": "stream",
     "text": [
      "Accuracy: 0.8181818181818182\n"
     ]
    },
    {
     "name": "stderr",
     "output_type": "stream",
     "text": [
      "C:\\ProgramData\\Anaconda3\\lib\\site-packages\\sklearn\\neural_network\\_multilayer_perceptron.py:614: ConvergenceWarning: Stochastic Optimizer: Maximum iterations (1000) reached and the optimization hasn't converged yet.\n",
      "  warnings.warn(\n"
     ]
    },
    {
     "name": "stdout",
     "output_type": "stream",
     "text": [
      "Accuracy: 0.803030303030303\n"
     ]
    },
    {
     "name": "stderr",
     "output_type": "stream",
     "text": [
      "C:\\ProgramData\\Anaconda3\\lib\\site-packages\\sklearn\\neural_network\\_multilayer_perceptron.py:614: ConvergenceWarning: Stochastic Optimizer: Maximum iterations (1000) reached and the optimization hasn't converged yet.\n",
      "  warnings.warn(\n"
     ]
    },
    {
     "name": "stdout",
     "output_type": "stream",
     "text": [
      "Accuracy: 0.7954545454545454\n",
      "Accuracy: 0.7878787878787878\n",
      "Accuracy: 0.8181818181818182\n",
      "Accuracy: 0.8484848484848485\n",
      "Accuracy: 0.7954545454545454\n",
      "Accuracy: 0.803030303030303\n"
     ]
    },
    {
     "name": "stderr",
     "output_type": "stream",
     "text": [
      "C:\\ProgramData\\Anaconda3\\lib\\site-packages\\sklearn\\neural_network\\_multilayer_perceptron.py:614: ConvergenceWarning: Stochastic Optimizer: Maximum iterations (1000) reached and the optimization hasn't converged yet.\n",
      "  warnings.warn(\n"
     ]
    },
    {
     "name": "stdout",
     "output_type": "stream",
     "text": [
      "Accuracy: 0.8560606060606061\n",
      "Accuracy: 0.8333333333333334\n",
      "Accuracy: 0.8181818181818182\n"
     ]
    },
    {
     "name": "stderr",
     "output_type": "stream",
     "text": [
      "C:\\ProgramData\\Anaconda3\\lib\\site-packages\\sklearn\\neural_network\\_multilayer_perceptron.py:614: ConvergenceWarning: Stochastic Optimizer: Maximum iterations (1000) reached and the optimization hasn't converged yet.\n",
      "  warnings.warn(\n"
     ]
    },
    {
     "name": "stdout",
     "output_type": "stream",
     "text": [
      "Accuracy: 0.8106060606060606\n",
      "Accuracy: 0.8106060606060606\n"
     ]
    },
    {
     "name": "stderr",
     "output_type": "stream",
     "text": [
      "C:\\ProgramData\\Anaconda3\\lib\\site-packages\\sklearn\\neural_network\\_multilayer_perceptron.py:614: ConvergenceWarning: Stochastic Optimizer: Maximum iterations (1000) reached and the optimization hasn't converged yet.\n",
      "  warnings.warn(\n"
     ]
    },
    {
     "name": "stdout",
     "output_type": "stream",
     "text": [
      "Accuracy: 0.803030303030303\n",
      "Accuracy: 0.8257575757575758\n",
      "Accuracy: 0.7878787878787878\n",
      "Accuracy: 0.7954545454545454\n",
      "Accuracy: 0.8106060606060606\n",
      "Accuracy: 0.8181818181818182\n",
      "Accuracy: 0.7727272727272727\n"
     ]
    },
    {
     "name": "stderr",
     "output_type": "stream",
     "text": [
      "C:\\ProgramData\\Anaconda3\\lib\\site-packages\\sklearn\\neural_network\\_multilayer_perceptron.py:614: ConvergenceWarning: Stochastic Optimizer: Maximum iterations (1000) reached and the optimization hasn't converged yet.\n",
      "  warnings.warn(\n"
     ]
    },
    {
     "name": "stdout",
     "output_type": "stream",
     "text": [
      "Accuracy: 0.8333333333333334\n",
      "Accuracy: 0.8257575757575758\n",
      "Accuracy: 0.8409090909090909\n",
      "Accuracy: 0.7803030303030303\n",
      "Accuracy: 0.8560606060606061\n"
     ]
    },
    {
     "name": "stderr",
     "output_type": "stream",
     "text": [
      "C:\\ProgramData\\Anaconda3\\lib\\site-packages\\sklearn\\neural_network\\_multilayer_perceptron.py:614: ConvergenceWarning: Stochastic Optimizer: Maximum iterations (1000) reached and the optimization hasn't converged yet.\n",
      "  warnings.warn(\n"
     ]
    },
    {
     "name": "stdout",
     "output_type": "stream",
     "text": [
      "Accuracy: 0.8484848484848485\n",
      "Accuracy: 0.8257575757575758\n",
      "Accuracy: 0.8333333333333334\n"
     ]
    },
    {
     "name": "stderr",
     "output_type": "stream",
     "text": [
      "C:\\ProgramData\\Anaconda3\\lib\\site-packages\\sklearn\\neural_network\\_multilayer_perceptron.py:614: ConvergenceWarning: Stochastic Optimizer: Maximum iterations (1000) reached and the optimization hasn't converged yet.\n",
      "  warnings.warn(\n"
     ]
    },
    {
     "name": "stdout",
     "output_type": "stream",
     "text": [
      "Accuracy: 0.803030303030303\n",
      "Accuracy: 0.8712121212121212\n",
      "Accuracy: 0.7954545454545454\n",
      "Accuracy: 0.8106060606060606\n",
      "Accuracy: 0.8409090909090909\n"
     ]
    },
    {
     "name": "stderr",
     "output_type": "stream",
     "text": [
      "C:\\ProgramData\\Anaconda3\\lib\\site-packages\\sklearn\\neural_network\\_multilayer_perceptron.py:614: ConvergenceWarning: Stochastic Optimizer: Maximum iterations (1000) reached and the optimization hasn't converged yet.\n",
      "  warnings.warn(\n"
     ]
    },
    {
     "name": "stdout",
     "output_type": "stream",
     "text": [
      "Accuracy: 0.7803030303030303\n",
      "Accuracy: 0.8257575757575758\n",
      "Accuracy: 0.8181818181818182\n",
      "Accuracy: 0.8484848484848485\n"
     ]
    },
    {
     "name": "stderr",
     "output_type": "stream",
     "text": [
      "C:\\ProgramData\\Anaconda3\\lib\\site-packages\\sklearn\\neural_network\\_multilayer_perceptron.py:614: ConvergenceWarning: Stochastic Optimizer: Maximum iterations (1000) reached and the optimization hasn't converged yet.\n",
      "  warnings.warn(\n"
     ]
    },
    {
     "name": "stdout",
     "output_type": "stream",
     "text": [
      "Accuracy: 0.803030303030303\n",
      "Accuracy: 0.8181818181818182\n",
      "Accuracy: 0.8409090909090909\n",
      "Accuracy: 0.7651515151515151\n"
     ]
    },
    {
     "name": "stderr",
     "output_type": "stream",
     "text": [
      "C:\\ProgramData\\Anaconda3\\lib\\site-packages\\sklearn\\neural_network\\_multilayer_perceptron.py:614: ConvergenceWarning: Stochastic Optimizer: Maximum iterations (1000) reached and the optimization hasn't converged yet.\n",
      "  warnings.warn(\n"
     ]
    },
    {
     "name": "stdout",
     "output_type": "stream",
     "text": [
      "Accuracy: 0.8181818181818182\n"
     ]
    },
    {
     "name": "stderr",
     "output_type": "stream",
     "text": [
      "C:\\ProgramData\\Anaconda3\\lib\\site-packages\\sklearn\\neural_network\\_multilayer_perceptron.py:614: ConvergenceWarning: Stochastic Optimizer: Maximum iterations (1000) reached and the optimization hasn't converged yet.\n",
      "  warnings.warn(\n"
     ]
    },
    {
     "name": "stdout",
     "output_type": "stream",
     "text": [
      "Accuracy: 0.7878787878787878\n"
     ]
    },
    {
     "name": "stderr",
     "output_type": "stream",
     "text": [
      "C:\\ProgramData\\Anaconda3\\lib\\site-packages\\sklearn\\neural_network\\_multilayer_perceptron.py:614: ConvergenceWarning: Stochastic Optimizer: Maximum iterations (1000) reached and the optimization hasn't converged yet.\n",
      "  warnings.warn(\n"
     ]
    },
    {
     "name": "stdout",
     "output_type": "stream",
     "text": [
      "Accuracy: 0.8560606060606061\n",
      "Accuracy: 0.8636363636363636\n"
     ]
    },
    {
     "name": "stderr",
     "output_type": "stream",
     "text": [
      "C:\\ProgramData\\Anaconda3\\lib\\site-packages\\sklearn\\neural_network\\_multilayer_perceptron.py:614: ConvergenceWarning: Stochastic Optimizer: Maximum iterations (1000) reached and the optimization hasn't converged yet.\n",
      "  warnings.warn(\n"
     ]
    },
    {
     "name": "stdout",
     "output_type": "stream",
     "text": [
      "Accuracy: 0.803030303030303\n"
     ]
    },
    {
     "name": "stderr",
     "output_type": "stream",
     "text": [
      "C:\\ProgramData\\Anaconda3\\lib\\site-packages\\sklearn\\neural_network\\_multilayer_perceptron.py:614: ConvergenceWarning: Stochastic Optimizer: Maximum iterations (1000) reached and the optimization hasn't converged yet.\n",
      "  warnings.warn(\n"
     ]
    },
    {
     "name": "stdout",
     "output_type": "stream",
     "text": [
      "Accuracy: 0.8333333333333334\n"
     ]
    },
    {
     "name": "stderr",
     "output_type": "stream",
     "text": [
      "C:\\ProgramData\\Anaconda3\\lib\\site-packages\\sklearn\\neural_network\\_multilayer_perceptron.py:614: ConvergenceWarning: Stochastic Optimizer: Maximum iterations (1000) reached and the optimization hasn't converged yet.\n",
      "  warnings.warn(\n"
     ]
    },
    {
     "name": "stdout",
     "output_type": "stream",
     "text": [
      "Accuracy: 0.8257575757575758\n"
     ]
    },
    {
     "name": "stderr",
     "output_type": "stream",
     "text": [
      "C:\\ProgramData\\Anaconda3\\lib\\site-packages\\sklearn\\neural_network\\_multilayer_perceptron.py:614: ConvergenceWarning: Stochastic Optimizer: Maximum iterations (1000) reached and the optimization hasn't converged yet.\n",
      "  warnings.warn(\n"
     ]
    },
    {
     "name": "stdout",
     "output_type": "stream",
     "text": [
      "Accuracy: 0.8257575757575758\n",
      "Accuracy: 0.8181818181818182\n",
      "Accuracy: 0.8257575757575758\n",
      "Highest Accuracy: 0.8863636363636364\n"
     ]
    }
   ],
   "source": [
    "best = 0\n",
    "for _ in range(200):\n",
    "    xtrain, xtest, ytrain, ytest = sklearn.model_selection.train_test_split(X_for_ML, label1, test_size =0.25)\n",
    "\n",
    "    mlp = MLPClassifier(max_iter=1000, alpha=1, random_state=0)\n",
    "    mlp.fit(X_train_scaled, ytrain)\n",
    "\n",
    "\n",
    "\n",
    "    \n",
    "    acc = tree.score(xtest, ytest)\n",
    "    print(\"Accuracy: \" + str(acc))\n",
    "\n",
    "    # Save the highest accuracy\n",
    "    if (acc > best):\n",
    "        best = acc\n",
    "#         with open(\"data1.pickle\", \"wb\") as f:\n",
    "#             pickle.dump(mlp, f)\n",
    "print(\"Highest Accuracy:\", best)"
   ]
  },
  {
   "cell_type": "code",
   "execution_count": null,
   "id": "48690380",
   "metadata": {},
   "outputs": [],
   "source": []
  }
 ],
 "metadata": {
  "kernelspec": {
   "display_name": "Python 3 (ipykernel)",
   "language": "python",
   "name": "python3"
  },
  "language_info": {
   "codemirror_mode": {
    "name": "ipython",
    "version": 3
   },
   "file_extension": ".py",
   "mimetype": "text/x-python",
   "name": "python",
   "nbconvert_exporter": "python",
   "pygments_lexer": "ipython3",
   "version": "3.11.9"
  }
 },
 "nbformat": 4,
 "nbformat_minor": 5
}

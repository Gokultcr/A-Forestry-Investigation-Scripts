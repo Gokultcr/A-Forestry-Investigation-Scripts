{
 "cells": [
  {
   "cell_type": "markdown",
   "id": "8cafc7ba-113a-4e50-aaeb-291817a5b3e4",
   "metadata": {},
   "source": [
    "# Grid search on SVM"
   ]
  },
  {
   "cell_type": "markdown",
   "id": "f76d7e92-8aed-4081-9c29-2a9185c4fec3",
   "metadata": {},
   "source": [
    "### importing libraries"
   ]
  },
  {
   "cell_type": "code",
   "execution_count": 1,
   "id": "13a1251d",
   "metadata": {},
   "outputs": [],
   "source": [
    "import os\n",
    "import pandas as pd\n",
    "import numpy as np\n",
    "import cv2\n",
    "import matplotlib.pyplot as plt\n",
    "import pickle\n",
    "import random\n",
    "from sklearn.model_selection import train_test_split\n",
    "from sklearn.svm import SVC\n",
    "from sklearn.metrics import accuracy_score\n",
    "import seaborn as sns\n",
    "import sklearn\n",
    "from sklearn.metrics import confusion_matrix\n",
    "from sklearn.model_selection import GridSearchCV\n",
    "from pprint import pprint\n",
    "from sklearn.metrics import classification_report\n",
    "from skimage.feature import greycomatrix, greycoprops"
   ]
  },
  {
   "cell_type": "markdown",
   "id": "f798f3a3-eb26-426c-b6ee-c84015b7a05f",
   "metadata": {},
   "source": [
    "### dataset and labels"
   ]
  },
  {
   "cell_type": "code",
   "execution_count": 2,
   "id": "38d1f374",
   "metadata": {},
   "outputs": [],
   "source": [
    "dire=\"D:/Individual_Trees_photos/exatctcrop\"\n",
    "categories= ['European beech', 'European silver fir', 'Norway spruce', 'Sessile oak']\n",
    "\n",
    "data =[]\n",
    "SIZE = 200\n",
    "images =[]\n",
    "label1 =[]\n",
    "for category in categories:\n",
    "    path = os.path.join(dire, category)\n",
    "    label = categories.index(category)\n",
    "    \n",
    "    \n",
    "    for img in os.listdir(path):\n",
    "        imgpath = os.path.join(path,img)\n",
    "        tree_img = cv2.imread(imgpath,0)\n",
    "        try:\n",
    "            tree_img = cv2.resize(tree_img, (SIZE, SIZE)) #Resize images\n",
    "            #tree_img = cv2.resize(tree_img,(50,50))\n",
    "            image = np.array(tree_img).flatten()\n",
    "        \n",
    "            #data.append([image, label])\n",
    "            images.append(tree_img)\n",
    "            label1.append(label)\n",
    "        except Exception as e:\n",
    "            pass\n",
    "images=np.array(images)   "
   ]
  },
  {
   "cell_type": "markdown",
   "id": "8992854a-f4c1-4241-9a2d-9eb1d5a610ee",
   "metadata": {},
   "source": [
    "### glcm feature extraction"
   ]
  },
  {
   "cell_type": "code",
   "execution_count": 3,
   "id": "c07388df",
   "metadata": {},
   "outputs": [],
   "source": [
    "# FEATURE EXTRACTOR function\n",
    "# input shape is (n, x, y, c) - number of images, x, y, and channels\n",
    "def feature_extractor(dataset):\n",
    "    image_dataset = pd.DataFrame()\n",
    "    for image in range(dataset.shape[0]):  #iterate through each file \n",
    "        #print(image)\n",
    "        \n",
    "        df = pd.DataFrame()  #Temporary data frame to capture information for each loop.\n",
    "        #Reset dataframe to blank after each loop.\n",
    "        \n",
    "        img = dataset[image, :,:]\n",
    "        \n",
    "        #Full image\n",
    "        #GLCM = greycomatrix(img, [1], [0, np.pi/4, np.pi/2, 3*np.pi/4])\n",
    "        GLCM = greycomatrix(img, [1], [0])       \n",
    "        GLCM_Energy = greycoprops(GLCM, 'energy')[0]\n",
    "        df['Energy'] = GLCM_Energy\n",
    "        GLCM_corr = greycoprops(GLCM, 'correlation')[0]\n",
    "        df['Corr'] = GLCM_corr       \n",
    "        GLCM_diss = greycoprops(GLCM, 'dissimilarity')[0]\n",
    "        df['Diss_sim'] = GLCM_diss       \n",
    "        GLCM_hom = greycoprops(GLCM, 'homogeneity')[0]\n",
    "        df['Homogen'] = GLCM_hom       \n",
    "        GLCM_contr = greycoprops(GLCM, 'contrast')[0]\n",
    "        df['Contrast'] = GLCM_contr\n",
    "        \n",
    "        GLCM2 = greycomatrix(img, [3], [0])       \n",
    "        GLCM_Energy2 = greycoprops(GLCM2, 'energy')[0]\n",
    "        df['Energy2'] = GLCM_Energy2\n",
    "        GLCM_corr2 = greycoprops(GLCM2, 'correlation')[0]\n",
    "        df['Corr2'] = GLCM_corr2       \n",
    "        GLCM_diss2 = greycoprops(GLCM2, 'dissimilarity')[0]\n",
    "        df['Diss_sim2'] = GLCM_diss2       \n",
    "        GLCM_hom2 = greycoprops(GLCM2, 'homogeneity')[0]\n",
    "        df['Homogen2'] = GLCM_hom2       \n",
    "        GLCM_contr2 = greycoprops(GLCM2, 'contrast')[0]\n",
    "        df['Contrast2'] = GLCM_contr2\n",
    "\n",
    "        GLCM3 = greycomatrix(img, [5], [0])       \n",
    "        GLCM_Energy3 = greycoprops(GLCM3, 'energy')[0]\n",
    "        df['Energy3'] = GLCM_Energy3\n",
    "        GLCM_corr3 = greycoprops(GLCM3, 'correlation')[0]\n",
    "        df['Corr3'] = GLCM_corr3       \n",
    "        GLCM_diss3 = greycoprops(GLCM3, 'dissimilarity')[0]\n",
    "        df['Diss_sim3'] = GLCM_diss3       \n",
    "        GLCM_hom3 = greycoprops(GLCM3, 'homogeneity')[0]\n",
    "        df['Homogen3'] = GLCM_hom3       \n",
    "        GLCM_contr3 = greycoprops(GLCM3, 'contrast')[0]\n",
    "        df['Contrast3'] = GLCM_contr3\n",
    "        \n",
    "        GLCM4 = greycomatrix(img, [0], [np.pi/4])       \n",
    "        GLCM_Energy4 = greycoprops(GLCM4, 'energy')[0]\n",
    "        df['Energy4'] = GLCM_Energy4\n",
    "        GLCM_corr4 = greycoprops(GLCM4, 'correlation')[0]\n",
    "        df['Corr4'] = GLCM_corr4       \n",
    "        GLCM_diss4 = greycoprops(GLCM4, 'dissimilarity')[0]\n",
    "        df['Diss_sim4'] = GLCM_diss4       \n",
    "        GLCM_hom4 = greycoprops(GLCM4, 'homogeneity')[0]\n",
    "        df['Homogen4'] = GLCM_hom4       \n",
    "        GLCM_contr4 = greycoprops(GLCM4, 'contrast')[0]\n",
    "        df['Contrast4'] = GLCM_contr4\n",
    "        \n",
    "        GLCM5 = greycomatrix(img, [0], [np.pi/2])       \n",
    "        GLCM_Energy5 = greycoprops(GLCM5, 'energy')[0]\n",
    "        df['Energy5'] = GLCM_Energy5\n",
    "        GLCM_corr5 = greycoprops(GLCM5, 'correlation')[0]\n",
    "        df['Corr5'] = GLCM_corr5       \n",
    "        GLCM_diss5 = greycoprops(GLCM5, 'dissimilarity')[0]\n",
    "        df['Diss_sim5'] = GLCM_diss5       \n",
    "        GLCM_hom5 = greycoprops(GLCM5, 'homogeneity')[0]\n",
    "        df['Homogen5'] = GLCM_hom5       \n",
    "        GLCM_contr5 = greycoprops(GLCM5, 'contrast')[0]\n",
    "        df['Contrast5'] = GLCM_contr5\n",
    "        \n",
    "        #Add more filters as needed\n",
    "        #entropy = shannon_entropy(img)\n",
    "        #df['Entropy'] = entropy\n",
    "\n",
    "        \n",
    "        #Append features from current image to the dataset\n",
    "        image_dataset = image_dataset.append(df)\n",
    "        \n",
    "    return image_dataset"
   ]
  },
  {
   "cell_type": "code",
   "execution_count": 4,
   "id": "afa3d8f1",
   "metadata": {},
   "outputs": [],
   "source": [
    "#Extract features from images\n",
    "image_features = feature_extractor(images)\n",
    "X_for_ML =image_features\n"
   ]
  },
  {
   "cell_type": "markdown",
   "id": "f4b42da3-6b0a-44fe-95a6-5b0d3011b3ef",
   "metadata": {},
   "source": [
    "### Train test split"
   ]
  },
  {
   "cell_type": "code",
   "execution_count": 5,
   "id": "fa716e80",
   "metadata": {},
   "outputs": [],
   "source": [
    "#train test\n",
    "\n",
    "xtrain, xtest, ytrain, ytest = train_test_split(X_for_ML, label1, test_size =0.25)"
   ]
  },
  {
   "cell_type": "markdown",
   "id": "8e1d6bde-b7bf-4023-befb-c92cede582a8",
   "metadata": {},
   "source": [
    "### SVM algorithm initialisation"
   ]
  },
  {
   "cell_type": "code",
   "execution_count": 6,
   "id": "1a3ad620",
   "metadata": {},
   "outputs": [
    {
     "name": "stdout",
     "output_type": "stream",
     "text": [
      "Accuracy on training set: 0.64\n",
      "Accuracy on test set: 0.58\n"
     ]
    }
   ],
   "source": [
    "from sklearn.svm import SVC\n",
    "\n",
    "\n",
    "svc = SVC()\n",
    "svc.fit(xtrain, ytrain)\n",
    "\n",
    "print(\"Accuracy on training set: {:.2f}\".format(svc.score(xtrain, ytrain)))\n",
    "print(\"Accuracy on test set: {:.2f}\".format(svc.score(xtest, ytest)))"
   ]
  },
  {
   "cell_type": "code",
   "execution_count": 7,
   "id": "bd425c74",
   "metadata": {},
   "outputs": [
    {
     "name": "stdout",
     "output_type": "stream",
     "text": [
      "              precision    recall  f1-score   support\n",
      "\n",
      "           0       0.71      1.00      0.83        35\n",
      "           1       1.00      0.03      0.07        29\n",
      "           2       0.55      0.62      0.58        34\n",
      "           3       0.45      0.59      0.51        34\n",
      "\n",
      "    accuracy                           0.58       132\n",
      "   macro avg       0.68      0.56      0.50       132\n",
      "weighted avg       0.67      0.58      0.52       132\n",
      "\n"
     ]
    }
   ],
   "source": [
    "y_pred_nb = svc.predict(xtest)\n",
    "print (classification_report(ytest, y_pred_nb))"
   ]
  },
  {
   "cell_type": "code",
   "execution_count": 8,
   "id": "15cf401d",
   "metadata": {},
   "outputs": [
    {
     "data": {
      "text/plain": [
       "<AxesSubplot:>"
      ]
     },
     "execution_count": 8,
     "metadata": {},
     "output_type": "execute_result"
    },
    {
     "data": {
      "image/png": "[encoded data removed]",
      "text/plain": [
       "<Figure size 432x288 with 2 Axes>"
      ]
     },
     "metadata": {
      "needs_background": "light"
     },
     "output_type": "display_data"
    }
   ],
   "source": [
    "matrix4= confusion_matrix(ytest, y_pred_nb)\n",
    "\n",
    "sns.heatmap(matrix4,annot = True, fmt = \"d\")"
   ]
  },
  {
   "cell_type": "markdown",
   "id": "b8dacca7-1e43-4101-b726-a07b5fb872a7",
   "metadata": {},
   "source": [
    "### printing parameters"
   ]
  },
  {
   "cell_type": "code",
   "execution_count": 9,
   "id": "9c825109",
   "metadata": {},
   "outputs": [
    {
     "name": "stdout",
     "output_type": "stream",
     "text": [
      "{'C': 1.0,\n",
      " 'break_ties': False,\n",
      " 'cache_size': 200,\n",
      " 'class_weight': None,\n",
      " 'coef0': 0.0,\n",
      " 'decision_function_shape': 'ovr',\n",
      " 'degree': 3,\n",
      " 'gamma': 'scale',\n",
      " 'kernel': 'rbf',\n",
      " 'max_iter': -1,\n",
      " 'probability': False,\n",
      " 'random_state': None,\n",
      " 'shrinking': True,\n",
      " 'tol': 0.001,\n",
      " 'verbose': False}\n"
     ]
    }
   ],
   "source": [
    "pprint(svc.get_params())"
   ]
  },
  {
   "cell_type": "markdown",
   "id": "fa42b4c4-0f24-48d5-9740-7bcac89bffcf",
   "metadata": {},
   "source": [
    "### Defining parameters and values (Grid search)"
   ]
  },
  {
   "cell_type": "code",
   "execution_count": null,
   "id": "e948c701",
   "metadata": {},
   "outputs": [
    {
     "name": "stdout",
     "output_type": "stream",
     "text": [
      "Fitting 5 folds for each of 45 candidates, totalling 225 fits\n"
     ]
    }
   ],
   "source": [
    "# Define parameters\n",
    "\n",
    "\n",
    "# kernels = ['Polynomial', 'RBF', 'Sigmoid','Linear']#A function which returns the corresponding SVC model\n",
    "\n",
    "\n",
    "kernel = ['poly', 'rbf', 'sigmoid']\n",
    "\n",
    "C = [0.1, 1, 10, 100]\n",
    "\n",
    "\n",
    "#gamma= [1,0.1,0.01,0.001]\n",
    "gamma = [0.001, 0.01, 0.1]\n",
    "\n",
    "#verbose\n",
    "\n",
    "#random_state\n",
    "random_state = [0,1,2,42,50]\n",
    "\n",
    "param_grid1 = dict( kernel = kernel, gamma = gamma, random_state = random_state )\n",
    "\n",
    "# Build the gridsearch\n",
    "dfrst1 = SVC(kernel = kernel, gamma = gamma, random_state = random_state)\n",
    "grid1 = GridSearchCV(estimator=dfrst1, param_grid=param_grid1, verbose=2)\n",
    "grid_results1 = grid1.fit(xtrain, ytrain)\n",
    "\n",
    "\n",
    "# Summarize the results in a readable format\n",
    "print(\"Best: {0}, using {1}\".format(grid_results1.cv_results_['mean_test_score'], grid_results1.best_params_))\n",
    "results_df1 = pd.DataFrame(grid_results1.cv_results_)\n",
    "results_df1"
   ]
  },
  {
   "cell_type": "code",
   "execution_count": null,
   "id": "ecc7e2dc",
   "metadata": {},
   "outputs": [],
   "source": []
  }
 ],
 "metadata": {
  "kernelspec": {
   "display_name": "Python 3 (ipykernel)",
   "language": "python",
   "name": "python3"
  },
  "language_info": {
   "codemirror_mode": {
    "name": "ipython",
    "version": 3
   },
   "file_extension": ".py",
   "mimetype": "text/x-python",
   "name": "python",
   "nbconvert_exporter": "python",
   "pygments_lexer": "ipython3",
   "version": "3.11.9"
  }
 },
 "nbformat": 4,
 "nbformat_minor": 5
}

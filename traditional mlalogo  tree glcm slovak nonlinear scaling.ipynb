{
 "cells": [
  {
   "cell_type": "markdown",
   "id": "5f50384e",
   "metadata": {},
   "source": [
    "# Classification with different Machine learning algorithms (Traditional)"
   ]
  },
  {
   "cell_type": "markdown",
   "id": "fec69645",
   "metadata": {},
   "source": [
    "# importing libraries"
   ]
  },
  {
   "cell_type": "code",
   "execution_count": 37,
   "id": "f1f04f14",
   "metadata": {},
   "outputs": [],
   "source": [
    "import os\n",
    "import numpy as np\n",
    "import cv2\n",
    "import matplotlib.pyplot as plt\n",
    "import pickle\n",
    "import random\n",
    "from sklearn.model_selection import train_test_split\n",
    "from sklearn.svm import SVC\n",
    "from sklearn.metrics import accuracy_score\n",
    "import seaborn as sns\n",
    "import sklearn\n",
    "from sklearn.metrics import confusion_matrix\n",
    "import pandas as pd\n",
    "\n",
    "from sklearn.model_selection import GridSearchCV\n",
    "from pprint import pprint\n",
    "from sklearn.metrics import classification_report\n",
    "from skimage.feature import greycomatrix, greycoprops\n",
    "\n",
    "from sklearn.model_selection import StratifiedKFold"
   ]
  },
  {
   "cell_type": "markdown",
   "id": "94cba7c5",
   "metadata": {},
   "source": []
  },
  {
   "cell_type": "code",
   "execution_count": 38,
   "id": "8efecde4",
   "metadata": {},
   "outputs": [],
   "source": [
    "dire=\"D:/Individual_Trees_photos/nonlinearimages\"\n",
    "categories= ['European beech', 'European silver fir', 'Norway spruce', 'Sessile oak']\n",
    "\n",
    "data =[]\n",
    "SIZE = 200\n",
    "images =[]\n",
    "label1 =[]\n",
    "for category in categories:\n",
    "    path = os.path.join(dire, category)\n",
    "    label = categories.index(category)\n",
    "    \n",
    "    \n",
    "    for img in os.listdir(path):\n",
    "        imgpath = os.path.join(path,img)\n",
    "        tree_img = cv2.imread(imgpath,0)\n",
    "        try:\n",
    "            tree_img = cv2.resize(tree_img, (SIZE, SIZE)) #Resize images\n",
    "            #tree_img = cv2.resize(tree_img,(50,50))\n",
    "            image = np.array(tree_img).flatten()\n",
    "        \n",
    "            #data.append([image, label])\n",
    "            images.append(tree_img)\n",
    "            label1.append(label)\n",
    "        except Exception as e:\n",
    "            pass\n",
    "images=np.array(images)   "
   ]
  },
  {
   "cell_type": "markdown",
   "id": "5291c408",
   "metadata": {},
   "source": []
  },
  {
   "cell_type": "code",
   "execution_count": 39,
   "id": "154454df",
   "metadata": {},
   "outputs": [],
   "source": [
    "# FEATURE EXTRACTOR function\n",
    "# input shape is (n, x, y, c) - number of images, x, y, and channels\n",
    "def feature_extractor(dataset):\n",
    "    image_dataset = pd.DataFrame()\n",
    "    for image in range(dataset.shape[0]):  #iterate through each file \n",
    "        #print(image)\n",
    "        \n",
    "        df = pd.DataFrame()  #Temporary data frame to capture information for each loop.\n",
    "        #Reset dataframe to blank after each loop.\n",
    "        \n",
    "        img = dataset[image, :,:]\n",
    "        \n",
    "        #Full image\n",
    "        #GLCM = greycomatrix(img, [1], [0, np.pi/4, np.pi/2, 3*np.pi/4])\n",
    "        GLCM = greycomatrix(img, [1], [0])       \n",
    "        GLCM_Energy = greycoprops(GLCM, 'energy')[0]\n",
    "        df['Energy'] = GLCM_Energy\n",
    "        GLCM_corr = greycoprops(GLCM, 'correlation')[0]\n",
    "        df['Corr'] = GLCM_corr       \n",
    "        GLCM_diss = greycoprops(GLCM, 'dissimilarity')[0]\n",
    "        df['Diss_sim'] = GLCM_diss       \n",
    "        GLCM_hom = greycoprops(GLCM, 'homogeneity')[0]\n",
    "        df['Homogen'] = GLCM_hom       \n",
    "        GLCM_contr = greycoprops(GLCM, 'contrast')[0]\n",
    "        df['Contrast'] = GLCM_contr\n",
    "        \n",
    "        GLCM2 = greycomatrix(img, [3], [0])       \n",
    "        GLCM_Energy2 = greycoprops(GLCM2, 'energy')[0]\n",
    "        df['Energy2'] = GLCM_Energy2\n",
    "        GLCM_corr2 = greycoprops(GLCM2, 'correlation')[0]\n",
    "        df['Corr2'] = GLCM_corr2       \n",
    "        GLCM_diss2 = greycoprops(GLCM2, 'dissimilarity')[0]\n",
    "        df['Diss_sim2'] = GLCM_diss2       \n",
    "        GLCM_hom2 = greycoprops(GLCM2, 'homogeneity')[0]\n",
    "        df['Homogen2'] = GLCM_hom2       \n",
    "        GLCM_contr2 = greycoprops(GLCM2, 'contrast')[0]\n",
    "        df['Contrast2'] = GLCM_contr2\n",
    "\n",
    "        GLCM3 = greycomatrix(img, [5], [0])       \n",
    "        GLCM_Energy3 = greycoprops(GLCM3, 'energy')[0]\n",
    "        df['Energy3'] = GLCM_Energy3\n",
    "        GLCM_corr3 = greycoprops(GLCM3, 'correlation')[0]\n",
    "        df['Corr3'] = GLCM_corr3       \n",
    "        GLCM_diss3 = greycoprops(GLCM3, 'dissimilarity')[0]\n",
    "        df['Diss_sim3'] = GLCM_diss3       \n",
    "        GLCM_hom3 = greycoprops(GLCM3, 'homogeneity')[0]\n",
    "        df['Homogen3'] = GLCM_hom3       \n",
    "        GLCM_contr3 = greycoprops(GLCM3, 'contrast')[0]\n",
    "        df['Contrast3'] = GLCM_contr3\n",
    "        \n",
    "        GLCM4 = greycomatrix(img, [0], [np.pi/4])       \n",
    "        GLCM_Energy4 = greycoprops(GLCM4, 'energy')[0]\n",
    "        df['Energy4'] = GLCM_Energy4\n",
    "        GLCM_corr4 = greycoprops(GLCM4, 'correlation')[0]\n",
    "        df['Corr4'] = GLCM_corr4       \n",
    "        GLCM_diss4 = greycoprops(GLCM4, 'dissimilarity')[0]\n",
    "        df['Diss_sim4'] = GLCM_diss4       \n",
    "        GLCM_hom4 = greycoprops(GLCM4, 'homogeneity')[0]\n",
    "        df['Homogen4'] = GLCM_hom4       \n",
    "        GLCM_contr4 = greycoprops(GLCM4, 'contrast')[0]\n",
    "        df['Contrast4'] = GLCM_contr4\n",
    "        \n",
    "        GLCM5 = greycomatrix(img, [0], [np.pi/2])       \n",
    "        GLCM_Energy5 = greycoprops(GLCM5, 'energy')[0]\n",
    "        df['Energy5'] = GLCM_Energy5\n",
    "        GLCM_corr5 = greycoprops(GLCM5, 'correlation')[0]\n",
    "        df['Corr5'] = GLCM_corr5       \n",
    "        GLCM_diss5 = greycoprops(GLCM5, 'dissimilarity')[0]\n",
    "        df['Diss_sim5'] = GLCM_diss5       \n",
    "        GLCM_hom5 = greycoprops(GLCM5, 'homogeneity')[0]\n",
    "        df['Homogen5'] = GLCM_hom5       \n",
    "        GLCM_contr5 = greycoprops(GLCM5, 'contrast')[0]\n",
    "        df['Contrast5'] = GLCM_contr5\n",
    "        \n",
    "        #Add more filters as needed\n",
    "        #entropy = shannon_entropy(img)\n",
    "        #df['Entropy'] = entropy\n",
    "\n",
    "        \n",
    "        #Append features from current image to the dataset\n",
    "        image_dataset = image_dataset.append(df)\n",
    "        \n",
    "    return image_dataset"
   ]
  },
  {
   "cell_type": "code",
   "execution_count": 40,
   "id": "c574feec",
   "metadata": {},
   "outputs": [],
   "source": [
    "#Extract features from images\n",
    "image_features = feature_extractor(images)\n",
    "X_for_ML =image_features\n"
   ]
  },
  {
   "cell_type": "code",
   "execution_count": 41,
   "id": "5889fbaa",
   "metadata": {},
   "outputs": [
    {
     "data": {
      "text/html": [
       "<div>\n",
       "<style scoped>\n",
       "    .dataframe tbody tr th:only-of-type {\n",
       "        vertical-align: middle;\n",
       "    }\n",
       "\n",
       "    .dataframe tbody tr th {\n",
       "        vertical-align: top;\n",
       "    }\n",
       "\n",
       "    .dataframe thead th {\n",
       "        text-align: right;\n",
       "    }\n",
       "</style>\n",
       "<table border=\"1\" class=\"dataframe\">\n",
       "  <thead>\n",
       "    <tr style=\"text-align: right;\">\n",
       "      <th></th>\n",
       "      <th>Energy</th>\n",
       "      <th>Corr</th>\n",
       "      <th>Diss_sim</th>\n",
       "      <th>Homogen</th>\n",
       "      <th>Contrast</th>\n",
       "      <th>Energy2</th>\n",
       "      <th>Corr2</th>\n",
       "      <th>Diss_sim2</th>\n",
       "      <th>Homogen2</th>\n",
       "      <th>Contrast2</th>\n",
       "      <th>...</th>\n",
       "      <th>Energy4</th>\n",
       "      <th>Corr4</th>\n",
       "      <th>Diss_sim4</th>\n",
       "      <th>Homogen4</th>\n",
       "      <th>Contrast4</th>\n",
       "      <th>Energy5</th>\n",
       "      <th>Corr5</th>\n",
       "      <th>Diss_sim5</th>\n",
       "      <th>Homogen5</th>\n",
       "      <th>Contrast5</th>\n",
       "    </tr>\n",
       "  </thead>\n",
       "  <tbody>\n",
       "    <tr>\n",
       "      <th>0</th>\n",
       "      <td>0.255187</td>\n",
       "      <td>0.932171</td>\n",
       "      <td>4.983015</td>\n",
       "      <td>0.504260</td>\n",
       "      <td>403.309950</td>\n",
       "      <td>0.242473</td>\n",
       "      <td>0.699581</td>\n",
       "      <td>11.772437</td>\n",
       "      <td>0.401143</td>\n",
       "      <td>1540.405990</td>\n",
       "      <td>...</td>\n",
       "      <td>0.293423</td>\n",
       "      <td>1.0</td>\n",
       "      <td>0.0</td>\n",
       "      <td>1.0</td>\n",
       "      <td>0.0</td>\n",
       "      <td>0.293423</td>\n",
       "      <td>1.0</td>\n",
       "      <td>0.0</td>\n",
       "      <td>1.0</td>\n",
       "      <td>0.0</td>\n",
       "    </tr>\n",
       "    <tr>\n",
       "      <th>0</th>\n",
       "      <td>0.256293</td>\n",
       "      <td>0.925416</td>\n",
       "      <td>4.713668</td>\n",
       "      <td>0.526939</td>\n",
       "      <td>461.663618</td>\n",
       "      <td>0.244266</td>\n",
       "      <td>0.706665</td>\n",
       "      <td>11.288426</td>\n",
       "      <td>0.424282</td>\n",
       "      <td>1589.079340</td>\n",
       "      <td>...</td>\n",
       "      <td>0.289706</td>\n",
       "      <td>1.0</td>\n",
       "      <td>0.0</td>\n",
       "      <td>1.0</td>\n",
       "      <td>0.0</td>\n",
       "      <td>0.289706</td>\n",
       "      <td>1.0</td>\n",
       "      <td>0.0</td>\n",
       "      <td>1.0</td>\n",
       "      <td>0.0</td>\n",
       "    </tr>\n",
       "    <tr>\n",
       "      <th>0</th>\n",
       "      <td>0.313438</td>\n",
       "      <td>0.933670</td>\n",
       "      <td>4.252864</td>\n",
       "      <td>0.585108</td>\n",
       "      <td>450.575628</td>\n",
       "      <td>0.302088</td>\n",
       "      <td>0.733057</td>\n",
       "      <td>10.716701</td>\n",
       "      <td>0.475601</td>\n",
       "      <td>1592.665431</td>\n",
       "      <td>...</td>\n",
       "      <td>0.340975</td>\n",
       "      <td>1.0</td>\n",
       "      <td>0.0</td>\n",
       "      <td>1.0</td>\n",
       "      <td>0.0</td>\n",
       "      <td>0.340975</td>\n",
       "      <td>1.0</td>\n",
       "      <td>0.0</td>\n",
       "      <td>1.0</td>\n",
       "      <td>0.0</td>\n",
       "    </tr>\n",
       "    <tr>\n",
       "      <th>0</th>\n",
       "      <td>0.332475</td>\n",
       "      <td>0.931593</td>\n",
       "      <td>4.138040</td>\n",
       "      <td>0.602127</td>\n",
       "      <td>494.713719</td>\n",
       "      <td>0.321501</td>\n",
       "      <td>0.750918</td>\n",
       "      <td>10.386650</td>\n",
       "      <td>0.500219</td>\n",
       "      <td>1603.805990</td>\n",
       "      <td>...</td>\n",
       "      <td>0.357175</td>\n",
       "      <td>1.0</td>\n",
       "      <td>0.0</td>\n",
       "      <td>1.0</td>\n",
       "      <td>0.0</td>\n",
       "      <td>0.357175</td>\n",
       "      <td>1.0</td>\n",
       "      <td>0.0</td>\n",
       "      <td>1.0</td>\n",
       "      <td>0.0</td>\n",
       "    </tr>\n",
       "    <tr>\n",
       "      <th>0</th>\n",
       "      <td>0.268853</td>\n",
       "      <td>0.913366</td>\n",
       "      <td>5.788090</td>\n",
       "      <td>0.477033</td>\n",
       "      <td>549.372261</td>\n",
       "      <td>0.257164</td>\n",
       "      <td>0.696494</td>\n",
       "      <td>13.005990</td>\n",
       "      <td>0.394667</td>\n",
       "      <td>1675.986142</td>\n",
       "      <td>...</td>\n",
       "      <td>0.294188</td>\n",
       "      <td>1.0</td>\n",
       "      <td>0.0</td>\n",
       "      <td>1.0</td>\n",
       "      <td>0.0</td>\n",
       "      <td>0.294188</td>\n",
       "      <td>1.0</td>\n",
       "      <td>0.0</td>\n",
       "      <td>1.0</td>\n",
       "      <td>0.0</td>\n",
       "    </tr>\n",
       "    <tr>\n",
       "      <th>...</th>\n",
       "      <td>...</td>\n",
       "      <td>...</td>\n",
       "      <td>...</td>\n",
       "      <td>...</td>\n",
       "      <td>...</td>\n",
       "      <td>...</td>\n",
       "      <td>...</td>\n",
       "      <td>...</td>\n",
       "      <td>...</td>\n",
       "      <td>...</td>\n",
       "      <td>...</td>\n",
       "      <td>...</td>\n",
       "      <td>...</td>\n",
       "      <td>...</td>\n",
       "      <td>...</td>\n",
       "      <td>...</td>\n",
       "      <td>...</td>\n",
       "      <td>...</td>\n",
       "      <td>...</td>\n",
       "      <td>...</td>\n",
       "      <td>...</td>\n",
       "    </tr>\n",
       "    <tr>\n",
       "      <th>0</th>\n",
       "      <td>0.372707</td>\n",
       "      <td>0.916956</td>\n",
       "      <td>9.065678</td>\n",
       "      <td>0.486788</td>\n",
       "      <td>651.007337</td>\n",
       "      <td>0.363703</td>\n",
       "      <td>0.706037</td>\n",
       "      <td>19.900254</td>\n",
       "      <td>0.433146</td>\n",
       "      <td>2072.064112</td>\n",
       "      <td>...</td>\n",
       "      <td>0.381888</td>\n",
       "      <td>1.0</td>\n",
       "      <td>0.0</td>\n",
       "      <td>1.0</td>\n",
       "      <td>0.0</td>\n",
       "      <td>0.381888</td>\n",
       "      <td>1.0</td>\n",
       "      <td>0.0</td>\n",
       "      <td>1.0</td>\n",
       "      <td>0.0</td>\n",
       "    </tr>\n",
       "    <tr>\n",
       "      <th>0</th>\n",
       "      <td>0.508327</td>\n",
       "      <td>0.960415</td>\n",
       "      <td>6.150854</td>\n",
       "      <td>0.623526</td>\n",
       "      <td>341.870402</td>\n",
       "      <td>0.501245</td>\n",
       "      <td>0.789197</td>\n",
       "      <td>14.916548</td>\n",
       "      <td>0.573424</td>\n",
       "      <td>1642.710761</td>\n",
       "      <td>...</td>\n",
       "      <td>0.514035</td>\n",
       "      <td>1.0</td>\n",
       "      <td>0.0</td>\n",
       "      <td>1.0</td>\n",
       "      <td>0.0</td>\n",
       "      <td>0.514035</td>\n",
       "      <td>1.0</td>\n",
       "      <td>0.0</td>\n",
       "      <td>1.0</td>\n",
       "      <td>0.0</td>\n",
       "    </tr>\n",
       "    <tr>\n",
       "      <th>0</th>\n",
       "      <td>0.493576</td>\n",
       "      <td>0.919675</td>\n",
       "      <td>5.888141</td>\n",
       "      <td>0.613431</td>\n",
       "      <td>605.102211</td>\n",
       "      <td>0.485419</td>\n",
       "      <td>0.712512</td>\n",
       "      <td>14.274670</td>\n",
       "      <td>0.554352</td>\n",
       "      <td>1902.535127</td>\n",
       "      <td>...</td>\n",
       "      <td>0.500613</td>\n",
       "      <td>1.0</td>\n",
       "      <td>0.0</td>\n",
       "      <td>1.0</td>\n",
       "      <td>0.0</td>\n",
       "      <td>0.500613</td>\n",
       "      <td>1.0</td>\n",
       "      <td>0.0</td>\n",
       "      <td>1.0</td>\n",
       "      <td>0.0</td>\n",
       "    </tr>\n",
       "    <tr>\n",
       "      <th>0</th>\n",
       "      <td>0.440162</td>\n",
       "      <td>0.921668</td>\n",
       "      <td>6.106332</td>\n",
       "      <td>0.577539</td>\n",
       "      <td>576.261558</td>\n",
       "      <td>0.431290</td>\n",
       "      <td>0.710945</td>\n",
       "      <td>14.761371</td>\n",
       "      <td>0.508782</td>\n",
       "      <td>1865.724162</td>\n",
       "      <td>...</td>\n",
       "      <td>0.448950</td>\n",
       "      <td>1.0</td>\n",
       "      <td>0.0</td>\n",
       "      <td>1.0</td>\n",
       "      <td>0.0</td>\n",
       "      <td>0.448950</td>\n",
       "      <td>1.0</td>\n",
       "      <td>0.0</td>\n",
       "      <td>1.0</td>\n",
       "      <td>0.0</td>\n",
       "    </tr>\n",
       "    <tr>\n",
       "      <th>0</th>\n",
       "      <td>0.478022</td>\n",
       "      <td>0.942295</td>\n",
       "      <td>5.341608</td>\n",
       "      <td>0.619770</td>\n",
       "      <td>465.787940</td>\n",
       "      <td>0.470380</td>\n",
       "      <td>0.760932</td>\n",
       "      <td>13.812893</td>\n",
       "      <td>0.552295</td>\n",
       "      <td>1723.607208</td>\n",
       "      <td>...</td>\n",
       "      <td>0.485198</td>\n",
       "      <td>1.0</td>\n",
       "      <td>0.0</td>\n",
       "      <td>1.0</td>\n",
       "      <td>0.0</td>\n",
       "      <td>0.485198</td>\n",
       "      <td>1.0</td>\n",
       "      <td>0.0</td>\n",
       "      <td>1.0</td>\n",
       "      <td>0.0</td>\n",
       "    </tr>\n",
       "  </tbody>\n",
       "</table>\n",
       "<p>321 rows × 25 columns</p>\n",
       "</div>"
      ],
      "text/plain": [
       "      Energy      Corr  Diss_sim   Homogen    Contrast   Energy2     Corr2  \\\n",
       "0   0.255187  0.932171  4.983015  0.504260  403.309950  0.242473  0.699581   \n",
       "0   0.256293  0.925416  4.713668  0.526939  461.663618  0.244266  0.706665   \n",
       "0   0.313438  0.933670  4.252864  0.585108  450.575628  0.302088  0.733057   \n",
       "0   0.332475  0.931593  4.138040  0.602127  494.713719  0.321501  0.750918   \n",
       "0   0.268853  0.913366  5.788090  0.477033  549.372261  0.257164  0.696494   \n",
       "..       ...       ...       ...       ...         ...       ...       ...   \n",
       "0   0.372707  0.916956  9.065678  0.486788  651.007337  0.363703  0.706037   \n",
       "0   0.508327  0.960415  6.150854  0.623526  341.870402  0.501245  0.789197   \n",
       "0   0.493576  0.919675  5.888141  0.613431  605.102211  0.485419  0.712512   \n",
       "0   0.440162  0.921668  6.106332  0.577539  576.261558  0.431290  0.710945   \n",
       "0   0.478022  0.942295  5.341608  0.619770  465.787940  0.470380  0.760932   \n",
       "\n",
       "    Diss_sim2  Homogen2    Contrast2  ...   Energy4  Corr4  Diss_sim4  \\\n",
       "0   11.772437  0.401143  1540.405990  ...  0.293423    1.0        0.0   \n",
       "0   11.288426  0.424282  1589.079340  ...  0.289706    1.0        0.0   \n",
       "0   10.716701  0.475601  1592.665431  ...  0.340975    1.0        0.0   \n",
       "0   10.386650  0.500219  1603.805990  ...  0.357175    1.0        0.0   \n",
       "0   13.005990  0.394667  1675.986142  ...  0.294188    1.0        0.0   \n",
       "..        ...       ...          ...  ...       ...    ...        ...   \n",
       "0   19.900254  0.433146  2072.064112  ...  0.381888    1.0        0.0   \n",
       "0   14.916548  0.573424  1642.710761  ...  0.514035    1.0        0.0   \n",
       "0   14.274670  0.554352  1902.535127  ...  0.500613    1.0        0.0   \n",
       "0   14.761371  0.508782  1865.724162  ...  0.448950    1.0        0.0   \n",
       "0   13.812893  0.552295  1723.607208  ...  0.485198    1.0        0.0   \n",
       "\n",
       "    Homogen4  Contrast4   Energy5  Corr5  Diss_sim5  Homogen5  Contrast5  \n",
       "0        1.0        0.0  0.293423    1.0        0.0       1.0        0.0  \n",
       "0        1.0        0.0  0.289706    1.0        0.0       1.0        0.0  \n",
       "0        1.0        0.0  0.340975    1.0        0.0       1.0        0.0  \n",
       "0        1.0        0.0  0.357175    1.0        0.0       1.0        0.0  \n",
       "0        1.0        0.0  0.294188    1.0        0.0       1.0        0.0  \n",
       "..       ...        ...       ...    ...        ...       ...        ...  \n",
       "0        1.0        0.0  0.381888    1.0        0.0       1.0        0.0  \n",
       "0        1.0        0.0  0.514035    1.0        0.0       1.0        0.0  \n",
       "0        1.0        0.0  0.500613    1.0        0.0       1.0        0.0  \n",
       "0        1.0        0.0  0.448950    1.0        0.0       1.0        0.0  \n",
       "0        1.0        0.0  0.485198    1.0        0.0       1.0        0.0  \n",
       "\n",
       "[321 rows x 25 columns]"
      ]
     },
     "execution_count": 41,
     "metadata": {},
     "output_type": "execute_result"
    }
   ],
   "source": [
    "image_features"
   ]
  },
  {
   "cell_type": "markdown",
   "id": "667c74ea",
   "metadata": {},
   "source": [
    "# Train and test data split "
   ]
  },
  {
   "cell_type": "code",
   "execution_count": 42,
   "id": "165a9768",
   "metadata": {},
   "outputs": [],
   "source": [
    "#train test\n",
    "\n",
    "x1train, x1test, ytrain, ytest = train_test_split(X_for_ML, label1, test_size =0.25)"
   ]
  },
  {
   "cell_type": "code",
   "execution_count": 43,
   "id": "f1816a9a",
   "metadata": {},
   "outputs": [],
   "source": [
    "from sklearn.preprocessing import StandardScaler\n",
    "\n",
    "scaler = StandardScaler()\n",
    "xtrain = scaler.fit_transform(x1train)\n",
    "xtest = scaler.fit_transform(x1test)"
   ]
  },
  {
   "cell_type": "markdown",
   "id": "00750d7a",
   "metadata": {},
   "source": [
    "# Machine learning Algorithms"
   ]
  },
  {
   "cell_type": "markdown",
   "id": "33724192",
   "metadata": {},
   "source": [
    "## Random Forest Classifier"
   ]
  },
  {
   "cell_type": "code",
   "execution_count": 44,
   "id": "5352cb64",
   "metadata": {},
   "outputs": [
    {
     "data": {
      "text/plain": [
       "RandomForestClassifier(n_estimators=40)"
      ]
     },
     "execution_count": 44,
     "metadata": {},
     "output_type": "execute_result"
    }
   ],
   "source": [
    "from sklearn.ensemble import RandomForestClassifier\n",
    "classifier = RandomForestClassifier(n_estimators = 40)\n",
    "classifier.fit(xtrain, ytrain)\n"
   ]
  },
  {
   "cell_type": "code",
   "execution_count": 45,
   "id": "fdca57ec",
   "metadata": {},
   "outputs": [
    {
     "name": "stdout",
     "output_type": "stream",
     "text": [
      "Accuracy on training set: 1.000\n",
      "Accuracy on test set: 0.728\n"
     ]
    }
   ],
   "source": [
    "print(\"Accuracy on training set: {:.3f}\".format(classifier.score(xtrain, ytrain)))\n",
    "print(\"Accuracy on test set: {:.3f}\".format(classifier.score(xtest, ytest)))"
   ]
  },
  {
   "cell_type": "code",
   "execution_count": 46,
   "id": "efa05e65",
   "metadata": {},
   "outputs": [
    {
     "name": "stdout",
     "output_type": "stream",
     "text": [
      "              precision    recall  f1-score   support\n",
      "\n",
      "           0       1.00      0.95      0.98        22\n",
      "           1       0.50      0.58      0.54        19\n",
      "           2       0.47      0.53      0.50        17\n",
      "           3       0.95      0.78      0.86        23\n",
      "\n",
      "    accuracy                           0.73        81\n",
      "   macro avg       0.73      0.71      0.72        81\n",
      "weighted avg       0.76      0.73      0.74        81\n",
      "\n"
     ]
    }
   ],
   "source": [
    "from sklearn.metrics import classification_report\n",
    "predictions = classifier.predict(xtest)\n",
    "print (classification_report(ytest, predictions))"
   ]
  },
  {
   "cell_type": "code",
   "execution_count": 47,
   "id": "30b7e20e",
   "metadata": {},
   "outputs": [
    {
     "data": {
      "text/plain": [
       "<AxesSubplot:>"
      ]
     },
     "execution_count": 47,
     "metadata": {},
     "output_type": "execute_result"
    },
    {
     "data": {
      "image/png": "[encoded data removed]",
      "text/plain": [
       "<Figure size 432x288 with 2 Axes>"
      ]
     },
     "metadata": {
      "needs_background": "light"
     },
     "output_type": "display_data"
    }
   ],
   "source": [
    "matrix= confusion_matrix(ytest, predictions)\n",
    "\n",
    "sns.heatmap(matrix,annot = True, fmt = \"d\")"
   ]
  },
  {
   "cell_type": "code",
   "execution_count": 48,
   "id": "42f76fae",
   "metadata": {},
   "outputs": [
    {
     "name": "stdout",
     "output_type": "stream",
     "text": [
      "Accuracy: 0.7160493827160493\n",
      "Accuracy: 0.7407407407407407\n",
      "Accuracy: 0.7283950617283951\n",
      "Accuracy: 0.6172839506172839\n",
      "Accuracy: 0.691358024691358\n",
      "Accuracy: 0.6790123456790124\n",
      "Accuracy: 0.6049382716049383\n",
      "Accuracy: 0.7160493827160493\n",
      "Accuracy: 0.691358024691358\n",
      "Accuracy: 0.6296296296296297\n",
      "Accuracy: 0.6419753086419753\n",
      "Accuracy: 0.7160493827160493\n",
      "Accuracy: 0.7407407407407407\n",
      "Accuracy: 0.7407407407407407\n",
      "Accuracy: 0.654320987654321\n",
      "Accuracy: 0.7407407407407407\n",
      "Accuracy: 0.691358024691358\n",
      "Accuracy: 0.6790123456790124\n",
      "Accuracy: 0.7160493827160493\n",
      "Accuracy: 0.7777777777777778\n",
      "Accuracy: 0.7283950617283951\n",
      "Accuracy: 0.7283950617283951\n",
      "Accuracy: 0.654320987654321\n",
      "Accuracy: 0.7283950617283951\n",
      "Accuracy: 0.7160493827160493\n",
      "Accuracy: 0.7283950617283951\n",
      "Accuracy: 0.7160493827160493\n",
      "Accuracy: 0.6666666666666666\n",
      "Accuracy: 0.7283950617283951\n",
      "Accuracy: 0.7283950617283951\n",
      "Accuracy: 0.691358024691358\n",
      "Accuracy: 0.691358024691358\n",
      "Accuracy: 0.6666666666666666\n",
      "Accuracy: 0.654320987654321\n",
      "Accuracy: 0.6790123456790124\n",
      "Accuracy: 0.6666666666666666\n",
      "Accuracy: 0.7530864197530864\n",
      "Accuracy: 0.7530864197530864\n",
      "Accuracy: 0.654320987654321\n",
      "Accuracy: 0.691358024691358\n",
      "Accuracy: 0.7407407407407407\n",
      "Accuracy: 0.7037037037037037\n",
      "Accuracy: 0.6666666666666666\n",
      "Accuracy: 0.6790123456790124\n",
      "Accuracy: 0.6790123456790124\n",
      "Accuracy: 0.6666666666666666\n",
      "Accuracy: 0.654320987654321\n",
      "Accuracy: 0.7037037037037037\n",
      "Accuracy: 0.5802469135802469\n",
      "Accuracy: 0.691358024691358\n",
      "Highest Accuracy: 0.7777777777777778\n"
     ]
    }
   ],
   "source": [
    "# Train model multiple times to find the highest accuracy\n",
    "best = 0\n",
    "for _ in range(50):\n",
    "    xtrain, xtest, ytrain, ytest = sklearn.model_selection.train_test_split(X_for_ML, label1, test_size =0.25)\n",
    "\n",
    "    classifier = RandomForestClassifier(n_estimators = 40)\n",
    "    classifier.fit(xtrain, ytrain)\n",
    "\n",
    "    \n",
    "    acc = classifier.score(xtest, ytest)\n",
    "    print(\"Accuracy: \" + str(acc))\n",
    "\n",
    "    # Save the highest accuracy\n",
    "    if (acc > best):\n",
    "        best = acc\n",
    "       \n",
    "print(\"Highest Accuracy:\", best)"
   ]
  },
  {
   "cell_type": "code",
   "execution_count": null,
   "id": "9bf5c4f0",
   "metadata": {},
   "outputs": [],
   "source": []
  },
  {
   "cell_type": "code",
   "execution_count": null,
   "id": "b61fdfb7",
   "metadata": {},
   "outputs": [],
   "source": []
  },
  {
   "cell_type": "markdown",
   "id": "2f0c8af6",
   "metadata": {},
   "source": [
    "## K-Neighbors "
   ]
  },
  {
   "cell_type": "code",
   "execution_count": 49,
   "id": "a9a60042",
   "metadata": {},
   "outputs": [
    {
     "data": {
      "image/png": "[encoded data removed]",
      "text/plain": [
       "<Figure size 432x288 with 1 Axes>"
      ]
     },
     "metadata": {
      "needs_background": "light"
     },
     "output_type": "display_data"
    }
   ],
   "source": [
    "from sklearn.neighbors import KNeighborsClassifier\n",
    "\n",
    "training_accuracy = []\n",
    "test_accuracy = []\n",
    "# try n_neighbors from 1 to 10\n",
    "neighbors_settings = range(1, 11)\n",
    "\n",
    "for n_neighbors in neighbors_settings:\n",
    "    # build the model\n",
    "    knn = KNeighborsClassifier(n_neighbors=n_neighbors)\n",
    "    knn.fit(xtrain, ytrain)\n",
    "    # record training set accuracy\n",
    "    training_accuracy.append(knn.score(xtrain, ytrain))\n",
    "    # record test set accuracy\n",
    "    test_accuracy.append(knn.score(xtest, ytest))\n",
    "\n",
    "plt.plot(neighbors_settings, training_accuracy, label=\"training accuracy\")\n",
    "plt.plot(neighbors_settings, test_accuracy, label=\"test accuracy\")\n",
    "plt.ylabel(\"Accuracy\")\n",
    "plt.xlabel(\"n_neighbors\")\n",
    "plt.legend()\n",
    "plt.savefig('knn_compare_model')"
   ]
  },
  {
   "cell_type": "code",
   "execution_count": 50,
   "id": "4f61442e",
   "metadata": {},
   "outputs": [
    {
     "name": "stdout",
     "output_type": "stream",
     "text": [
      "Accuracy of K-NN classifier on training set: 0.71\n",
      "Accuracy of K-NN classifier on test set: 0.53\n"
     ]
    }
   ],
   "source": [
    "knn = KNeighborsClassifier(n_neighbors=4)\n",
    "knn.fit(xtrain, ytrain)\n",
    "\n",
    "print('Accuracy of K-NN classifier on training set: {:.2f}'.format(knn.score(xtrain, ytrain)))\n",
    "print('Accuracy of K-NN classifier on test set: {:.2f}'.format(knn.score(xtest, ytest)))"
   ]
  },
  {
   "cell_type": "code",
   "execution_count": 51,
   "id": "3fef09e9",
   "metadata": {},
   "outputs": [
    {
     "name": "stdout",
     "output_type": "stream",
     "text": [
      "              precision    recall  f1-score   support\n",
      "\n",
      "           0       0.70      0.80      0.74        20\n",
      "           1       0.39      0.37      0.38        19\n",
      "           2       0.47      0.45      0.46        20\n",
      "           3       0.52      0.50      0.51        22\n",
      "\n",
      "    accuracy                           0.53        81\n",
      "   macro avg       0.52      0.53      0.52        81\n",
      "weighted avg       0.52      0.53      0.53        81\n",
      "\n"
     ]
    }
   ],
   "source": [
    "predictions1 = knn.predict(xtest)\n",
    "print (classification_report(ytest, predictions1))"
   ]
  },
  {
   "cell_type": "code",
   "execution_count": 52,
   "id": "7f41303a",
   "metadata": {},
   "outputs": [
    {
     "name": "stdout",
     "output_type": "stream",
     "text": [
      "Accuracy: 0.5679012345679012\n",
      "Accuracy: 0.5802469135802469\n",
      "Accuracy: 0.5679012345679012\n",
      "Accuracy: 0.5925925925925926\n",
      "Accuracy: 0.5802469135802469\n",
      "Accuracy: 0.5308641975308642\n",
      "Accuracy: 0.5555555555555556\n",
      "Accuracy: 0.5555555555555556\n",
      "Accuracy: 0.5679012345679012\n",
      "Accuracy: 0.6172839506172839\n",
      "Accuracy: 0.5555555555555556\n",
      "Accuracy: 0.5061728395061729\n",
      "Accuracy: 0.6049382716049383\n",
      "Accuracy: 0.5308641975308642\n",
      "Accuracy: 0.5432098765432098\n",
      "Accuracy: 0.5185185185185185\n",
      "Accuracy: 0.4444444444444444\n",
      "Accuracy: 0.49382716049382713\n",
      "Accuracy: 0.4691358024691358\n",
      "Accuracy: 0.5679012345679012\n",
      "Accuracy: 0.6419753086419753\n",
      "Accuracy: 0.5432098765432098\n",
      "Accuracy: 0.5061728395061729\n",
      "Accuracy: 0.4691358024691358\n",
      "Accuracy: 0.5555555555555556\n",
      "Accuracy: 0.43209876543209874\n",
      "Accuracy: 0.4567901234567901\n",
      "Accuracy: 0.41975308641975306\n",
      "Accuracy: 0.5432098765432098\n",
      "Accuracy: 0.6172839506172839\n",
      "Accuracy: 0.5802469135802469\n",
      "Accuracy: 0.5925925925925926\n",
      "Accuracy: 0.5679012345679012\n",
      "Accuracy: 0.5679012345679012\n",
      "Accuracy: 0.5185185185185185\n",
      "Accuracy: 0.48148148148148145\n",
      "Accuracy: 0.5802469135802469\n",
      "Accuracy: 0.5679012345679012\n",
      "Accuracy: 0.5802469135802469\n",
      "Accuracy: 0.49382716049382713\n",
      "Accuracy: 0.48148148148148145\n",
      "Accuracy: 0.5061728395061729\n",
      "Accuracy: 0.5185185185185185\n",
      "Accuracy: 0.5679012345679012\n",
      "Accuracy: 0.5432098765432098\n",
      "Accuracy: 0.5925925925925926\n",
      "Accuracy: 0.5185185185185185\n",
      "Accuracy: 0.5679012345679012\n",
      "Accuracy: 0.43209876543209874\n",
      "Accuracy: 0.5185185185185185\n",
      "Highest Accuracy: 0.6419753086419753\n"
     ]
    }
   ],
   "source": [
    "# Train model multiple times to find the highest accuracy\n",
    "best = 0\n",
    "for _ in range(50):\n",
    "    xtrain, xtest, ytrain, ytest = sklearn.model_selection.train_test_split(X_for_ML, label1, test_size =0.25)\n",
    "\n",
    "    knn = KNeighborsClassifier(n_neighbors=4)\n",
    "    knn.fit(xtrain, ytrain)\n",
    "\n",
    "    \n",
    "    acc = knn.score(xtest, ytest)\n",
    "    print(\"Accuracy: \" + str(acc))\n",
    "\n",
    "    # Save the highest accuracy\n",
    "    if (acc > best):\n",
    "        best = acc\n",
    "#         with open(\"data1.pickle\", \"wb\") as f:\n",
    "#             pickle.dump(knn, f)\n",
    "print(\"Highest Accuracy:\", best)"
   ]
  },
  {
   "cell_type": "markdown",
   "id": "d2be37ea",
   "metadata": {},
   "source": [
    "# Decision Tree"
   ]
  },
  {
   "cell_type": "code",
   "execution_count": 53,
   "id": "57aa5125",
   "metadata": {},
   "outputs": [
    {
     "name": "stdout",
     "output_type": "stream",
     "text": [
      "Accuracy on training set: 1.000\n",
      "Accuracy on test set: 0.580\n"
     ]
    }
   ],
   "source": [
    "from sklearn.tree import DecisionTreeClassifier\n",
    "\n",
    "tree = DecisionTreeClassifier(random_state=0)\n",
    "tree.fit(xtrain, ytrain)\n",
    "print(\"Accuracy on training set: {:.3f}\".format(tree.score(xtrain, ytrain)))\n",
    "print(\"Accuracy on test set: {:.3f}\".format(tree.score(xtest, ytest)))"
   ]
  },
  {
   "cell_type": "code",
   "execution_count": 54,
   "id": "52ca49a9",
   "metadata": {},
   "outputs": [
    {
     "name": "stdout",
     "output_type": "stream",
     "text": [
      "Accuracy on training set: 0.775\n",
      "Accuracy on test set: 0.605\n"
     ]
    }
   ],
   "source": [
    "tree = DecisionTreeClassifier(max_depth=4, random_state=1)\n",
    "tree.fit(xtrain, ytrain)\n",
    "\n",
    "print(\"Accuracy on training set: {:.3f}\".format(tree.score(xtrain, ytrain)))\n",
    "print(\"Accuracy on test set: {:.3f}\".format(tree.score(xtest, ytest)))\n"
   ]
  },
  {
   "cell_type": "code",
   "execution_count": 55,
   "id": "c4d9e9ac",
   "metadata": {},
   "outputs": [
    {
     "name": "stdout",
     "output_type": "stream",
     "text": [
      "Accuracy: 0.5061728395061729\n",
      "Accuracy: 0.5679012345679012\n",
      "Accuracy: 0.691358024691358\n",
      "Accuracy: 0.6790123456790124\n",
      "Accuracy: 0.6666666666666666\n",
      "Accuracy: 0.6666666666666666\n",
      "Accuracy: 0.5925925925925926\n",
      "Accuracy: 0.6666666666666666\n",
      "Accuracy: 0.5679012345679012\n",
      "Accuracy: 0.6666666666666666\n",
      "Accuracy: 0.5679012345679012\n",
      "Accuracy: 0.6666666666666666\n",
      "Accuracy: 0.5925925925925926\n",
      "Accuracy: 0.654320987654321\n",
      "Accuracy: 0.691358024691358\n",
      "Accuracy: 0.5555555555555556\n",
      "Accuracy: 0.5802469135802469\n",
      "Accuracy: 0.7283950617283951\n",
      "Accuracy: 0.6790123456790124\n",
      "Accuracy: 0.7160493827160493\n",
      "Accuracy: 0.7160493827160493\n",
      "Accuracy: 0.7037037037037037\n",
      "Accuracy: 0.5679012345679012\n",
      "Accuracy: 0.5925925925925926\n",
      "Accuracy: 0.6172839506172839\n",
      "Accuracy: 0.5925925925925926\n",
      "Accuracy: 0.6296296296296297\n",
      "Accuracy: 0.7160493827160493\n",
      "Accuracy: 0.691358024691358\n",
      "Accuracy: 0.6172839506172839\n",
      "Accuracy: 0.7283950617283951\n",
      "Accuracy: 0.5555555555555556\n",
      "Accuracy: 0.654320987654321\n",
      "Accuracy: 0.5308641975308642\n",
      "Accuracy: 0.5925925925925926\n",
      "Accuracy: 0.6049382716049383\n",
      "Accuracy: 0.6419753086419753\n",
      "Accuracy: 0.7160493827160493\n",
      "Accuracy: 0.5925925925925926\n",
      "Accuracy: 0.6419753086419753\n",
      "Accuracy: 0.6790123456790124\n",
      "Accuracy: 0.6049382716049383\n",
      "Accuracy: 0.6296296296296297\n",
      "Accuracy: 0.6790123456790124\n",
      "Accuracy: 0.5555555555555556\n",
      "Accuracy: 0.6049382716049383\n",
      "Accuracy: 0.5308641975308642\n",
      "Accuracy: 0.6790123456790124\n",
      "Accuracy: 0.6419753086419753\n",
      "Accuracy: 0.7160493827160493\n",
      "Highest Accuracy: 0.7283950617283951\n"
     ]
    }
   ],
   "source": [
    "best = 0\n",
    "for _ in range(50):\n",
    "    xtrain, xtest, ytrain, ytest = sklearn.model_selection.train_test_split(X_for_ML, label1, test_size =0.25)\n",
    "\n",
    "    tree = DecisionTreeClassifier(max_depth=4, random_state=1)\n",
    "    tree.fit(xtrain, ytrain)\n",
    "\n",
    "\n",
    "    \n",
    "    acc = tree.score(xtest, ytest)\n",
    "    print(\"Accuracy: \" + str(acc))\n",
    "\n",
    "    # Save the highest accuracy\n",
    "    if (acc > best):\n",
    "        best = acc\n",
    "#         with open(\"data1.pickle\", \"wb\") as f:\n",
    "#             pickle.dump(tree, f)\n",
    "print(\"Highest Accuracy:\", best)"
   ]
  },
  {
   "cell_type": "markdown",
   "id": "2ca8d94d",
   "metadata": {},
   "source": [
    "# RandomForest Classifier"
   ]
  },
  {
   "cell_type": "code",
   "execution_count": 56,
   "id": "e52835cb",
   "metadata": {},
   "outputs": [
    {
     "name": "stdout",
     "output_type": "stream",
     "text": [
      "Accuracy on training set: 1.000\n",
      "Accuracy on test set: 0.753\n"
     ]
    }
   ],
   "source": [
    "from sklearn.ensemble import RandomForestClassifier\n",
    "\n",
    "rf = RandomForestClassifier(n_estimators=100, random_state=0)\n",
    "rf.fit(xtrain, ytrain)\n",
    "print(\"Accuracy on training set: {:.3f}\".format(rf.score(xtrain, ytrain)))\n",
    "print(\"Accuracy on test set: {:.3f}\".format(rf.score(xtest, ytest)))"
   ]
  },
  {
   "cell_type": "code",
   "execution_count": 57,
   "id": "83064c45",
   "metadata": {},
   "outputs": [
    {
     "name": "stdout",
     "output_type": "stream",
     "text": [
      "Accuracy on training set: 0.996\n",
      "Accuracy on test set: 0.728\n"
     ]
    }
   ],
   "source": [
    "rf1 = RandomForestClassifier(max_depth=9, n_estimators=100, random_state=1)\n",
    "rf1.fit(xtrain, ytrain)\n",
    "print(\"Accuracy on training set: {:.3f}\".format(rf1.score(xtrain, ytrain)))\n",
    "print(\"Accuracy on test set: {:.3f}\".format(rf1.score(xtest, ytest)))"
   ]
  },
  {
   "cell_type": "code",
   "execution_count": 58,
   "id": "6479ba44",
   "metadata": {},
   "outputs": [
    {
     "name": "stdout",
     "output_type": "stream",
     "text": [
      "Accuracy: 0.7654320987654321\n",
      "Accuracy: 0.7160493827160493\n",
      "Accuracy: 0.7530864197530864\n",
      "Accuracy: 0.7407407407407407\n",
      "Accuracy: 0.8024691358024691\n",
      "Accuracy: 0.7777777777777778\n",
      "Accuracy: 0.8148148148148148\n",
      "Accuracy: 0.7160493827160493\n",
      "Accuracy: 0.7901234567901234\n",
      "Accuracy: 0.7777777777777778\n",
      "Accuracy: 0.7037037037037037\n",
      "Accuracy: 0.7407407407407407\n",
      "Accuracy: 0.8641975308641975\n",
      "Accuracy: 0.7654320987654321\n",
      "Accuracy: 0.7777777777777778\n",
      "Accuracy: 0.8024691358024691\n",
      "Accuracy: 0.8148148148148148\n",
      "Accuracy: 0.7530864197530864\n",
      "Accuracy: 0.7407407407407407\n",
      "Accuracy: 0.7530864197530864\n",
      "Accuracy: 0.8024691358024691\n",
      "Accuracy: 0.7777777777777778\n",
      "Accuracy: 0.7160493827160493\n",
      "Accuracy: 0.7407407407407407\n",
      "Accuracy: 0.7654320987654321\n",
      "Accuracy: 0.7530864197530864\n",
      "Accuracy: 0.7407407407407407\n",
      "Accuracy: 0.7777777777777778\n",
      "Accuracy: 0.8395061728395061\n",
      "Accuracy: 0.7283950617283951\n",
      "Accuracy: 0.7654320987654321\n",
      "Accuracy: 0.7283950617283951\n",
      "Accuracy: 0.7160493827160493\n",
      "Accuracy: 0.8148148148148148\n",
      "Accuracy: 0.7901234567901234\n",
      "Accuracy: 0.7901234567901234\n",
      "Accuracy: 0.7283950617283951\n",
      "Accuracy: 0.7901234567901234\n",
      "Accuracy: 0.7654320987654321\n",
      "Accuracy: 0.7530864197530864\n",
      "Accuracy: 0.7654320987654321\n",
      "Accuracy: 0.7777777777777778\n",
      "Accuracy: 0.7160493827160493\n",
      "Accuracy: 0.7037037037037037\n",
      "Accuracy: 0.7654320987654321\n",
      "Accuracy: 0.7901234567901234\n",
      "Accuracy: 0.7530864197530864\n",
      "Accuracy: 0.7530864197530864\n",
      "Accuracy: 0.7283950617283951\n",
      "Accuracy: 0.7654320987654321\n",
      "Highest Accuracy: 0.8641975308641975\n"
     ]
    }
   ],
   "source": [
    "best = 0\n",
    "for _ in range(50):\n",
    "    xtrain, xtest, ytrain, ytest = sklearn.model_selection.train_test_split(X_for_ML, label1, test_size =0.25)\n",
    "\n",
    "    rf1 = RandomForestClassifier(max_depth=9, n_estimators=100, random_state=1)\n",
    "    rf1.fit(xtrain, ytrain)\n",
    "\n",
    "\n",
    "    \n",
    "    acc = tree.score(xtest, ytest)\n",
    "    print(\"Accuracy: \" + str(acc))\n",
    "\n",
    "    # Save the highest accuracy\n",
    "    if (acc > best):\n",
    "        best = acc\n",
    "#         with open(\"data1.pickle\", \"wb\") as f:\n",
    "#             pickle.dump(rf1, f)\n",
    "print(\"Highest Accuracy:\", best)"
   ]
  },
  {
   "cell_type": "markdown",
   "id": "5816f48c",
   "metadata": {},
   "source": [
    "# Gradient Boost"
   ]
  },
  {
   "cell_type": "code",
   "execution_count": 59,
   "id": "a9cb2ae5",
   "metadata": {},
   "outputs": [
    {
     "name": "stdout",
     "output_type": "stream",
     "text": [
      "Accuracy on training set: 1.000\n",
      "Accuracy on test set: 0.815\n"
     ]
    }
   ],
   "source": [
    "from sklearn.ensemble import GradientBoostingClassifier\n",
    "\n",
    "gb = GradientBoostingClassifier(random_state=0)\n",
    "gb.fit(xtrain, ytrain)\n",
    "\n",
    "print(\"Accuracy on training set: {:.3f}\".format(gb.score(xtrain, ytrain)))\n",
    "print(\"Accuracy on test set: {:.3f}\".format(gb.score(xtest, ytest)))"
   ]
  },
  {
   "cell_type": "code",
   "execution_count": 60,
   "id": "d60df509",
   "metadata": {},
   "outputs": [
    {
     "name": "stdout",
     "output_type": "stream",
     "text": [
      "Accuracy on training set: 1.000\n",
      "Accuracy on test set: 0.716\n"
     ]
    }
   ],
   "source": [
    "gb1 = GradientBoostingClassifier(random_state=0, max_depth=2)\n",
    "gb1.fit(xtrain, ytrain)\n",
    "\n",
    "print(\"Accuracy on training set: {:.3f}\".format(gb1.score(xtrain, ytrain)))\n",
    "print(\"Accuracy on test set: {:.3f}\".format(gb1.score(xtest, ytest)))\n"
   ]
  },
  {
   "cell_type": "code",
   "execution_count": 61,
   "id": "4ef14c61",
   "metadata": {},
   "outputs": [
    {
     "name": "stdout",
     "output_type": "stream",
     "text": [
      "Accuracy: 0.7530864197530864\n",
      "Accuracy: 0.7283950617283951\n",
      "Accuracy: 0.8395061728395061\n",
      "Accuracy: 0.7407407407407407\n",
      "Accuracy: 0.7777777777777778\n",
      "Accuracy: 0.8024691358024691\n",
      "Accuracy: 0.7654320987654321\n",
      "Accuracy: 0.7901234567901234\n",
      "Accuracy: 0.7901234567901234\n",
      "Accuracy: 0.7037037037037037\n",
      "Accuracy: 0.7901234567901234\n",
      "Accuracy: 0.7530864197530864\n",
      "Accuracy: 0.691358024691358\n",
      "Accuracy: 0.7654320987654321\n",
      "Accuracy: 0.7407407407407407\n",
      "Accuracy: 0.7654320987654321\n",
      "Accuracy: 0.8148148148148148\n",
      "Accuracy: 0.7654320987654321\n",
      "Accuracy: 0.8271604938271605\n",
      "Accuracy: 0.7283950617283951\n",
      "Accuracy: 0.7407407407407407\n",
      "Accuracy: 0.6790123456790124\n",
      "Accuracy: 0.7777777777777778\n",
      "Accuracy: 0.8024691358024691\n",
      "Accuracy: 0.8024691358024691\n",
      "Accuracy: 0.8024691358024691\n",
      "Accuracy: 0.7530864197530864\n",
      "Accuracy: 0.7530864197530864\n",
      "Accuracy: 0.7407407407407407\n",
      "Accuracy: 0.8518518518518519\n",
      "Accuracy: 0.8271604938271605\n",
      "Accuracy: 0.8148148148148148\n",
      "Accuracy: 0.6666666666666666\n",
      "Accuracy: 0.7777777777777778\n",
      "Accuracy: 0.7407407407407407\n",
      "Accuracy: 0.7530864197530864\n",
      "Accuracy: 0.7901234567901234\n",
      "Accuracy: 0.7654320987654321\n",
      "Accuracy: 0.8518518518518519\n",
      "Accuracy: 0.7160493827160493\n",
      "Accuracy: 0.7901234567901234\n",
      "Accuracy: 0.8148148148148148\n",
      "Accuracy: 0.7901234567901234\n",
      "Accuracy: 0.8024691358024691\n",
      "Accuracy: 0.7530864197530864\n",
      "Accuracy: 0.7407407407407407\n",
      "Accuracy: 0.7530864197530864\n",
      "Accuracy: 0.8395061728395061\n",
      "Accuracy: 0.7530864197530864\n",
      "Accuracy: 0.7407407407407407\n",
      "Highest Accuracy: 0.8518518518518519\n"
     ]
    }
   ],
   "source": [
    "best = 0\n",
    "for _ in range(50):\n",
    "    xtrain, xtest, ytrain, ytest = sklearn.model_selection.train_test_split(X_for_ML, label1, test_size =0.25)\n",
    "\n",
    "    gb1 = GradientBoostingClassifier(random_state=0, max_depth=2)\n",
    "    gb1.fit(xtrain, ytrain)\n",
    "\n",
    "\n",
    "\n",
    "    \n",
    "    acc = tree.score(xtest, ytest)\n",
    "    print(\"Accuracy: \" + str(acc))\n",
    "\n",
    "    # Save the highest accuracy\n",
    "    if (acc > best):\n",
    "        best = acc\n",
    "#         with open(\"data1.pickle\", \"wb\") as f:\n",
    "#             pickle.dump(gb1, f)\n",
    "print(\"Highest Accuracy:\", best)"
   ]
  },
  {
   "cell_type": "markdown",
   "id": "5d531b24",
   "metadata": {},
   "source": [
    "# Support Vector Machine"
   ]
  },
  {
   "cell_type": "code",
   "execution_count": 62,
   "id": "c1e73b7a",
   "metadata": {},
   "outputs": [
    {
     "name": "stdout",
     "output_type": "stream",
     "text": [
      "Accuracy on training set: 0.54\n",
      "Accuracy on test set: 0.52\n"
     ]
    }
   ],
   "source": [
    "from sklearn.svm import SVC\n",
    "\n",
    "svc = SVC()\n",
    "svc.fit(xtrain, ytrain)\n",
    "\n",
    "print(\"Accuracy on training set: {:.2f}\".format(svc.score(xtrain, ytrain)))\n",
    "print(\"Accuracy on test set: {:.2f}\".format(svc.score(xtest, ytest)))"
   ]
  },
  {
   "cell_type": "code",
   "execution_count": 63,
   "id": "204948c1",
   "metadata": {},
   "outputs": [
    {
     "name": "stdout",
     "output_type": "stream",
     "text": [
      "Accuracy: 0.8148148148148148\n",
      "Accuracy: 0.7530864197530864\n",
      "Accuracy: 0.691358024691358\n",
      "Accuracy: 0.7037037037037037\n",
      "Accuracy: 0.691358024691358\n",
      "Accuracy: 0.7530864197530864\n",
      "Accuracy: 0.8518518518518519\n",
      "Accuracy: 0.7777777777777778\n",
      "Accuracy: 0.7654320987654321\n",
      "Accuracy: 0.7407407407407407\n",
      "Accuracy: 0.7654320987654321\n",
      "Accuracy: 0.7283950617283951\n",
      "Accuracy: 0.7654320987654321\n",
      "Accuracy: 0.7654320987654321\n",
      "Accuracy: 0.6666666666666666\n",
      "Accuracy: 0.7407407407407407\n",
      "Accuracy: 0.8271604938271605\n",
      "Accuracy: 0.6419753086419753\n",
      "Accuracy: 0.7283950617283951\n",
      "Accuracy: 0.8271604938271605\n",
      "Accuracy: 0.8518518518518519\n",
      "Accuracy: 0.7407407407407407\n",
      "Accuracy: 0.7901234567901234\n",
      "Accuracy: 0.7901234567901234\n",
      "Accuracy: 0.7407407407407407\n",
      "Accuracy: 0.7530864197530864\n",
      "Accuracy: 0.7037037037037037\n",
      "Accuracy: 0.7777777777777778\n",
      "Accuracy: 0.7530864197530864\n",
      "Accuracy: 0.8024691358024691\n",
      "Accuracy: 0.7407407407407407\n",
      "Accuracy: 0.7037037037037037\n",
      "Accuracy: 0.7530864197530864\n",
      "Accuracy: 0.8024691358024691\n",
      "Accuracy: 0.691358024691358\n",
      "Accuracy: 0.7407407407407407\n",
      "Accuracy: 0.8271604938271605\n",
      "Accuracy: 0.7283950617283951\n",
      "Accuracy: 0.7654320987654321\n",
      "Accuracy: 0.7530864197530864\n",
      "Accuracy: 0.691358024691358\n",
      "Accuracy: 0.7777777777777778\n",
      "Accuracy: 0.8271604938271605\n",
      "Accuracy: 0.7407407407407407\n",
      "Accuracy: 0.8024691358024691\n",
      "Accuracy: 0.8148148148148148\n",
      "Accuracy: 0.7530864197530864\n",
      "Accuracy: 0.8271604938271605\n",
      "Accuracy: 0.7654320987654321\n",
      "Accuracy: 0.8024691358024691\n",
      "Highest Accuracy: 0.8518518518518519\n"
     ]
    }
   ],
   "source": [
    "best = 0\n",
    "for _ in range(50):\n",
    "    xtrain, xtest, ytrain, ytest = sklearn.model_selection.train_test_split(X_for_ML, label1, test_size =0.25)\n",
    "\n",
    "    svc = SVC()\n",
    "    svc.fit(xtrain, ytrain)\n",
    "\n",
    "\n",
    "    \n",
    "    acc = tree.score(xtest, ytest)\n",
    "    print(\"Accuracy: \" + str(acc))\n",
    "\n",
    "    # Save the highest accuracy\n",
    "    if (acc > best):\n",
    "        best = acc\n",
    "#         with open(\"data1.pickle\", \"wb\") as f:\n",
    "#             pickle.dump(svc, f)\n",
    "print(\"Highest Accuracy:\", best)"
   ]
  },
  {
   "cell_type": "markdown",
   "id": "7580daa6",
   "metadata": {},
   "source": [
    "# Gaussian Naive Bayes"
   ]
  },
  {
   "cell_type": "code",
   "execution_count": 64,
   "id": "f447336d",
   "metadata": {},
   "outputs": [
    {
     "name": "stdout",
     "output_type": "stream",
     "text": [
      "[0 0 2 0 2 0 1 1 2 2 1 1 0 2 1 1 2 1 0 1 2 1 2 2 2 2 3 1 0 2 1 0 3 3 0 2 2\n",
      " 2 3 0 0 1 0 3 2 0 3 0 0 1 1 1 0 0 0 1 0 1 2 0 0 3 3 2 2 2 0 2 2 2 2 3 2 0\n",
      " 0 0 2 3 2 3 0]\n"
     ]
    }
   ],
   "source": [
    "from sklearn.naive_bayes import GaussianNB\n",
    "model=GaussianNB()\n",
    "model.fit(xtrain, ytrain)\n",
    "\n",
    "y_pred_nb = model.predict(xtest)\n",
    "print(y_pred_nb)"
   ]
  },
  {
   "cell_type": "code",
   "execution_count": 65,
   "id": "da7b5090",
   "metadata": {},
   "outputs": [
    {
     "name": "stdout",
     "output_type": "stream",
     "text": [
      "Accuracy on training set: 0.61\n",
      "Accuracy on test set: 0.68\n"
     ]
    }
   ],
   "source": [
    "print(\"Accuracy on training set: {:.2f}\".format(model.score(xtrain, ytrain)))\n",
    "print(\"Accuracy on test set: {:.2f}\".format(model.score(xtest, ytest)))"
   ]
  },
  {
   "cell_type": "code",
   "execution_count": 66,
   "id": "fad81da0",
   "metadata": {},
   "outputs": [
    {
     "name": "stdout",
     "output_type": "stream",
     "text": [
      "The accuracy score using Naive Bayes is: 67.9 %\n"
     ]
    }
   ],
   "source": [
    "score_nb = round(accuracy_score(y_pred_nb,ytest)*100,2)\n",
    "\n",
    "print(\"The accuracy score using Naive Bayes is: \"+str(score_nb)+\" %\")\n"
   ]
  },
  {
   "cell_type": "code",
   "execution_count": 67,
   "id": "01bd169f",
   "metadata": {},
   "outputs": [
    {
     "name": "stdout",
     "output_type": "stream",
     "text": [
      "Accuracy: 0.7530864197530864\n",
      "Accuracy: 0.7283950617283951\n",
      "Accuracy: 0.6666666666666666\n",
      "Accuracy: 0.7901234567901234\n",
      "Accuracy: 0.7037037037037037\n",
      "Accuracy: 0.7777777777777778\n",
      "Accuracy: 0.7530864197530864\n",
      "Accuracy: 0.8024691358024691\n",
      "Accuracy: 0.7530864197530864\n",
      "Accuracy: 0.8024691358024691\n",
      "Accuracy: 0.7654320987654321\n",
      "Accuracy: 0.7777777777777778\n",
      "Accuracy: 0.7777777777777778\n",
      "Accuracy: 0.7654320987654321\n",
      "Accuracy: 0.7654320987654321\n",
      "Accuracy: 0.7530864197530864\n",
      "Accuracy: 0.7777777777777778\n",
      "Accuracy: 0.7530864197530864\n",
      "Accuracy: 0.8518518518518519\n",
      "Accuracy: 0.7901234567901234\n",
      "Accuracy: 0.8395061728395061\n",
      "Accuracy: 0.6790123456790124\n",
      "Accuracy: 0.8271604938271605\n",
      "Accuracy: 0.7283950617283951\n",
      "Accuracy: 0.7407407407407407\n",
      "Accuracy: 0.8024691358024691\n",
      "Accuracy: 0.8271604938271605\n",
      "Accuracy: 0.7530864197530864\n",
      "Accuracy: 0.7654320987654321\n",
      "Accuracy: 0.7901234567901234\n",
      "Accuracy: 0.7037037037037037\n",
      "Accuracy: 0.8271604938271605\n",
      "Accuracy: 0.8024691358024691\n",
      "Accuracy: 0.691358024691358\n",
      "Accuracy: 0.7901234567901234\n",
      "Accuracy: 0.7654320987654321\n",
      "Accuracy: 0.7530864197530864\n",
      "Accuracy: 0.7407407407407407\n",
      "Accuracy: 0.7654320987654321\n",
      "Accuracy: 0.8148148148148148\n",
      "Accuracy: 0.8148148148148148\n",
      "Accuracy: 0.8148148148148148\n",
      "Accuracy: 0.7777777777777778\n",
      "Accuracy: 0.7283950617283951\n",
      "Accuracy: 0.7037037037037037\n",
      "Accuracy: 0.7654320987654321\n",
      "Accuracy: 0.7901234567901234\n",
      "Accuracy: 0.7654320987654321\n",
      "Accuracy: 0.7777777777777778\n",
      "Accuracy: 0.691358024691358\n",
      "Highest Accuracy: 0.8518518518518519\n"
     ]
    }
   ],
   "source": [
    "best = 0\n",
    "for _ in range(50):\n",
    "    xtrain, xtest, ytrain, ytest = sklearn.model_selection.train_test_split(X_for_ML, label1, test_size =0.25)\n",
    "\n",
    "    model=GaussianNB()\n",
    "    model.fit(xtrain, ytrain)\n",
    "\n",
    "\n",
    "    \n",
    "    acc = tree.score(xtest, ytest)\n",
    "    print(\"Accuracy: \" + str(acc))\n",
    "\n",
    "    # Save the highest accuracy\n",
    "    if (acc > best):\n",
    "        best = acc\n",
    "#         with open(\"data1.pickle\", \"wb\") as f:\n",
    "#             pickle.dump(model, f)\n",
    "print(\"Highest Accuracy:\", best)"
   ]
  },
  {
   "cell_type": "code",
   "execution_count": 68,
   "id": "d41a4513",
   "metadata": {},
   "outputs": [
    {
     "data": {
      "text/plain": [
       "<AxesSubplot:>"
      ]
     },
     "execution_count": 68,
     "metadata": {},
     "output_type": "execute_result"
    },
    {
     "data": {
      "image/png": "[encoded data removed]",
      "text/plain": [
       "<Figure size 432x288 with 2 Axes>"
      ]
     },
     "metadata": {
      "needs_background": "light"
     },
     "output_type": "display_data"
    }
   ],
   "source": [
    "from sklearn.metrics import confusion_matrix\n",
    "matrix= confusion_matrix(ytest, y_pred_nb)\n",
    "\n",
    "sns.heatmap(matrix,annot = True, fmt = \"d\")"
   ]
  },
  {
   "cell_type": "markdown",
   "id": "9fc0be18",
   "metadata": {},
   "source": [
    "# Neural Networks"
   ]
  },
  {
   "cell_type": "code",
   "execution_count": 69,
   "id": "d2b2f043",
   "metadata": {},
   "outputs": [
    {
     "name": "stdout",
     "output_type": "stream",
     "text": [
      "Accuracy on training set: 0.45\n",
      "Accuracy on test set: 0.42\n"
     ]
    }
   ],
   "source": [
    "from sklearn.neural_network import MLPClassifier\n",
    "\n",
    "mlp = MLPClassifier(random_state=42)\n",
    "mlp.fit(xtrain, ytrain)\n",
    "\n",
    "print(\"Accuracy on training set: {:.2f}\".format(mlp.score(xtrain, ytrain)))\n",
    "print(\"Accuracy on test set: {:.2f}\".format(mlp.score(xtest, ytest)))"
   ]
  },
  {
   "cell_type": "code",
   "execution_count": 70,
   "id": "0ff29cc3",
   "metadata": {},
   "outputs": [
    {
     "name": "stdout",
     "output_type": "stream",
     "text": [
      "Accuracy on training set: 0.850\n",
      "Accuracy on test set: 0.765\n"
     ]
    },
    {
     "name": "stderr",
     "output_type": "stream",
     "text": [
      "C:\\ProgramData\\Anaconda3\\lib\\site-packages\\sklearn\\neural_network\\_multilayer_perceptron.py:614: ConvergenceWarning: Stochastic Optimizer: Maximum iterations (200) reached and the optimization hasn't converged yet.\n",
      "  warnings.warn(\n"
     ]
    }
   ],
   "source": [
    "from sklearn.preprocessing import StandardScaler\n",
    "\n",
    "scaler = StandardScaler()\n",
    "X_train_scaled = scaler.fit_transform(xtrain)\n",
    "X_test_scaled = scaler.fit_transform(xtest)\n",
    "\n",
    "mlp = MLPClassifier(random_state=0)\n",
    "mlp.fit(X_train_scaled, ytrain)\n",
    "\n",
    "print(\"Accuracy on training set: {:.3f}\".format(\n",
    "    mlp.score(X_train_scaled, ytrain)))\n",
    "print(\"Accuracy on test set: {:.3f}\".format(mlp.score(X_test_scaled, ytest)))"
   ]
  },
  {
   "cell_type": "code",
   "execution_count": 71,
   "id": "6385ad02",
   "metadata": {},
   "outputs": [
    {
     "name": "stdout",
     "output_type": "stream",
     "text": [
      "Accuracy on training set: 0.838\n",
      "Accuracy on test set: 0.802\n"
     ]
    }
   ],
   "source": [
    "mlp = MLPClassifier(max_iter=1000, alpha=1, random_state=0)\n",
    "mlp.fit(X_train_scaled, ytrain)\n",
    "\n",
    "print(\"Accuracy on training set: {:.3f}\".format(\n",
    "    mlp.score(X_train_scaled, ytrain)))\n",
    "print(\"Accuracy on test set: {:.3f}\".format(mlp.score(X_test_scaled, ytest)))"
   ]
  },
  {
   "cell_type": "code",
   "execution_count": 72,
   "id": "0acf193d",
   "metadata": {},
   "outputs": [
    {
     "name": "stdout",
     "output_type": "stream",
     "text": [
      "Accuracy: 0.7901234567901234\n",
      "Accuracy: 0.7407407407407407\n",
      "Accuracy: 0.7283950617283951\n",
      "Accuracy: 0.8271604938271605\n",
      "Accuracy: 0.8518518518518519\n",
      "Accuracy: 0.7777777777777778\n",
      "Accuracy: 0.7283950617283951\n",
      "Accuracy: 0.7654320987654321\n",
      "Accuracy: 0.7160493827160493\n",
      "Accuracy: 0.7407407407407407\n",
      "Accuracy: 0.8024691358024691\n",
      "Accuracy: 0.7160493827160493\n",
      "Accuracy: 0.8148148148148148\n",
      "Accuracy: 0.7654320987654321\n",
      "Accuracy: 0.8024691358024691\n",
      "Accuracy: 0.8024691358024691\n",
      "Accuracy: 0.7407407407407407\n",
      "Accuracy: 0.7654320987654321\n",
      "Accuracy: 0.7777777777777778\n",
      "Accuracy: 0.7777777777777778\n",
      "Accuracy: 0.7160493827160493\n",
      "Accuracy: 0.7283950617283951\n",
      "Accuracy: 0.7654320987654321\n",
      "Accuracy: 0.8024691358024691\n",
      "Accuracy: 0.8271604938271605\n",
      "Accuracy: 0.8271604938271605\n",
      "Accuracy: 0.8148148148148148\n",
      "Accuracy: 0.7901234567901234\n",
      "Accuracy: 0.7283950617283951\n",
      "Accuracy: 0.7407407407407407\n",
      "Accuracy: 0.8024691358024691\n",
      "Accuracy: 0.7777777777777778\n",
      "Accuracy: 0.8395061728395061\n",
      "Accuracy: 0.7654320987654321\n",
      "Accuracy: 0.6790123456790124\n",
      "Accuracy: 0.7654320987654321\n",
      "Accuracy: 0.7530864197530864\n",
      "Accuracy: 0.7777777777777778\n",
      "Accuracy: 0.7777777777777778\n",
      "Accuracy: 0.7777777777777778\n",
      "Accuracy: 0.7037037037037037\n",
      "Accuracy: 0.6790123456790124\n",
      "Accuracy: 0.7160493827160493\n",
      "Accuracy: 0.8271604938271605\n",
      "Accuracy: 0.7037037037037037\n",
      "Accuracy: 0.7777777777777778\n",
      "Accuracy: 0.8395061728395061\n",
      "Accuracy: 0.7901234567901234\n",
      "Accuracy: 0.8271604938271605\n",
      "Accuracy: 0.7654320987654321\n",
      "Highest Accuracy: 0.8518518518518519\n"
     ]
    }
   ],
   "source": [
    "best = 0\n",
    "for _ in range(50):\n",
    "    xtrain, xtest, ytrain, ytest = sklearn.model_selection.train_test_split(X_for_ML, label1, test_size =0.25)\n",
    "\n",
    "    mlp = MLPClassifier(max_iter=1000, alpha=1, random_state=0)\n",
    "    mlp.fit(X_train_scaled, ytrain)\n",
    "\n",
    "\n",
    "\n",
    "    \n",
    "    acc = tree.score(xtest, ytest)\n",
    "    print(\"Accuracy: \" + str(acc))\n",
    "\n",
    "    # Save the highest accuracy\n",
    "    if (acc > best):\n",
    "        best = acc\n",
    "#         with open(\"data1.pickle\", \"wb\") as f:\n",
    "#             pickle.dump(mlp, f)\n",
    "print(\"Highest Accuracy:\", best)"
   ]
  },
  {
   "cell_type": "code",
   "execution_count": null,
   "id": "48690380",
   "metadata": {},
   "outputs": [],
   "source": []
  }
 ],
 "metadata": {
  "kernelspec": {
   "display_name": "Python 3 (ipykernel)",
   "language": "python",
   "name": "python3"
  },
  "language_info": {
   "codemirror_mode": {
    "name": "ipython",
    "version": 3
   },
   "file_extension": ".py",
   "mimetype": "text/x-python",
   "name": "python",
   "nbconvert_exporter": "python",
   "pygments_lexer": "ipython3",
   "version": "3.9.7"
  }
 },
 "nbformat": 4,
 "nbformat_minor": 5
}

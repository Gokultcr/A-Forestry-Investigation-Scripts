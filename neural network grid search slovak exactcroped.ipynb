{
 "cells": [
  {
   "cell_type": "markdown",
   "id": "e8afd8d8-bb39-4ffb-b1b5-24af1f1e42bc",
   "metadata": {},
   "source": [
    "# NLP Grid search"
   ]
  },
  {
   "cell_type": "markdown",
   "id": "a22ce0cd-053c-4af6-b05b-73765dc1749d",
   "metadata": {},
   "source": [
    "### Import libraries"
   ]
  },
  {
   "cell_type": "code",
   "execution_count": 1,
   "id": "13a1251d",
   "metadata": {},
   "outputs": [],
   "source": [
    "import os\n",
    "import pandas as pd\n",
    "import numpy as np\n",
    "import cv2\n",
    "import matplotlib.pyplot as plt\n",
    "import pickle\n",
    "import random\n",
    "from sklearn.model_selection import train_test_split\n",
    "from sklearn.svm import SVC\n",
    "from sklearn.metrics import accuracy_score\n",
    "import seaborn as sns\n",
    "import sklearn\n",
    "from sklearn.metrics import confusion_matrix\n",
    "from sklearn.model_selection import GridSearchCV\n",
    "from pprint import pprint\n",
    "from sklearn.metrics import classification_report\n",
    "from skimage.feature import greycomatrix, greycoprops"
   ]
  },
  {
   "cell_type": "markdown",
   "id": "5c4afb68-7abe-4def-a0fa-1d494af0d365",
   "metadata": {},
   "source": [
    "### Define dataset and labels"
   ]
  },
  {
   "cell_type": "code",
   "execution_count": 2,
   "id": "38d1f374",
   "metadata": {},
   "outputs": [],
   "source": [
    "dire=\"D:/Individual_Trees_photos/exatctcrop\"\n",
    "categories= ['European beech', 'European silver fir', 'Norway spruce', 'Sessile oak']\n",
    "\n",
    "data =[]\n",
    "SIZE = 200\n",
    "images =[]\n",
    "label1 =[]\n",
    "for category in categories:\n",
    "    path = os.path.join(dire, category)\n",
    "    label = categories.index(category)\n",
    "    \n",
    "    \n",
    "    for img in os.listdir(path):\n",
    "        imgpath = os.path.join(path,img)\n",
    "        tree_img = cv2.imread(imgpath,0)\n",
    "        try:\n",
    "            tree_img = cv2.resize(tree_img, (SIZE, SIZE)) #Resize images\n",
    "            #tree_img = cv2.resize(tree_img,(50,50))\n",
    "            image = np.array(tree_img).flatten()\n",
    "        \n",
    "            #data.append([image, label])\n",
    "            images.append(tree_img)\n",
    "            label1.append(label)\n",
    "        except Exception as e:\n",
    "            pass\n",
    "images=np.array(images)   "
   ]
  },
  {
   "cell_type": "markdown",
   "id": "2e637a28-102f-4e46-827e-8dc3c35693d2",
   "metadata": {},
   "source": [
    "### Feature extraction using GLCM"
   ]
  },
  {
   "cell_type": "code",
   "execution_count": 3,
   "id": "c07388df",
   "metadata": {},
   "outputs": [],
   "source": [
    "# FEATURE EXTRACTOR function\n",
    "# input shape is (n, x, y, c) - number of images, x, y, and channels\n",
    "def feature_extractor(dataset):\n",
    "    image_dataset = pd.DataFrame()\n",
    "    for image in range(dataset.shape[0]):  #iterate through each file \n",
    "        #print(image)\n",
    "        \n",
    "        df = pd.DataFrame()  #Temporary data frame to capture information for each loop.\n",
    "        #Reset dataframe to blank after each loop.\n",
    "        \n",
    "        img = dataset[image, :,:]\n",
    "        \n",
    "        #Full image\n",
    "        #GLCM = greycomatrix(img, [1], [0, np.pi/4, np.pi/2, 3*np.pi/4])\n",
    "        GLCM = greycomatrix(img, [1], [0])       \n",
    "        GLCM_Energy = greycoprops(GLCM, 'energy')[0]\n",
    "        df['Energy'] = GLCM_Energy\n",
    "        GLCM_corr = greycoprops(GLCM, 'correlation')[0]\n",
    "        df['Corr'] = GLCM_corr       \n",
    "        GLCM_diss = greycoprops(GLCM, 'dissimilarity')[0]\n",
    "        df['Diss_sim'] = GLCM_diss       \n",
    "        GLCM_hom = greycoprops(GLCM, 'homogeneity')[0]\n",
    "        df['Homogen'] = GLCM_hom       \n",
    "        GLCM_contr = greycoprops(GLCM, 'contrast')[0]\n",
    "        df['Contrast'] = GLCM_contr\n",
    "        \n",
    "        GLCM2 = greycomatrix(img, [3], [0])       \n",
    "        GLCM_Energy2 = greycoprops(GLCM2, 'energy')[0]\n",
    "        df['Energy2'] = GLCM_Energy2\n",
    "        GLCM_corr2 = greycoprops(GLCM2, 'correlation')[0]\n",
    "        df['Corr2'] = GLCM_corr2       \n",
    "        GLCM_diss2 = greycoprops(GLCM2, 'dissimilarity')[0]\n",
    "        df['Diss_sim2'] = GLCM_diss2       \n",
    "        GLCM_hom2 = greycoprops(GLCM2, 'homogeneity')[0]\n",
    "        df['Homogen2'] = GLCM_hom2       \n",
    "        GLCM_contr2 = greycoprops(GLCM2, 'contrast')[0]\n",
    "        df['Contrast2'] = GLCM_contr2\n",
    "\n",
    "        GLCM3 = greycomatrix(img, [5], [0])       \n",
    "        GLCM_Energy3 = greycoprops(GLCM3, 'energy')[0]\n",
    "        df['Energy3'] = GLCM_Energy3\n",
    "        GLCM_corr3 = greycoprops(GLCM3, 'correlation')[0]\n",
    "        df['Corr3'] = GLCM_corr3       \n",
    "        GLCM_diss3 = greycoprops(GLCM3, 'dissimilarity')[0]\n",
    "        df['Diss_sim3'] = GLCM_diss3       \n",
    "        GLCM_hom3 = greycoprops(GLCM3, 'homogeneity')[0]\n",
    "        df['Homogen3'] = GLCM_hom3       \n",
    "        GLCM_contr3 = greycoprops(GLCM3, 'contrast')[0]\n",
    "        df['Contrast3'] = GLCM_contr3\n",
    "        \n",
    "        GLCM4 = greycomatrix(img, [0], [np.pi/4])       \n",
    "        GLCM_Energy4 = greycoprops(GLCM4, 'energy')[0]\n",
    "        df['Energy4'] = GLCM_Energy4\n",
    "        GLCM_corr4 = greycoprops(GLCM4, 'correlation')[0]\n",
    "        df['Corr4'] = GLCM_corr4       \n",
    "        GLCM_diss4 = greycoprops(GLCM4, 'dissimilarity')[0]\n",
    "        df['Diss_sim4'] = GLCM_diss4       \n",
    "        GLCM_hom4 = greycoprops(GLCM4, 'homogeneity')[0]\n",
    "        df['Homogen4'] = GLCM_hom4       \n",
    "        GLCM_contr4 = greycoprops(GLCM4, 'contrast')[0]\n",
    "        df['Contrast4'] = GLCM_contr4\n",
    "        \n",
    "        GLCM5 = greycomatrix(img, [0], [np.pi/2])       \n",
    "        GLCM_Energy5 = greycoprops(GLCM5, 'energy')[0]\n",
    "        df['Energy5'] = GLCM_Energy5\n",
    "        GLCM_corr5 = greycoprops(GLCM5, 'correlation')[0]\n",
    "        df['Corr5'] = GLCM_corr5       \n",
    "        GLCM_diss5 = greycoprops(GLCM5, 'dissimilarity')[0]\n",
    "        df['Diss_sim5'] = GLCM_diss5       \n",
    "        GLCM_hom5 = greycoprops(GLCM5, 'homogeneity')[0]\n",
    "        df['Homogen5'] = GLCM_hom5       \n",
    "        GLCM_contr5 = greycoprops(GLCM5, 'contrast')[0]\n",
    "        df['Contrast5'] = GLCM_contr5\n",
    "        \n",
    "        #Add more filters as needed\n",
    "        #entropy = shannon_entropy(img)\n",
    "        #df['Entropy'] = entropy\n",
    "\n",
    "        \n",
    "        #Append features from current image to the dataset\n",
    "        image_dataset = image_dataset.append(df)\n",
    "        \n",
    "    return image_dataset"
   ]
  },
  {
   "cell_type": "code",
   "execution_count": 4,
   "id": "afa3d8f1",
   "metadata": {},
   "outputs": [],
   "source": [
    "#Extract features from images\n",
    "image_features = feature_extractor(images)\n",
    "X_for_ML =image_features\n"
   ]
  },
  {
   "cell_type": "markdown",
   "id": "8883714c-a5ef-47d6-ae17-bf2ed138811d",
   "metadata": {},
   "source": [
    "### Train-test split"
   ]
  },
  {
   "cell_type": "code",
   "execution_count": 5,
   "id": "fa716e80",
   "metadata": {},
   "outputs": [],
   "source": [
    "#train test\n",
    "\n",
    "xtrain, xtest, ytrain, ytest = train_test_split(X_for_ML, label1, test_size =0.25)"
   ]
  },
  {
   "cell_type": "markdown",
   "id": "fa36ac55-06e2-4529-930c-b8ba244712ac",
   "metadata": {},
   "source": [
    "### Define MLP classifier"
   ]
  },
  {
   "cell_type": "code",
   "execution_count": 6,
   "id": "1a3ad620",
   "metadata": {},
   "outputs": [
    {
     "name": "stdout",
     "output_type": "stream",
     "text": [
      "Accuracy on training set: 0.73\n",
      "Accuracy on test set: 0.70\n"
     ]
    }
   ],
   "source": [
    "from sklearn.neural_network import MLPClassifier\n",
    "\n",
    "mlp = MLPClassifier(random_state=42)\n",
    "mlp.fit(xtrain, ytrain)\n",
    "\n",
    "print(\"Accuracy on training set: {:.2f}\".format(mlp.score(xtrain, ytrain)))\n",
    "print(\"Accuracy on test set: {:.2f}\".format(mlp.score(xtest, ytest)))"
   ]
  },
  {
   "cell_type": "markdown",
   "id": "5a946769-fd6a-4f63-b933-372eeec4fa91",
   "metadata": {},
   "source": [
    "### Scaling"
   ]
  },
  {
   "cell_type": "code",
   "execution_count": 7,
   "id": "15cf401d",
   "metadata": {},
   "outputs": [
    {
     "name": "stdout",
     "output_type": "stream",
     "text": [
      "Accuracy on training set: 0.929\n",
      "Accuracy on test set: 0.848\n"
     ]
    },
    {
     "name": "stderr",
     "output_type": "stream",
     "text": [
      "C:\\ProgramData\\Anaconda3\\lib\\site-packages\\sklearn\\neural_network\\_multilayer_perceptron.py:614: ConvergenceWarning: Stochastic Optimizer: Maximum iterations (200) reached and the optimization hasn't converged yet.\n",
      "  warnings.warn(\n"
     ]
    }
   ],
   "source": [
    "from sklearn.preprocessing import StandardScaler\n",
    "\n",
    "scaler = StandardScaler()\n",
    "X_train_scaled = scaler.fit_transform(xtrain)\n",
    "X_test_scaled = scaler.fit_transform(xtest)\n",
    "\n",
    "mlp = MLPClassifier(random_state=0)\n",
    "mlp.fit(X_train_scaled, ytrain)\n",
    "\n",
    "print(\"Accuracy on training set: {:.3f}\".format(\n",
    "    mlp.score(X_train_scaled, ytrain)))\n",
    "print(\"Accuracy on test set: {:.3f}\".format(mlp.score(X_test_scaled, ytest)))"
   ]
  },
  {
   "cell_type": "code",
   "execution_count": 8,
   "id": "58e19cc0",
   "metadata": {},
   "outputs": [
    {
     "name": "stdout",
     "output_type": "stream",
     "text": [
      "Accuracy on training set: 0.965\n",
      "Accuracy on test set: 0.871\n"
     ]
    }
   ],
   "source": [
    "mlp = MLPClassifier(max_iter=1000, alpha=1, random_state=0)\n",
    "mlp.fit(X_train_scaled, ytrain)\n",
    "\n",
    "print(\"Accuracy on training set: {:.3f}\".format(\n",
    "    mlp.score(X_train_scaled, ytrain)))\n",
    "print(\"Accuracy on test set: {:.3f}\".format(mlp.score(X_test_scaled, ytest)))"
   ]
  },
  {
   "cell_type": "markdown",
   "id": "addf9e29-4c73-4fca-b905-b5c615e14bc1",
   "metadata": {},
   "source": [
    "### finding parameters"
   ]
  },
  {
   "cell_type": "code",
   "execution_count": 9,
   "id": "9c825109",
   "metadata": {},
   "outputs": [
    {
     "name": "stdout",
     "output_type": "stream",
     "text": [
      "{'activation': 'relu',\n",
      " 'alpha': 1,\n",
      " 'batch_size': 'auto',\n",
      " 'beta_1': 0.9,\n",
      " 'beta_2': 0.999,\n",
      " 'early_stopping': False,\n",
      " 'epsilon': 1e-08,\n",
      " 'hidden_layer_sizes': (100,),\n",
      " 'learning_rate': 'constant',\n",
      " 'learning_rate_init': 0.001,\n",
      " 'max_fun': 15000,\n",
      " 'max_iter': 1000,\n",
      " 'momentum': 0.9,\n",
      " 'n_iter_no_change': 10,\n",
      " 'nesterovs_momentum': True,\n",
      " 'power_t': 0.5,\n",
      " 'random_state': 0,\n",
      " 'shuffle': True,\n",
      " 'solver': 'adam',\n",
      " 'tol': 0.0001,\n",
      " 'validation_fraction': 0.1,\n",
      " 'verbose': False,\n",
      " 'warm_start': False}\n"
     ]
    }
   ],
   "source": [
    "pprint(mlp.get_params())"
   ]
  },
  {
   "cell_type": "markdown",
   "id": "20140ab2-dd58-4289-93f4-adb89661f6c0",
   "metadata": {},
   "source": [
    "### Define Grid search"
   ]
  },
  {
   "cell_type": "code",
   "execution_count": null,
   "id": "e948c701",
   "metadata": {},
   "outputs": [],
   "source": [
    "# Define parameters\n",
    "\n",
    "batch_size = [12, 20, 24]\n",
    "\n",
    "hidden_layer_sizes = [20, 50, 100, 150]\n",
    "\n",
    "\n",
    "\n",
    "\n",
    "param_grid1 = dict( batch_size = batch_size, hidden_layer_sizes = hidden_layer_sizes  )\n",
    "\n",
    "# Build the gridsearch\n",
    "dfrst1 = MLPClassifier(batch_size = batch_size, hidden_layer_sizes = hidden_layer_sizes )\n",
    "grid1 = GridSearchCV(estimator=dfrst1, param_grid=param_grid1, cv=5)\n",
    "grid_results1 = grid1.fit(xtrain, ytrain)\n",
    "\n",
    "\n",
    "# Summarize the results in a readable format\n",
    "print(\"Best: {0}, using {1}\".format(grid_results1.cv_results_['mean_test_score'], grid_results1.best_params_))\n",
    "results_df1 = pd.DataFrame(grid_results1.cv_results_)\n",
    "results_df1"
   ]
  }
 ],
 "metadata": {
  "kernelspec": {
   "display_name": "Python 3 (ipykernel)",
   "language": "python",
   "name": "python3"
  },
  "language_info": {
   "codemirror_mode": {
    "name": "ipython",
    "version": 3
   },
   "file_extension": ".py",
   "mimetype": "text/x-python",
   "name": "python",
   "nbconvert_exporter": "python",
   "pygments_lexer": "ipython3",
   "version": "3.11.9"
  }
 },
 "nbformat": 4,
 "nbformat_minor": 5
}
